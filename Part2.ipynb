{
  "nbformat": 4,
  "nbformat_minor": 0,
  "metadata": {
    "colab": {
      "name": "CourseWork_QuestionAnswering_gitHub.ipynb",
      "provenance": [],
      "collapsed_sections": []
    },
    "kernelspec": {
      "name": "python3",
      "display_name": "Python 3"
    },
    "language_info": {
      "name": "python"
    },
    "widgets": {
      "application/vnd.jupyter.widget-state+json": {
        "ca415369b1a446afba00ad220ad082a8": {
          "model_module": "@jupyter-widgets/controls",
          "model_name": "HBoxModel",
          "model_module_version": "1.5.0",
          "state": {
            "_view_name": "HBoxView",
            "_dom_classes": [],
            "_model_name": "HBoxModel",
            "_view_module": "@jupyter-widgets/controls",
            "_model_module_version": "1.5.0",
            "_view_count": null,
            "_view_module_version": "1.5.0",
            "box_style": "",
            "layout": "IPY_MODEL_1416d30e0877416ba40724fa529eda10",
            "_model_module": "@jupyter-widgets/controls",
            "children": [
              "IPY_MODEL_cb494285711c4ea8803b8d856b31e074",
              "IPY_MODEL_2d02e112f9c6406ca1ac7447688782c7",
              "IPY_MODEL_d4d7dbcab3ea4c0698c6268685a197cb"
            ]
          }
        },
        "1416d30e0877416ba40724fa529eda10": {
          "model_module": "@jupyter-widgets/base",
          "model_name": "LayoutModel",
          "model_module_version": "1.2.0",
          "state": {
            "_view_name": "LayoutView",
            "grid_template_rows": null,
            "right": null,
            "justify_content": null,
            "_view_module": "@jupyter-widgets/base",
            "overflow": null,
            "_model_module_version": "1.2.0",
            "_view_count": null,
            "flex_flow": null,
            "width": null,
            "min_width": null,
            "border": null,
            "align_items": null,
            "bottom": null,
            "_model_module": "@jupyter-widgets/base",
            "top": null,
            "grid_column": null,
            "overflow_y": null,
            "overflow_x": null,
            "grid_auto_flow": null,
            "grid_area": null,
            "grid_template_columns": null,
            "flex": null,
            "_model_name": "LayoutModel",
            "justify_items": null,
            "grid_row": null,
            "max_height": null,
            "align_content": null,
            "visibility": null,
            "align_self": null,
            "height": null,
            "min_height": null,
            "padding": null,
            "grid_auto_rows": null,
            "grid_gap": null,
            "max_width": null,
            "order": null,
            "_view_module_version": "1.2.0",
            "grid_template_areas": null,
            "object_position": null,
            "object_fit": null,
            "grid_auto_columns": null,
            "margin": null,
            "display": null,
            "left": null
          }
        },
        "cb494285711c4ea8803b8d856b31e074": {
          "model_module": "@jupyter-widgets/controls",
          "model_name": "HTMLModel",
          "model_module_version": "1.5.0",
          "state": {
            "_view_name": "HTMLView",
            "style": "IPY_MODEL_d917227359484a2283a5d56576a52585",
            "_dom_classes": [],
            "description": "",
            "_model_name": "HTMLModel",
            "placeholder": "​",
            "_view_module": "@jupyter-widgets/controls",
            "_model_module_version": "1.5.0",
            "value": "Downloading: 100%",
            "_view_count": null,
            "_view_module_version": "1.5.0",
            "description_tooltip": null,
            "_model_module": "@jupyter-widgets/controls",
            "layout": "IPY_MODEL_1490b0ddb5904d96bf0c90864633b92b"
          }
        },
        "2d02e112f9c6406ca1ac7447688782c7": {
          "model_module": "@jupyter-widgets/controls",
          "model_name": "FloatProgressModel",
          "model_module_version": "1.5.0",
          "state": {
            "_view_name": "ProgressView",
            "style": "IPY_MODEL_e13dff3558ef4115a17649e653ff37ca",
            "_dom_classes": [],
            "description": "",
            "_model_name": "FloatProgressModel",
            "bar_style": "success",
            "max": 451,
            "_view_module": "@jupyter-widgets/controls",
            "_model_module_version": "1.5.0",
            "value": 451,
            "_view_count": null,
            "_view_module_version": "1.5.0",
            "orientation": "horizontal",
            "min": 0,
            "description_tooltip": null,
            "_model_module": "@jupyter-widgets/controls",
            "layout": "IPY_MODEL_862d16ff2c6148e4a1ccf506c15ce711"
          }
        },
        "d4d7dbcab3ea4c0698c6268685a197cb": {
          "model_module": "@jupyter-widgets/controls",
          "model_name": "HTMLModel",
          "model_module_version": "1.5.0",
          "state": {
            "_view_name": "HTMLView",
            "style": "IPY_MODEL_654d262e91904840add9e81618975cef",
            "_dom_classes": [],
            "description": "",
            "_model_name": "HTMLModel",
            "placeholder": "​",
            "_view_module": "@jupyter-widgets/controls",
            "_model_module_version": "1.5.0",
            "value": " 451/451 [00:00&lt;00:00, 7.64kB/s]",
            "_view_count": null,
            "_view_module_version": "1.5.0",
            "description_tooltip": null,
            "_model_module": "@jupyter-widgets/controls",
            "layout": "IPY_MODEL_e73889d9f612466fb7e8e778e8b5df03"
          }
        },
        "d917227359484a2283a5d56576a52585": {
          "model_module": "@jupyter-widgets/controls",
          "model_name": "DescriptionStyleModel",
          "model_module_version": "1.5.0",
          "state": {
            "_view_name": "StyleView",
            "_model_name": "DescriptionStyleModel",
            "description_width": "",
            "_view_module": "@jupyter-widgets/base",
            "_model_module_version": "1.5.0",
            "_view_count": null,
            "_view_module_version": "1.2.0",
            "_model_module": "@jupyter-widgets/controls"
          }
        },
        "1490b0ddb5904d96bf0c90864633b92b": {
          "model_module": "@jupyter-widgets/base",
          "model_name": "LayoutModel",
          "model_module_version": "1.2.0",
          "state": {
            "_view_name": "LayoutView",
            "grid_template_rows": null,
            "right": null,
            "justify_content": null,
            "_view_module": "@jupyter-widgets/base",
            "overflow": null,
            "_model_module_version": "1.2.0",
            "_view_count": null,
            "flex_flow": null,
            "width": null,
            "min_width": null,
            "border": null,
            "align_items": null,
            "bottom": null,
            "_model_module": "@jupyter-widgets/base",
            "top": null,
            "grid_column": null,
            "overflow_y": null,
            "overflow_x": null,
            "grid_auto_flow": null,
            "grid_area": null,
            "grid_template_columns": null,
            "flex": null,
            "_model_name": "LayoutModel",
            "justify_items": null,
            "grid_row": null,
            "max_height": null,
            "align_content": null,
            "visibility": null,
            "align_self": null,
            "height": null,
            "min_height": null,
            "padding": null,
            "grid_auto_rows": null,
            "grid_gap": null,
            "max_width": null,
            "order": null,
            "_view_module_version": "1.2.0",
            "grid_template_areas": null,
            "object_position": null,
            "object_fit": null,
            "grid_auto_columns": null,
            "margin": null,
            "display": null,
            "left": null
          }
        },
        "e13dff3558ef4115a17649e653ff37ca": {
          "model_module": "@jupyter-widgets/controls",
          "model_name": "ProgressStyleModel",
          "model_module_version": "1.5.0",
          "state": {
            "_view_name": "StyleView",
            "_model_name": "ProgressStyleModel",
            "description_width": "",
            "_view_module": "@jupyter-widgets/base",
            "_model_module_version": "1.5.0",
            "_view_count": null,
            "_view_module_version": "1.2.0",
            "bar_color": null,
            "_model_module": "@jupyter-widgets/controls"
          }
        },
        "862d16ff2c6148e4a1ccf506c15ce711": {
          "model_module": "@jupyter-widgets/base",
          "model_name": "LayoutModel",
          "model_module_version": "1.2.0",
          "state": {
            "_view_name": "LayoutView",
            "grid_template_rows": null,
            "right": null,
            "justify_content": null,
            "_view_module": "@jupyter-widgets/base",
            "overflow": null,
            "_model_module_version": "1.2.0",
            "_view_count": null,
            "flex_flow": null,
            "width": null,
            "min_width": null,
            "border": null,
            "align_items": null,
            "bottom": null,
            "_model_module": "@jupyter-widgets/base",
            "top": null,
            "grid_column": null,
            "overflow_y": null,
            "overflow_x": null,
            "grid_auto_flow": null,
            "grid_area": null,
            "grid_template_columns": null,
            "flex": null,
            "_model_name": "LayoutModel",
            "justify_items": null,
            "grid_row": null,
            "max_height": null,
            "align_content": null,
            "visibility": null,
            "align_self": null,
            "height": null,
            "min_height": null,
            "padding": null,
            "grid_auto_rows": null,
            "grid_gap": null,
            "max_width": null,
            "order": null,
            "_view_module_version": "1.2.0",
            "grid_template_areas": null,
            "object_position": null,
            "object_fit": null,
            "grid_auto_columns": null,
            "margin": null,
            "display": null,
            "left": null
          }
        },
        "654d262e91904840add9e81618975cef": {
          "model_module": "@jupyter-widgets/controls",
          "model_name": "DescriptionStyleModel",
          "model_module_version": "1.5.0",
          "state": {
            "_view_name": "StyleView",
            "_model_name": "DescriptionStyleModel",
            "description_width": "",
            "_view_module": "@jupyter-widgets/base",
            "_model_module_version": "1.5.0",
            "_view_count": null,
            "_view_module_version": "1.2.0",
            "_model_module": "@jupyter-widgets/controls"
          }
        },
        "e73889d9f612466fb7e8e778e8b5df03": {
          "model_module": "@jupyter-widgets/base",
          "model_name": "LayoutModel",
          "model_module_version": "1.2.0",
          "state": {
            "_view_name": "LayoutView",
            "grid_template_rows": null,
            "right": null,
            "justify_content": null,
            "_view_module": "@jupyter-widgets/base",
            "overflow": null,
            "_model_module_version": "1.2.0",
            "_view_count": null,
            "flex_flow": null,
            "width": null,
            "min_width": null,
            "border": null,
            "align_items": null,
            "bottom": null,
            "_model_module": "@jupyter-widgets/base",
            "top": null,
            "grid_column": null,
            "overflow_y": null,
            "overflow_x": null,
            "grid_auto_flow": null,
            "grid_area": null,
            "grid_template_columns": null,
            "flex": null,
            "_model_name": "LayoutModel",
            "justify_items": null,
            "grid_row": null,
            "max_height": null,
            "align_content": null,
            "visibility": null,
            "align_self": null,
            "height": null,
            "min_height": null,
            "padding": null,
            "grid_auto_rows": null,
            "grid_gap": null,
            "max_width": null,
            "order": null,
            "_view_module_version": "1.2.0",
            "grid_template_areas": null,
            "object_position": null,
            "object_fit": null,
            "grid_auto_columns": null,
            "margin": null,
            "display": null,
            "left": null
          }
        }
      }
    },
    "accelerator": "GPU"
  },
  "cells": [
    {
      "cell_type": "markdown",
      "metadata": {
        "id": "m9zRHAPC5nxn"
      },
      "source": [
        "#Reading data"
      ]
    },
    {
      "cell_type": "code",
      "metadata": {
        "colab": {
          "base_uri": "https://localhost:8080/",
          "height": 588
        },
        "id": "-40HnGHy6x5l",
        "outputId": "c600651d-edf2-4bd8-b2c0-21a08835d9f6"
      },
      "source": [
        "import pandas as pd\n",
        "\n",
        "df=pd.read_csv(\n",
        "    'https://raw.githubusercontent.com/nbertagnolli/counsel-chat/master/data/20200325_counsel_chat.csv',\n",
        "    delimiter=','\n",
        ")\n",
        "df.head()"
      ],
      "execution_count": null,
      "outputs": [
        {
          "output_type": "execute_result",
          "data": {
            "text/html": [
              "<div>\n",
              "<style scoped>\n",
              "    .dataframe tbody tr th:only-of-type {\n",
              "        vertical-align: middle;\n",
              "    }\n",
              "\n",
              "    .dataframe tbody tr th {\n",
              "        vertical-align: top;\n",
              "    }\n",
              "\n",
              "    .dataframe thead th {\n",
              "        text-align: right;\n",
              "    }\n",
              "</style>\n",
              "<table border=\"1\" class=\"dataframe\">\n",
              "  <thead>\n",
              "    <tr style=\"text-align: right;\">\n",
              "      <th></th>\n",
              "      <th>Unnamed: 0</th>\n",
              "      <th>questionID</th>\n",
              "      <th>questionTitle</th>\n",
              "      <th>questionText</th>\n",
              "      <th>questionLink</th>\n",
              "      <th>topic</th>\n",
              "      <th>therapistInfo</th>\n",
              "      <th>therapistURL</th>\n",
              "      <th>answerText</th>\n",
              "      <th>upvotes</th>\n",
              "      <th>views</th>\n",
              "      <th>split</th>\n",
              "    </tr>\n",
              "  </thead>\n",
              "  <tbody>\n",
              "    <tr>\n",
              "      <th>0</th>\n",
              "      <td>0</td>\n",
              "      <td>0</td>\n",
              "      <td>Can I change my feeling of being worthless to ...</td>\n",
              "      <td>I'm going through some things with my feelings...</td>\n",
              "      <td>https://counselchat.com/questions/can-i-change...</td>\n",
              "      <td>depression</td>\n",
              "      <td>Sherry Katz, LCSWCouples and Family Therapist,...</td>\n",
              "      <td>https://counselchat.com/therapists/sherry-katz...</td>\n",
              "      <td>If everyone thinks you're worthless, then mayb...</td>\n",
              "      <td>1</td>\n",
              "      <td>2899</td>\n",
              "      <td>train</td>\n",
              "    </tr>\n",
              "    <tr>\n",
              "      <th>1</th>\n",
              "      <td>1</td>\n",
              "      <td>0</td>\n",
              "      <td>Can I change my feeling of being worthless to ...</td>\n",
              "      <td>I'm going through some things with my feelings...</td>\n",
              "      <td>https://counselchat.com/questions/can-i-change...</td>\n",
              "      <td>depression</td>\n",
              "      <td>Robin Landwehr, DBH, LPCC, NCCMental Health in...</td>\n",
              "      <td>https://counselchat.com/therapists/robin-landw...</td>\n",
              "      <td>Hello, and thank you for your question and see...</td>\n",
              "      <td>1</td>\n",
              "      <td>3514</td>\n",
              "      <td>train</td>\n",
              "    </tr>\n",
              "    <tr>\n",
              "      <th>2</th>\n",
              "      <td>2</td>\n",
              "      <td>0</td>\n",
              "      <td>Can I change my feeling of being worthless to ...</td>\n",
              "      <td>I'm going through some things with my feelings...</td>\n",
              "      <td>https://counselchat.com/questions/can-i-change...</td>\n",
              "      <td>depression</td>\n",
              "      <td>Lee KingI use an integrative approach to treat...</td>\n",
              "      <td>https://counselchat.com/therapists/lee-king</td>\n",
              "      <td>First thing I'd suggest is getting the sleep y...</td>\n",
              "      <td>0</td>\n",
              "      <td>5</td>\n",
              "      <td>train</td>\n",
              "    </tr>\n",
              "    <tr>\n",
              "      <th>3</th>\n",
              "      <td>3</td>\n",
              "      <td>0</td>\n",
              "      <td>Can I change my feeling of being worthless to ...</td>\n",
              "      <td>I'm going through some things with my feelings...</td>\n",
              "      <td>https://counselchat.com/questions/can-i-change...</td>\n",
              "      <td>depression</td>\n",
              "      <td>Shauntai Davis-YearginPersonalized, private on...</td>\n",
              "      <td>https://counselchat.com/therapists/shauntai-da...</td>\n",
              "      <td>Therapy is essential for those that are feelin...</td>\n",
              "      <td>0</td>\n",
              "      <td>31</td>\n",
              "      <td>train</td>\n",
              "    </tr>\n",
              "    <tr>\n",
              "      <th>4</th>\n",
              "      <td>4</td>\n",
              "      <td>0</td>\n",
              "      <td>Can I change my feeling of being worthless to ...</td>\n",
              "      <td>I'm going through some things with my feelings...</td>\n",
              "      <td>https://counselchat.com/questions/can-i-change...</td>\n",
              "      <td>depression</td>\n",
              "      <td>Jordan WhiteLicensed Social Worker at Oak Root...</td>\n",
              "      <td>https://counselchat.com/therapists/jordan-white</td>\n",
              "      <td>I first want to let you know that you are not ...</td>\n",
              "      <td>0</td>\n",
              "      <td>620</td>\n",
              "      <td>train</td>\n",
              "    </tr>\n",
              "  </tbody>\n",
              "</table>\n",
              "</div>"
            ],
            "text/plain": [
              "   Unnamed: 0  questionID  ... views  split\n",
              "0           0           0  ...  2899  train\n",
              "1           1           0  ...  3514  train\n",
              "2           2           0  ...     5  train\n",
              "3           3           0  ...    31  train\n",
              "4           4           0  ...   620  train\n",
              "\n",
              "[5 rows x 12 columns]"
            ]
          },
          "metadata": {},
          "execution_count": 1
        }
      ]
    },
    {
      "cell_type": "markdown",
      "metadata": {
        "id": "OLvFqKzEergU"
      },
      "source": [
        "# Preprocessing & Loading into a dataframe"
      ]
    },
    {
      "cell_type": "code",
      "metadata": {
        "id": "bZf7MkfT5xWI",
        "colab": {
          "base_uri": "https://localhost:8080/"
        },
        "outputId": "958531ca-7e3a-420a-9f11-0a099074f12d"
      },
      "source": [
        "# filtering dataframe \n",
        "# selectiong topics \n",
        "topic_list= ['depression' ,'relationships'\t,'intimacy'\t,'anxiety'  ,'family-conflict'  ,\t'parenting' , \t'self-esteem']  \n",
        "filtered_df= df[df.topic.isin(topic_list)]\n",
        "len(filtered_df)"
      ],
      "execution_count": null,
      "outputs": [
        {
          "output_type": "execute_result",
          "data": {
            "text/plain": [
              "1302"
            ]
          },
          "metadata": {},
          "execution_count": 2
        }
      ]
    },
    {
      "cell_type": "code",
      "metadata": {
        "id": "SIyRo9mA7KpI",
        "colab": {
          "base_uri": "https://localhost:8080/"
        },
        "outputId": "66391567-dff4-47f7-c46f-f587d961ac08"
      },
      "source": [
        "filtered_df.loc[filtered_df['questionID']== 1]['upvotes']"
      ],
      "execution_count": null,
      "outputs": [
        {
          "output_type": "execute_result",
          "data": {
            "text/plain": [
              "23    2\n",
              "24    1\n",
              "25    1\n",
              "26    1\n",
              "27    1\n",
              "28    1\n",
              "29    0\n",
              "30    0\n",
              "31    0\n",
              "32    0\n",
              "33    0\n",
              "34    0\n",
              "35    0\n",
              "36    0\n",
              "37    0\n",
              "38    0\n",
              "39    0\n",
              "40    0\n",
              "41    0\n",
              "42    0\n",
              "43    0\n",
              "44    0\n",
              "45    0\n",
              "46    0\n",
              "47    0\n",
              "48    0\n",
              "49    0\n",
              "50    0\n",
              "51    0\n",
              "52    0\n",
              "53    0\n",
              "54    0\n",
              "55    0\n",
              "56    0\n",
              "57    0\n",
              "58    0\n",
              "59    0\n",
              "60    0\n",
              "61    0\n",
              "62    0\n",
              "63    0\n",
              "64    0\n",
              "65    0\n",
              "66    0\n",
              "67    0\n",
              "68    0\n",
              "69    0\n",
              "Name: upvotes, dtype: int64"
            ]
          },
          "metadata": {},
          "execution_count": 3
        }
      ]
    },
    {
      "cell_type": "code",
      "metadata": {
        "colab": {
          "base_uri": "https://localhost:8080/"
        },
        "id": "eN-Z10SOB_9p",
        "outputId": "ce5a8803-d93c-43bd-b90a-8bfc4cfac7bb"
      },
      "source": [
        "# sorting\n",
        "filtered_df=filtered_df.sort_values(by=['upvotes'], ascending=False)\n",
        "# remove duplicated questions \n",
        "filtered_df=filtered_df.drop_duplicates(subset='questionText', keep=\"first\")\n",
        "len(filtered_df)"
      ],
      "execution_count": null,
      "outputs": [
        {
          "output_type": "execute_result",
          "data": {
            "text/plain": [
              "575"
            ]
          },
          "metadata": {},
          "execution_count": 5
        }
      ]
    },
    {
      "cell_type": "code",
      "metadata": {
        "colab": {
          "base_uri": "https://localhost:8080/"
        },
        "id": "LflCO5GItbQJ",
        "outputId": "211b53e2-3b3d-4409-e09e-9858be0389e1"
      },
      "source": [
        "# dividing by topic\n",
        "\n",
        "grouped = filtered_df.groupby('topic')\n",
        "depression = grouped.get_group(\"depression\")\n",
        "depression['topic'].value_counts()\n",
        "\n",
        "# dividing by topic\n",
        "\n",
        "relationships = grouped.get_group(\"relationships\")\n",
        "\n",
        "\n",
        "intimacy = grouped.get_group(\"intimacy\")\n",
        "\n",
        "\n",
        "anxiety = grouped.get_group(\"anxiety\")\n",
        "\n",
        "\n",
        "family_conflict= grouped.get_group(\"family-conflict\")\n",
        "\n",
        "parenting = grouped.get_group(\"parenting\")\n",
        "\n",
        "\n",
        "self_esteem = grouped.get_group(\"self-esteem\")\n",
        "\n",
        "len(depression)"
      ],
      "execution_count": null,
      "outputs": [
        {
          "output_type": "execute_result",
          "data": {
            "text/plain": [
              "132"
            ]
          },
          "metadata": {},
          "execution_count": 6
        }
      ]
    },
    {
      "cell_type": "code",
      "metadata": {
        "colab": {
          "base_uri": "https://localhost:8080/"
        },
        "id": "c20G1ww2gDbk",
        "outputId": "50c880b9-5b78-4e24-ad21-d6d6e762c3b7"
      },
      "source": [
        "# spliting the dataframe into batches \n",
        "import numpy as np \n",
        "df_split = np.array_split(depression,70)\n",
        "df_split_filtered=[]\n",
        "for dataframe in df_split:\n",
        "    if (len(dataframe))>=2:\n",
        "      df_split_filtered.append(dataframe)\n",
        "for dataframe in df_split_filtered:\n",
        "    print(len(dataframe))"
      ],
      "execution_count": null,
      "outputs": [
        {
          "output_type": "stream",
          "name": "stdout",
          "text": [
            "2\n",
            "2\n",
            "2\n",
            "2\n",
            "2\n",
            "2\n",
            "2\n",
            "2\n",
            "2\n",
            "2\n",
            "2\n",
            "2\n",
            "2\n",
            "2\n",
            "2\n",
            "2\n",
            "2\n",
            "2\n",
            "2\n",
            "2\n",
            "2\n",
            "2\n",
            "2\n",
            "2\n",
            "2\n",
            "2\n",
            "2\n",
            "2\n",
            "2\n",
            "2\n",
            "2\n",
            "2\n",
            "2\n",
            "2\n",
            "2\n",
            "2\n",
            "2\n",
            "2\n",
            "2\n",
            "2\n",
            "2\n",
            "2\n",
            "2\n",
            "2\n",
            "2\n",
            "2\n",
            "2\n",
            "2\n",
            "2\n",
            "2\n",
            "2\n",
            "2\n",
            "2\n",
            "2\n",
            "2\n",
            "2\n",
            "2\n",
            "2\n",
            "2\n",
            "2\n",
            "2\n",
            "2\n"
          ]
        }
      ]
    },
    {
      "cell_type": "code",
      "metadata": {
        "colab": {
          "base_uri": "https://localhost:8080/"
        },
        "id": "HkdN79w5gPox",
        "outputId": "6007e8d7-7250-45cf-ded2-1b298b5c0023"
      },
      "source": [
        "texts=[]\n",
        "\n",
        "for dataframe in df_split_filtered:\n",
        "\n",
        "  text=\"\"\n",
        "  for index, row in dataframe.iterrows():\n",
        "      text= text + \" \"+ row['answerText']\n",
        "  texts.append(text)\n",
        "\n",
        "len(texts)"
      ],
      "execution_count": null,
      "outputs": [
        {
          "output_type": "execute_result",
          "data": {
            "text/plain": [
              "62"
            ]
          },
          "metadata": {},
          "execution_count": 8
        }
      ]
    },
    {
      "cell_type": "code",
      "metadata": {
        "colab": {
          "base_uri": "https://localhost:8080/"
        },
        "id": "AdxdZzPRgTYG",
        "outputId": "f4fac3a2-75ef-40f3-fe82-25c5da9a0681"
      },
      "source": [
        "text_len=[]\n",
        "for text in texts:\n",
        "  text_len.append(len(text))\n",
        "print(max(text_len))"
      ],
      "execution_count": null,
      "outputs": [
        {
          "output_type": "stream",
          "name": "stdout",
          "text": [
            "4256\n"
          ]
        }
      ]
    },
    {
      "cell_type": "markdown",
      "metadata": {
        "id": "gaGdWCbS4EOr"
      },
      "source": [
        "# Question Answering"
      ]
    },
    {
      "cell_type": "code",
      "metadata": {
        "colab": {
          "base_uri": "https://localhost:8080/"
        },
        "id": "uTnY8RHcawt2",
        "outputId": "8a6fbaeb-5d04-4265-9e0d-b83257b5a0cc"
      },
      "source": [
        "!pip install numpy scipy librosa unidecode inflect librosa transformers"
      ],
      "execution_count": null,
      "outputs": [
        {
          "output_type": "stream",
          "name": "stdout",
          "text": [
            "Requirement already satisfied: numpy in /usr/local/lib/python3.7/dist-packages (1.19.5)\n",
            "Requirement already satisfied: scipy in /usr/local/lib/python3.7/dist-packages (1.4.1)\n",
            "Requirement already satisfied: librosa in /usr/local/lib/python3.7/dist-packages (0.8.1)\n",
            "Collecting unidecode\n",
            "  Downloading Unidecode-1.3.2-py3-none-any.whl (235 kB)\n",
            "\u001b[K     |████████████████████████████████| 235 kB 26.3 MB/s \n",
            "\u001b[?25hRequirement already satisfied: inflect in /usr/local/lib/python3.7/dist-packages (2.1.0)\n",
            "Collecting transformers\n",
            "  Downloading transformers-4.11.3-py3-none-any.whl (2.9 MB)\n",
            "\u001b[K     |████████████████████████████████| 2.9 MB 29.1 MB/s \n",
            "\u001b[?25hRequirement already satisfied: pooch>=1.0 in /usr/local/lib/python3.7/dist-packages (from librosa) (1.5.1)\n",
            "Requirement already satisfied: packaging>=20.0 in /usr/local/lib/python3.7/dist-packages (from librosa) (21.0)\n",
            "Requirement already satisfied: scikit-learn!=0.19.0,>=0.14.0 in /usr/local/lib/python3.7/dist-packages (from librosa) (0.22.2.post1)\n",
            "Requirement already satisfied: resampy>=0.2.2 in /usr/local/lib/python3.7/dist-packages (from librosa) (0.2.2)\n",
            "Requirement already satisfied: audioread>=2.0.0 in /usr/local/lib/python3.7/dist-packages (from librosa) (2.1.9)\n",
            "Requirement already satisfied: soundfile>=0.10.2 in /usr/local/lib/python3.7/dist-packages (from librosa) (0.10.3.post1)\n",
            "Requirement already satisfied: joblib>=0.14 in /usr/local/lib/python3.7/dist-packages (from librosa) (1.0.1)\n",
            "Requirement already satisfied: decorator>=3.0.0 in /usr/local/lib/python3.7/dist-packages (from librosa) (4.4.2)\n",
            "Requirement already satisfied: numba>=0.43.0 in /usr/local/lib/python3.7/dist-packages (from librosa) (0.51.2)\n",
            "Requirement already satisfied: setuptools in /usr/local/lib/python3.7/dist-packages (from numba>=0.43.0->librosa) (57.4.0)\n",
            "Requirement already satisfied: llvmlite<0.35,>=0.34.0.dev0 in /usr/local/lib/python3.7/dist-packages (from numba>=0.43.0->librosa) (0.34.0)\n",
            "Requirement already satisfied: pyparsing>=2.0.2 in /usr/local/lib/python3.7/dist-packages (from packaging>=20.0->librosa) (2.4.7)\n",
            "Requirement already satisfied: appdirs in /usr/local/lib/python3.7/dist-packages (from pooch>=1.0->librosa) (1.4.4)\n",
            "Requirement already satisfied: requests in /usr/local/lib/python3.7/dist-packages (from pooch>=1.0->librosa) (2.23.0)\n",
            "Requirement already satisfied: six>=1.3 in /usr/local/lib/python3.7/dist-packages (from resampy>=0.2.2->librosa) (1.15.0)\n",
            "Requirement already satisfied: cffi>=1.0 in /usr/local/lib/python3.7/dist-packages (from soundfile>=0.10.2->librosa) (1.14.6)\n",
            "Requirement already satisfied: pycparser in /usr/local/lib/python3.7/dist-packages (from cffi>=1.0->soundfile>=0.10.2->librosa) (2.20)\n",
            "Collecting huggingface-hub>=0.0.17\n",
            "  Downloading huggingface_hub-0.0.19-py3-none-any.whl (56 kB)\n",
            "\u001b[K     |████████████████████████████████| 56 kB 2.8 MB/s \n",
            "\u001b[?25hCollecting pyyaml>=5.1\n",
            "  Downloading PyYAML-5.4.1-cp37-cp37m-manylinux1_x86_64.whl (636 kB)\n",
            "\u001b[K     |████████████████████████████████| 636 kB 44.3 MB/s \n",
            "\u001b[?25hRequirement already satisfied: importlib-metadata in /usr/local/lib/python3.7/dist-packages (from transformers) (4.8.1)\n",
            "Requirement already satisfied: regex!=2019.12.17 in /usr/local/lib/python3.7/dist-packages (from transformers) (2019.12.20)\n",
            "Requirement already satisfied: tqdm>=4.27 in /usr/local/lib/python3.7/dist-packages (from transformers) (4.62.3)\n",
            "Collecting tokenizers<0.11,>=0.10.1\n",
            "  Downloading tokenizers-0.10.3-cp37-cp37m-manylinux_2_5_x86_64.manylinux1_x86_64.manylinux_2_12_x86_64.manylinux2010_x86_64.whl (3.3 MB)\n",
            "\u001b[K     |████████████████████████████████| 3.3 MB 52.0 MB/s \n",
            "\u001b[?25hCollecting sacremoses\n",
            "  Downloading sacremoses-0.0.46-py3-none-any.whl (895 kB)\n",
            "\u001b[K     |████████████████████████████████| 895 kB 52.7 MB/s \n",
            "\u001b[?25hRequirement already satisfied: filelock in /usr/local/lib/python3.7/dist-packages (from transformers) (3.3.0)\n",
            "Requirement already satisfied: typing-extensions in /usr/local/lib/python3.7/dist-packages (from huggingface-hub>=0.0.17->transformers) (3.7.4.3)\n",
            "Requirement already satisfied: zipp>=0.5 in /usr/local/lib/python3.7/dist-packages (from importlib-metadata->transformers) (3.6.0)\n",
            "Requirement already satisfied: certifi>=2017.4.17 in /usr/local/lib/python3.7/dist-packages (from requests->pooch>=1.0->librosa) (2021.5.30)\n",
            "Requirement already satisfied: chardet<4,>=3.0.2 in /usr/local/lib/python3.7/dist-packages (from requests->pooch>=1.0->librosa) (3.0.4)\n",
            "Requirement already satisfied: idna<3,>=2.5 in /usr/local/lib/python3.7/dist-packages (from requests->pooch>=1.0->librosa) (2.10)\n",
            "Requirement already satisfied: urllib3!=1.25.0,!=1.25.1,<1.26,>=1.21.1 in /usr/local/lib/python3.7/dist-packages (from requests->pooch>=1.0->librosa) (1.24.3)\n",
            "Requirement already satisfied: click in /usr/local/lib/python3.7/dist-packages (from sacremoses->transformers) (7.1.2)\n",
            "Installing collected packages: pyyaml, tokenizers, sacremoses, huggingface-hub, unidecode, transformers\n",
            "  Attempting uninstall: pyyaml\n",
            "    Found existing installation: PyYAML 3.13\n",
            "    Uninstalling PyYAML-3.13:\n",
            "      Successfully uninstalled PyYAML-3.13\n",
            "Successfully installed huggingface-hub-0.0.19 pyyaml-5.4.1 sacremoses-0.0.46 tokenizers-0.10.3 transformers-4.11.3 unidecode-1.3.2\n"
          ]
        }
      ]
    },
    {
      "cell_type": "code",
      "metadata": {
        "colab": {
          "base_uri": "https://localhost:8080/",
          "height": 294
        },
        "id": "4uRMks74odBa",
        "outputId": "c0321c7e-031c-400a-e8ec-b65eafe83528"
      },
      "source": [
        "# length of answers\n",
        "length=filtered_df['answerText'].str.len()\n",
        "length=pd.DataFrame(length).rename(columns={'answerText': 'Answer Length'})\n",
        "plot=pd.DataFrame(length).plot(kind='hist',title=\"Length Histogram\",subplots=True)\n",
        "figure=plot[0].get_figure()\n",
        "figure.savefig('Answer_length_histogram')"
      ],
      "execution_count": null,
      "outputs": [
        {
          "output_type": "display_data",
          "data": {
            "image/png": "[encoded data removed]",
            "text/plain": [
              "<Figure size 432x288 with 1 Axes>"
            ]
          },
          "metadata": {
            "needs_background": "light"
          }
        }
      ]
    },
    {
      "cell_type": "markdown",
      "metadata": {
        "id": "tVkLswd_GEjl"
      },
      "source": [
        "# Question Answering"
      ]
    },
    {
      "cell_type": "code",
      "metadata": {
        "id": "W0E8p_aY4qeB",
        "colab": {
          "base_uri": "https://localhost:8080/",
          "height": 177,
          "referenced_widgets": [
            "ca415369b1a446afba00ad220ad082a8",
            "1416d30e0877416ba40724fa529eda10",
            "cb494285711c4ea8803b8d856b31e074",
            "2d02e112f9c6406ca1ac7447688782c7",
            "d4d7dbcab3ea4c0698c6268685a197cb",
            "d917227359484a2283a5d56576a52585",
            "1490b0ddb5904d96bf0c90864633b92b",
            "e13dff3558ef4115a17649e653ff37ca",
            "862d16ff2c6148e4a1ccf506c15ce711",
            "654d262e91904840add9e81618975cef",
            "e73889d9f612466fb7e8e778e8b5df03",
            "cd744ab4871c42d2aed2b0f853e9e9cd",
            "12f9c5f4f91f43d3b68daff33e5029eb",
            "85fee0b29fb346a2b5c929c83f1455b6",
            "8aeac71171814305add4d644d26b1128"
          ]
        },
        "outputId": "c7b4a704-3613-4e47-cf32-7621d79fae7f"
      },
      "source": [
        "import torch\n",
        "from transformers import DistilBertForQuestionAnswering\n",
        "model = DistilBertForQuestionAnswering.from_pretrained('distilbert-base-uncased-distilled-squad')\n",
        "\n",
        "from transformers import DistilBertTokenizer\n",
        "tokenizer = DistilBertTokenizer.from_pretrained('distilbert-base-uncased-distilled-squad')"
      ],
      "execution_count": null,
      "outputs": [
        {
          "output_type": "display_data",
          "data": {
            "application/vnd.jupyter.widget-view+json": {
              "model_id": "ca415369b1a446afba00ad220ad082a8",
              "version_minor": 0,
              "version_major": 2
            },
            "text/plain": [
              "Downloading:   0%|          | 0.00/451 [00:00<?, ?B/s]"
            ]
          },
          "metadata": {}
        },
        {
          "output_type": "display_data",
          "data": {
            "application/vnd.jupyter.widget-view+json": {
              "model_id": "cd744ab4871c42d2aed2b0f853e9e9cd",
              "version_minor": 0,
              "version_major": 2
            },
            "text/plain": [
              "Downloading:   0%|          | 0.00/253M [00:00<?, ?B/s]"
            ]
          },
          "metadata": {}
        },
        {
          "output_type": "display_data",
          "data": {
            "application/vnd.jupyter.widget-view+json": {
              "model_id": "12f9c5f4f91f43d3b68daff33e5029eb",
              "version_minor": 0,
              "version_major": 2
            },
            "text/plain": [
              "Downloading:   0%|          | 0.00/226k [00:00<?, ?B/s]"
            ]
          },
          "metadata": {}
        },
        {
          "output_type": "display_data",
          "data": {
            "application/vnd.jupyter.widget-view+json": {
              "model_id": "85fee0b29fb346a2b5c929c83f1455b6",
              "version_minor": 0,
              "version_major": 2
            },
            "text/plain": [
              "Downloading:   0%|          | 0.00/28.0 [00:00<?, ?B/s]"
            ]
          },
          "metadata": {}
        },
        {
          "output_type": "display_data",
          "data": {
            "application/vnd.jupyter.widget-view+json": {
              "model_id": "8aeac71171814305add4d644d26b1128",
              "version_minor": 0,
              "version_major": 2
            },
            "text/plain": [
              "Downloading:   0%|          | 0.00/455k [00:00<?, ?B/s]"
            ]
          },
          "metadata": {}
        }
      ]
    },
    {
      "cell_type": "code",
      "metadata": {
        "id": "jQOHI9nW3MXu"
      },
      "source": [
        "import torch"
      ],
      "execution_count": null,
      "outputs": []
    },
    {
      "cell_type": "code",
      "metadata": {
        "id": "YXvklvNqupBo"
      },
      "source": [
        "def answer_question(question, answer_text):\n",
        "    '''\n",
        "    Takes a `question` string and an `answer_text` string (which contains the\n",
        "    answer), and identifies the words within the `answer_text` that are the\n",
        "    answer. Prints them out.\n",
        "    '''\n",
        "    # ======== Tokenize ========\n",
        "    # Apply the tokenizer to the input text, treating them as a text-pair.\n",
        "    inputs = tokenizer(question, answer_text,truncation=True, return_tensors='pt')\n",
        "    input_ids = tokenizer.encode(question, answer_text)\n",
        "   \n",
        "\n",
        "    start_positions = torch.tensor([1])\n",
        "    end_positions = torch.tensor([3])\n",
        "    \n",
        "\n",
        "    # Report how long the input sequence is.\n",
        "    print('Query1 has {:,} tokens.\\n'.format(len(inputs)))\n",
        "    print('Query has {:,} tokens.\\n'.format(len(input_ids)))\n",
        "\n",
        "    # ======== Evaluate ========\n",
        "    # Run our example question through the model.\n",
        "    outputs = model(**inputs, start_positions=start_positions, end_positions=end_positions)\n",
        "\n",
        "    start_scores = outputs.start_logits\n",
        "    end_scores = outputs.end_logits\n",
        "                                    # token_type_ids=torch.tensor([segment_ids])) # The segment IDs to differentiate question from answer_text\n",
        "\n",
        "    # ======== Reconstruct Answer ========\n",
        "    # Find the tokens with the highest `start` and `end` scores.\n",
        "    answer_start = torch.argmax(start_scores)\n",
        "    answer_end = torch.argmax(end_scores)\n",
        "\n",
        "    # Get the string versions of the input tokens.\n",
        "    tokens = tokenizer.convert_ids_to_tokens(input_ids)\n",
        "\n",
        "    # Start with the first token.\n",
        "    answer = tokens[answer_start]\n",
        "   \n",
        "    # Select the remaining answer tokens and join them with whitespace.\n",
        "    for i in range(answer_start + 1, answer_end + 1):\n",
        "        \n",
        "        # If it's a subword token, then recombine it with the previous token.\n",
        "        if tokens[i][0:2] == '##':\n",
        "            answer += tokens[i][2:]\n",
        "        \n",
        "        # Otherwise, add a space then the token.\n",
        "        else:\n",
        "            answer += ' ' + tokens[i]\n",
        "\n",
        "    #print('Predicted Answer: \"' + answer + '\"')\n",
        "    return answer"
      ],
      "execution_count": null,
      "outputs": []
    },
    {
      "cell_type": "code",
      "metadata": {
        "colab": {
          "base_uri": "https://localhost:8080/"
        },
        "id": "8kiagjVQ8GFx",
        "outputId": "3b509567-7fda-461b-fad4-bb74c0d83811"
      },
      "source": [
        "len(df_split_filtered)"
      ],
      "execution_count": null,
      "outputs": [
        {
          "output_type": "execute_result",
          "data": {
            "text/plain": [
              "62"
            ]
          },
          "metadata": {},
          "execution_count": 33
        }
      ]
    },
    {
      "cell_type": "code",
      "metadata": {
        "colab": {
          "base_uri": "https://localhost:8080/"
        },
        "id": "K8hz_ukZFur9",
        "outputId": "17112a6e-ed08-4862-a1db-3a23ca12497e"
      },
      "source": [
        "# try on one sample\n",
        "j=0\n",
        "count = 0 \n",
        "for i in range (0, len(df_split_filtered)):\n",
        "  for index,row in df_split_filtered[i].iterrows():\n",
        "    print ('Predicted answer: ',answer_question(row['questionTitle'],texts[j] ))\n",
        "    print('Real Answer: ',row['answerText'])\n",
        "    if (answer_question(row['questionTitle'],texts[j]) in row['answerText']):\n",
        "       count =count+1\n",
        "  j=j+1"
      ],
      "execution_count": null,
      "outputs": [
        {
          "output_type": "stream",
          "name": "stderr",
          "text": [
            "Be aware, overflowing tokens are not returned for the setting you have chosen, i.e. sequence pairs with the 'longest_first' truncation strategy. So the returned list will always be empty even if some tokens have been removed.\n"
          ]
        },
        {
          "output_type": "stream",
          "name": "stdout",
          "text": [
            "Query1 has 2 tokens.\n",
            "\n",
            "Query has 584 tokens.\n",
            "\n"
          ]
        },
        {
          "output_type": "stream",
          "name": "stderr",
          "text": [
            "Be aware, overflowing tokens are not returned for the setting you have chosen, i.e. sequence pairs with the 'longest_first' truncation strategy. So the returned list will always be empty even if some tokens have been removed.\n"
          ]
        },
        {
          "output_type": "stream",
          "name": "stdout",
          "text": [
            "Predicted answer:  depression . if you feel sad on most days , it is worthwhile speaking to a psychologist to determine whether you suffer clinical depression . feeling sadness is a normal response to loss , whether you lose a family , friend , job , or something you deem important in your life . however , feeling sadness all the time is a signal that you are not happy about something in your life\n",
            "Real Answer:  Hello,While one can be sad from time to time, feeling sad \"all the time\" could be a sign of depression. If you feel sad on most days, it is worthwhile speaking to a psychologist to determine whether you suffer clinical depression. Feeling sadness is a normal response to loss, whether you lose a family, friend, job, or something you deem important in your life. However, feeling sadness all the time is a signal that you are not happy about something in your life. If it is related to your family and often relationship with family members could affect our self-esteem and self-worth, then perhaps it is worthwhile exploring what you find unhappy about your relationship with your family. Is it that you do not feel heard, supported or loved? Is it that you feel disrespected, disregarded or feel unimportant? These are just a few examples of common issues that people report that contribute to their depression. To help you to uncover your reasons for your sadness or depression and to cope with them in a healthier and more constructive way, it may be helpful to contact a therapist who could support you with this process. You do not have to deal with it alone. Dr. Virginia Chow, Montreal Psychologist. For more information about depression, please consult my website at www.PsychologyResource.ca\n",
            "Query1 has 2 tokens.\n",
            "\n",
            "Query has 584 tokens.\n",
            "\n"
          ]
        },
        {
          "output_type": "stream",
          "name": "stderr",
          "text": [
            "Be aware, overflowing tokens are not returned for the setting you have chosen, i.e. sequence pairs with the 'longest_first' truncation strategy. So the returned list will always be empty even if some tokens have been removed.\n"
          ]
        },
        {
          "output_type": "stream",
          "name": "stdout",
          "text": [
            "Query1 has 2 tokens.\n",
            "\n",
            "Query has 596 tokens.\n",
            "\n"
          ]
        },
        {
          "output_type": "stream",
          "name": "stderr",
          "text": [
            "Be aware, overflowing tokens are not returned for the setting you have chosen, i.e. sequence pairs with the 'longest_first' truncation strategy. So the returned list will always be empty even if some tokens have been removed.\n"
          ]
        },
        {
          "output_type": "stream",
          "name": "stdout",
          "text": [
            "Predicted answer:  [CLS]\n",
            "Real Answer:  Frequently when working with clients, I utilize the A-B-C model developed by Albert Ellis, the founder of Rational Emotive Behavior Theory. The theory basically states that you can not control an event but you can control your reaction to the emotions associated with said event. For instance here is an example:A (Action or Event): You need to talk to someone and that person is not calling you back.B (Behavior or Response): You begin to tell yourself that this person is too busy for me or I am not important to this person.C (Consequence): You feel depressed.If you look at the model, B has a direct effect on C. The thought is if you change your reaction to A, then C will have a better consequence, such as:A: stays the same.B (this is what you change): This person must be busy, they will call me back when they get a chance or I can call someone else to lean on for support until this person is available.C: Decreased feelings of depression & overall functioning improves.This is just an example but if you actively work to replace the negative thought patterns that effect your behavior, studies show that your overall outlook and mood will improve. If this model resonates with you, I recommend \"Feeling better, getting better, staying better\" by Alber Ellis. In addition, looking for support groups in your area are a great source of support when you are feeling abandoned or alone.\n",
            "Query1 has 2 tokens.\n",
            "\n",
            "Query has 596 tokens.\n",
            "\n"
          ]
        },
        {
          "output_type": "stream",
          "name": "stderr",
          "text": [
            "Be aware, overflowing tokens are not returned for the setting you have chosen, i.e. sequence pairs with the 'longest_first' truncation strategy. So the returned list will always be empty even if some tokens have been removed.\n"
          ]
        },
        {
          "output_type": "stream",
          "name": "stdout",
          "text": [
            "Query1 has 2 tokens.\n",
            "\n",
            "Query has 519 tokens.\n",
            "\n"
          ]
        },
        {
          "output_type": "stream",
          "name": "stderr",
          "text": [
            "Be aware, overflowing tokens are not returned for the setting you have chosen, i.e. sequence pairs with the 'longest_first' truncation strategy. So the returned list will always be empty even if some tokens have been removed.\n"
          ]
        },
        {
          "output_type": "stream",
          "name": "stdout",
          "text": [
            "Predicted answer:  [CLS]\n",
            "Real Answer:  Wow that is tough. There is nothing worse than fearing abandonment when you are already struggling with depression. It sounds like you are still wanting to work through whatever challenges you and your husband are having but your husband may not be on the same page. I would encourage you and your husband to seek professional support if you haven't already. While depression can put real strains on a relationship, relationship problems can lead to or contribute to depression and there may be some real benefits to both of you in doing some couple therapy. With that being said - if your husband is not willing to do therapy or is clear that he wants the relationship to end, then I can't see what choice you have but to \"respect his decision\" as you mentioned. This doesn't mean that you have to feel okay with the decision - as I'm sure you wouldn't - but ultimately loving one another and staying in committed relationships is a choice that we each have to make. If he is wanting to leave - this could make things a lot tougher for you. I would encourage you to seek professional support for yourself and reach out to lots of friends and family. You do not need to face depression alone - nor should you have to. We all need support at tough times like these.\n",
            "Query1 has 2 tokens.\n",
            "\n",
            "Query has 519 tokens.\n",
            "\n"
          ]
        },
        {
          "output_type": "stream",
          "name": "stderr",
          "text": [
            "Be aware, overflowing tokens are not returned for the setting you have chosen, i.e. sequence pairs with the 'longest_first' truncation strategy. So the returned list will always be empty even if some tokens have been removed.\n"
          ]
        },
        {
          "output_type": "stream",
          "name": "stdout",
          "text": [
            "Query1 has 2 tokens.\n",
            "\n",
            "Query has 520 tokens.\n",
            "\n"
          ]
        },
        {
          "output_type": "stream",
          "name": "stderr",
          "text": [
            "Be aware, overflowing tokens are not returned for the setting you have chosen, i.e. sequence pairs with the 'longest_first' truncation strategy. So the returned list will always be empty even if some tokens have been removed.\n"
          ]
        },
        {
          "output_type": "stream",
          "name": "stdout",
          "text": [
            "Predicted answer:  help oneself feel better\n",
            "Real Answer:  In a way, self-harm can present somewhat like an addiction.  According to new research within the field of neuroscience there is a valid explanation for this.  When a person cuts or uses other forms of self harm, the body produces endorphins to help make a person feel better.  If a person was dealing with depression or high anxiety, that might be misinterpreted by the brain as a way to help oneself feel better and a new neural network or map might form (addiction) that would utilize this new behavior.  Another way to look at it would be thru a behavioral lens, a positive reward for a behavior, even though the behavior has other long term negative consequences.  Consider working with someone who can both have you work on and address those items that trigger your behavior and the root causes, in this case sadness or depression, and second find someone who can help give you alternatives that take into account the neurological requirement by replacing the behavior with another behavior (such as snapping a rubber band on the wrist) and working to extinguish the unwanted behavior.   Someone who is trained in Dialectic Behavior Therapy and/or Interpersonal Neurobiology would most likely have the skills and means available to address this with you.\n",
            "Query1 has 2 tokens.\n",
            "\n",
            "Query has 520 tokens.\n",
            "\n"
          ]
        },
        {
          "output_type": "stream",
          "name": "stderr",
          "text": [
            "Be aware, overflowing tokens are not returned for the setting you have chosen, i.e. sequence pairs with the 'longest_first' truncation strategy. So the returned list will always be empty even if some tokens have been removed.\n"
          ]
        },
        {
          "output_type": "stream",
          "name": "stdout",
          "text": [
            "Query1 has 2 tokens.\n",
            "\n",
            "Query has 652 tokens.\n",
            "\n"
          ]
        },
        {
          "output_type": "stream",
          "name": "stderr",
          "text": [
            "Be aware, overflowing tokens are not returned for the setting you have chosen, i.e. sequence pairs with the 'longest_first' truncation strategy. So the returned list will always be empty even if some tokens have been removed.\n"
          ]
        },
        {
          "output_type": "stream",
          "name": "stdout",
          "text": [
            "Predicted answer:  [CLS]\n",
            "Real Answer:  You're probably not going to like my answer.Your question says a lot about what YOU want rather than what she wants or what may be best for her. Sometimes, what's best for a person is the hardest thing to do, and may be completely opposite of what YOU want.Addictions don't happen in a vacuum. If you've had any experience with addicts at all, then I'm sure you've heard the term \"enabler\". A lot of the times, when people think they're \"helping\", they're actually enabling the addict to continue their self-destructive behavior. Tough love and clear boundaries are needed in a lot of situations, but especially with addictions. Family and friends are often the biggest contributing factor to someone choosing to use/drink, continuing to do so, or relapsing back into it.You said she recently quit. You said she is depressed. She wants to move. When a person receives counseling for addictions, they are encouraged to make changes like this. They need to break the habit, and this means removing people from their lives at times. It means moving to new locations. Anything that may trigger a relapse needs to be identified and removed. Not only that, but the addict needs to do a lot of personal reflection to figure out WHY they use/drink in the first place, and not only break the physical addiction to it, but deal with whatever is the root cause that led them to use in the first place. She may need some time alone to figure out who she is as a person, time to make some decisions for herself and do what she needs to do to be healthy.Don't pressure her to stay. Let her have the freedom to do what she needs to do. If she stays, the decision needs to be hers and hers alone. It doesn't need to be made under pressure. That will only lead to resentment. Support her, but don't try to change her or make her do anything, especially for selfish reasons. Let her go. It sounds like she needs some time to focus on herself right now. It wouldn't be a bad idea for you to do the same.\n",
            "Query1 has 2 tokens.\n",
            "\n",
            "Query has 652 tokens.\n",
            "\n"
          ]
        },
        {
          "output_type": "stream",
          "name": "stderr",
          "text": [
            "Be aware, overflowing tokens are not returned for the setting you have chosen, i.e. sequence pairs with the 'longest_first' truncation strategy. So the returned list will always be empty even if some tokens have been removed.\n"
          ]
        },
        {
          "output_type": "stream",
          "name": "stdout",
          "text": [
            "Query1 has 2 tokens.\n",
            "\n",
            "Query has 652 tokens.\n",
            "\n"
          ]
        },
        {
          "output_type": "stream",
          "name": "stderr",
          "text": [
            "Be aware, overflowing tokens are not returned for the setting you have chosen, i.e. sequence pairs with the 'longest_first' truncation strategy. So the returned list will always be empty even if some tokens have been removed.\n"
          ]
        },
        {
          "output_type": "stream",
          "name": "stdout",
          "text": [
            "Predicted answer:  [CLS]\n",
            "Real Answer:  It sounds like you are noticing that you are drawn towards sad and negative content and it's hard to understand why. This may sound counter-intuitive, but sometimes we do things that on the surface may look problematic (or even cause us some real problems) because it serves us in some unseen way. A simple example would be somebody who is addicted to a substance; their addiction may be causing serious problems in their life, and they may even know it, but the addiction serves them by helping them to avoid painful feelings that they anticipate having if they quit using. Now I am not saying that what you describe is an addiction, it is just a really illustrative example of the unseen benefit.One thing I would be wondering about is what is the unseen benefit of seeking out sad and negative content? I'd also be wondering what your relationship is to other feelings. These are things you may benefit from exploring with a competent therapist.\n",
            "Query1 has 2 tokens.\n",
            "\n",
            "Query has 652 tokens.\n",
            "\n"
          ]
        },
        {
          "output_type": "stream",
          "name": "stderr",
          "text": [
            "Be aware, overflowing tokens are not returned for the setting you have chosen, i.e. sequence pairs with the 'longest_first' truncation strategy. So the returned list will always be empty even if some tokens have been removed.\n"
          ]
        },
        {
          "output_type": "stream",
          "name": "stdout",
          "text": [
            "Query1 has 2 tokens.\n",
            "\n",
            "Query has 585 tokens.\n",
            "\n"
          ]
        },
        {
          "output_type": "stream",
          "name": "stderr",
          "text": [
            "Be aware, overflowing tokens are not returned for the setting you have chosen, i.e. sequence pairs with the 'longest_first' truncation strategy. So the returned list will always be empty even if some tokens have been removed.\n"
          ]
        },
        {
          "output_type": "stream",
          "name": "stdout",
          "text": [
            "Predicted answer:  [CLS]\n",
            "Real Answer:  Seasonal Affective Disorder (S.A.D.) is a term that reflects how many people are affected by the changing seasons, especially fall to winter.  Everyone suffers with some form of this (lessened activity levels, increased isolation, etc.) while some find that this time of year can put them into a deeper depression. If you have noticed that this happens frequently, there are some ways you can definitely help yourself going forward:1. Attend therapy to learn strategies and tools to help you to manage your mood.  It's important to stay within the therapy until you feel you have mastered these tools. 2. Push yourself to interact more with your social groups and other positive activities. It's easy to go out and spend the day outside in the summer months, when the temperature is warm and the sun shines for long periods of the day, but it seems harder to find fun ways to spend your time when the temperature drops and darkness comes on so quickly.  Perhaps winter time could become the time of year where you and your friends have weekly board game nights, complete with hot chocolate and a fire?3. You may want to consider the purchase of a S.A.D. Light.  These are lights that expose you to additional ultra violet light to increase the vitamin D in our bodies, as well as the release of growth hormone (which releases when we wake up). There are mixed reviews of these products, however, and they can be expensive.\n",
            "Query1 has 2 tokens.\n",
            "\n",
            "Query has 585 tokens.\n",
            "\n"
          ]
        },
        {
          "output_type": "stream",
          "name": "stderr",
          "text": [
            "Be aware, overflowing tokens are not returned for the setting you have chosen, i.e. sequence pairs with the 'longest_first' truncation strategy. So the returned list will always be empty even if some tokens have been removed.\n"
          ]
        },
        {
          "output_type": "stream",
          "name": "stdout",
          "text": [
            "Query1 has 2 tokens.\n",
            "\n",
            "Query has 591 tokens.\n",
            "\n"
          ]
        },
        {
          "output_type": "stream",
          "name": "stderr",
          "text": [
            "Be aware, overflowing tokens are not returned for the setting you have chosen, i.e. sequence pairs with the 'longest_first' truncation strategy. So the returned list will always be empty even if some tokens have been removed.\n"
          ]
        },
        {
          "output_type": "stream",
          "name": "stdout",
          "text": [
            "Predicted answer:  your parents are being unsupportive\n",
            "Real Answer:  Hi Georgia, There's a really good lesson here. People tell us things, and we tend to think that's the truth...but it's not! I'll do some translating for you...\"You're so ungrateful\" means \"I need you to be successful and happy in order for me to feel I'm a good parent\".\"You're too young to be depressed\" means \"I don't want to deal with your mental health issues right now. I'll pretend it's not happening so I don't have to face my fear and shame\".\"It's only going to get worse\" just means \"I don't know how to support you beyond scaring you into wanting to at least fake happiness for my sake\".Your parents are being unsupportive, not because you're not suffering, but because this is all they're capable of right now. They are not where you will find the support you need, so keep looking for it in other places. It's out there. If might be an aunt or a friend, or a friend's aunt. It might be a therapist or a bus driver or your family doctor. Keep looking for someone who will hear you. I hope you don't ever give up. :)\n",
            "Query1 has 2 tokens.\n",
            "\n",
            "Query has 591 tokens.\n",
            "\n",
            "Query1 has 2 tokens.\n",
            "\n",
            "Query has 430 tokens.\n",
            "\n",
            "Predicted answer:  [CLS]\n",
            "Real Answer:  First of all, I am sorry that you have been missing out on your childhood. It may help you to know that many of us feel that we have missed out on our childhoods, as well, and that despite such deprivations, for many of us, our adult lives have been extraordinarily fulfilling due to our opening up to trusted adults. I recommend that you find a trustworthy adult to talk to. This may be a teacher, a coach, a school counselor, a minister, a family member, or a friend's family member. If none of these are available, try out a professional counselor, social worker, psychiatric nurse practitioner, psychologist, or a psychiatrist. It is best to get a referral for such a professional from a peer who has had a positive and safe experience with a particular provider.\n",
            "Query1 has 2 tokens.\n",
            "\n",
            "Query has 430 tokens.\n",
            "\n",
            "Query1 has 2 tokens.\n",
            "\n",
            "Query has 434 tokens.\n",
            "\n",
            "Predicted answer:  [CLS]\n",
            "Real Answer:  I am very sorry for the pain you are suffering. Losing the most significant person in your life is extremely painful and breakups are often equated to a death. There will certainly be a grieving process that you go through and time passing will allow the hurt to subside. With that being said, seeing a therapist is highly recommended as it sounds like continuous support may be necessary for healing to take place. Anytime sadness causes thoughts of suicide or self harm, it is important to get help immediately. A therapist can help you by validating your feelings and what you are going through, while also working with you to move through the grieving process, adopt new hobbies, social outlets, and goals for your future. While starting over and trying out new ways of being may seem like a daunting task, it will only make things easier and give you a sense of hope and purpose for your future. With the new year right around the corner, this could be viewed as a good time and opportunity to get reaquainted with yourself and set goals related to living a more fullfilling life. Hang in there. With a support system in place and a healthy mindset, things can only get easier. Best of luck to you!\n",
            "Query1 has 2 tokens.\n",
            "\n",
            "Query has 434 tokens.\n",
            "\n"
          ]
        },
        {
          "output_type": "stream",
          "name": "stderr",
          "text": [
            "Be aware, overflowing tokens are not returned for the setting you have chosen, i.e. sequence pairs with the 'longest_first' truncation strategy. So the returned list will always be empty even if some tokens have been removed.\n"
          ]
        },
        {
          "output_type": "stream",
          "name": "stdout",
          "text": [
            "Query1 has 2 tokens.\n",
            "\n",
            "Query has 856 tokens.\n",
            "\n"
          ]
        },
        {
          "output_type": "stream",
          "name": "stderr",
          "text": [
            "Be aware, overflowing tokens are not returned for the setting you have chosen, i.e. sequence pairs with the 'longest_first' truncation strategy. So the returned list will always be empty even if some tokens have been removed.\n"
          ]
        },
        {
          "output_type": "stream",
          "name": "stdout",
          "text": [
            "Predicted answer:  working with a competent therapist\n",
            "Real Answer:  It's sounds like you are feeling pretty overwhelmed with intrusive thoughts and are feeling very criticized by others as well. I think it is great that you are reaching out and I can tell that you want this to change. Working with a competent therapist may be a good option for getting some more clarity about what is going on, developing ways to cope, and eventually getting relief from these overwhelming experiences.\n",
            "Query1 has 2 tokens.\n",
            "\n",
            "Query has 856 tokens.\n",
            "\n"
          ]
        },
        {
          "output_type": "stream",
          "name": "stderr",
          "text": [
            "Be aware, overflowing tokens are not returned for the setting you have chosen, i.e. sequence pairs with the 'longest_first' truncation strategy. So the returned list will always be empty even if some tokens have been removed.\n"
          ]
        },
        {
          "output_type": "stream",
          "name": "stdout",
          "text": [
            "Query1 has 2 tokens.\n",
            "\n",
            "Query has 861 tokens.\n",
            "\n"
          ]
        },
        {
          "output_type": "stream",
          "name": "stderr",
          "text": [
            "Be aware, overflowing tokens are not returned for the setting you have chosen, i.e. sequence pairs with the 'longest_first' truncation strategy. So the returned list will always be empty even if some tokens have been removed.\n"
          ]
        },
        {
          "output_type": "stream",
          "name": "stdout",
          "text": [
            "Predicted answer:  [CLS]\n",
            "Real Answer:  Hi Boise, I'm sorry that you've lost this love. The fact that you were planning marriage and a future tells me that you meant something very special to each other at that time. It's different now...you're not together anymore, but you can't accept this, right? Good for you for identifying that this situation is damaging your life. You've been grieving for longer than you were together. Oh, but really you've not been grieving...you're stuck still loving her instead of moving forward. Unrequited love is a recipe for eternal heartache. Let's look at some possible blocks to moving forward.It could be that there's something unfinished for you. Maybe you felt hurt and you didn't have the chance to say so, or you felt you hurt her and you didn't have the chance to make it right. Maybe there's a burning question you need to ask or something else you need to say. Maybe you want to tell her you've never stopped loving her, and see if she feels the same way. If this is the case, you have two choices, right? You can reach out and say what you need to say, or you can stop ruminating on that question and let it go. If you reach out, there's no guarantee it will go well or that she'll even respond. Maybe write her a letter and don't send it (or send it...it might be worth the risk). Use the next paragraph to help you decide. Do you know how she feels? How did it end? Did she end it? Was it ended just because of the distance, or are there more differences between you that didn't work? Sometimes people are so in love that they can't clearly see that the other person isn't in love with them anymore. Use the information you have about what she wants for her life...can you honour what she says she needs? If she's asked for distance, you would do well to honour that.A key to moving forward: look at your thoughts and where they're getting stuck. Write it down. What bad thing can happen if you let it go? Or \"If I move forward, that will mean...\"  Keep going...what would be the worst part of that?  This kind of exploring can help you identify your stuck place.It is possible that you've turned this ending into some kind of negative meaning about you or your future. As in \"If this person doesn't love me, then I'm unlovable\", or \"No one will ever love me as much as she did\". So your need to cling to her in your heart is your way of rejecting that negative message about yourself or the future. Can you find another way to reject that message? Try saying these things to yourself:I know she loved me. There is evidence of that.I was a good partner. There is evidence of that.It's part of life to fall in love and then have to move forward...I can do this and learn from it.Many people like me...that's how I know I'm lovable.It's normal to feel sad. I'm grieving a lost love.I want to move forward and not stare in the rearview mirror.I know more love awaits me if I can get fear out of the way.If this person loved me, others can too, (but not if I'm clinging to some old memory)These are the kinds of things a therapist would explore with you. I wish you well!\n",
            "Query1 has 2 tokens.\n",
            "\n",
            "Query has 861 tokens.\n",
            "\n"
          ]
        },
        {
          "output_type": "stream",
          "name": "stderr",
          "text": [
            "Be aware, overflowing tokens are not returned for the setting you have chosen, i.e. sequence pairs with the 'longest_first' truncation strategy. So the returned list will always be empty even if some tokens have been removed.\n"
          ]
        },
        {
          "output_type": "stream",
          "name": "stdout",
          "text": [
            "Query1 has 2 tokens.\n",
            "\n",
            "Query has 623 tokens.\n",
            "\n"
          ]
        },
        {
          "output_type": "stream",
          "name": "stderr",
          "text": [
            "Be aware, overflowing tokens are not returned for the setting you have chosen, i.e. sequence pairs with the 'longest_first' truncation strategy. So the returned list will always be empty even if some tokens have been removed.\n"
          ]
        },
        {
          "output_type": "stream",
          "name": "stdout",
          "text": [
            "Predicted answer:  [CLS]\n",
            "Real Answer:  Since you realize that hearing voices in your head is not usual for you, then definitely there is a problematic situation happening within your awareness of who you are.if you recently started taking a new drug or increased dosage of one you already were taking, and the voices started shortly after, then yes, it is possible medication created your problem.Start by telling whoever gave you the presecription, about the problem you're having.\"Crazy\" has some flexibility as to whether someone is this way or not.Certainly a very positive sign that you're not crazy, is that you're self-aware of a problem within yourself. And, you're responsible toward yourself and making effort to address this problem.Crazy people usually don't do responsible behaviors.\n",
            "Query1 has 2 tokens.\n",
            "\n",
            "Query has 623 tokens.\n",
            "\n"
          ]
        },
        {
          "output_type": "stream",
          "name": "stderr",
          "text": [
            "Be aware, overflowing tokens are not returned for the setting you have chosen, i.e. sequence pairs with the 'longest_first' truncation strategy. So the returned list will always be empty even if some tokens have been removed.\n"
          ]
        },
        {
          "output_type": "stream",
          "name": "stdout",
          "text": [
            "Query1 has 2 tokens.\n",
            "\n",
            "Query has 630 tokens.\n",
            "\n"
          ]
        },
        {
          "output_type": "stream",
          "name": "stderr",
          "text": [
            "Be aware, overflowing tokens are not returned for the setting you have chosen, i.e. sequence pairs with the 'longest_first' truncation strategy. So the returned list will always be empty even if some tokens have been removed.\n"
          ]
        },
        {
          "output_type": "stream",
          "name": "stdout",
          "text": [
            "Predicted answer:  [CLS]\n",
            "Real Answer:  I really love that you're taking responsibility for your pessimism here. There's a modern parable about two young brothers. One child is in a room full of every toy you could imagine, and he's miserable; the other is in a room full of horse manure, and he's flinging it around with joy. So then someone comes and asks the first boy why he's so miserable, because he has so much. He says that he's missing the one toy that he really wants. Then the brother is asked why he's so happy in a room full of manure, and he says \"With all this sh-t, there's gotta be a pony in here somewhere!\"Happiness is a state of mind, and I hear you saying that you used to be happy, so maybe this means you believe it's possible. That's a wonderful start.Research on depression shows us that it is very linked to pessimism. You say \"I always see the worst end of things\". That's pessimism. Life is like an elephant. If all you see is roughness, backup and walk around; the view will change. The key to optimism is to build your ability to see the bad things in life as 1. temporary (this will pass. I know how to fix friendships), 2. Specific (not involving the whole of your life), and 3. not your fault (tons of people fail road tests). On the flip side, it helps if we can see good things as 1. more permanent, 2. bleeding into other areas of our lives, and 3. something YOU created. Not taking credit for good things and blaming yourself for the bad ones is typical especially of women. The feelings you are having are temporary; you're in a slump and it's a good time to sit down and look at how you can make the picture look different. I think you know how; but you lack energy right now. If tackling this on your own isn't enough, a therapist can help you take that step back to look at the big picture and help you rebuild your natural resilience and capacity for joy. I wish you the best.\n",
            "Query1 has 2 tokens.\n",
            "\n",
            "Query has 630 tokens.\n",
            "\n",
            "Query1 has 2 tokens.\n",
            "\n",
            "Query has 354 tokens.\n",
            "\n",
            "Predicted answer:  the\n",
            "Real Answer:  Thank you for asking this important question. I find that there are three steps to getting ready for treatment. Step one is expressing interest in wanting to receiving treatment for the outcome of positive behavioral change. Congratulations you did the first step! You are showing your readiness to start counseling by asking this question. Now the second step is to find a counselor who specializes in treating clients with Anxiety and Depression. The therapeutic orientations I have found to be helpful in treating clients with  Anxiety and Depression are a combination of Cognitive Behavioral Therapy with Mindfulness, and Solution Focused Brief Therapy. Receiving meditation for your symptoms if part of the treatment, and the other part is receiving counseling to increase your resilience for future events. Research has found that medication and psychotherapy treatments together shows the most effective outcome for Depression.  The third step is to increase your positive self-talk to motivate yourself to attend treatment. As counselors, we are aware of the anxieties and fears that are associated with talking to a new professional for the first time. However, remind yourself that you are doing this to improve your well being. I hope this was helpful, and good luck with your treatment journey.\n",
            "Query1 has 2 tokens.\n",
            "\n",
            "Query has 354 tokens.\n",
            "\n",
            "Query1 has 2 tokens.\n",
            "\n",
            "Query has 346 tokens.\n",
            "\n",
            "Predicted answer:  you\n",
            "Real Answer:  It is hard to make a definite diagnosis however I would say  that it could be and or a combination of depression, stress, PTSD, etc.  More background information would have to be needed.  One thing I would say is that you really need to seek guidance from a professional to work through these symptoms.  If what you described as a caged animal is released, all the crying, sadness, and controllable emotions will come out.  That would not be good when they do.  Get help before they do..\n",
            "Query1 has 2 tokens.\n",
            "\n",
            "Query has 346 tokens.\n",
            "\n"
          ]
        },
        {
          "output_type": "stream",
          "name": "stderr",
          "text": [
            "Be aware, overflowing tokens are not returned for the setting you have chosen, i.e. sequence pairs with the 'longest_first' truncation strategy. So the returned list will always be empty even if some tokens have been removed.\n"
          ]
        },
        {
          "output_type": "stream",
          "name": "stdout",
          "text": [
            "Query1 has 2 tokens.\n",
            "\n",
            "Query has 705 tokens.\n",
            "\n"
          ]
        },
        {
          "output_type": "stream",
          "name": "stderr",
          "text": [
            "Be aware, overflowing tokens are not returned for the setting you have chosen, i.e. sequence pairs with the 'longest_first' truncation strategy. So the returned list will always be empty even if some tokens have been removed.\n"
          ]
        },
        {
          "output_type": "stream",
          "name": "stdout",
          "text": [
            "Predicted answer:  if your husband has an established therapist\n",
            "Real Answer:  Hello, and thank you for your question. This is a very serious time. I don't mean to frighten you, but you are right to be concerned. The time right after people leave the hospital after receiving psychiatric services is a time of high risk for suicide. It is very important, after hospitalization, to get follow-up care with a professional as soon as possible. If your husband has an established therapist, this is the time to call. It is also a good time to alert your support system of friends, family, clergy or others to let them know he is still struggling. This is good support for him AND you.It is important to think about means and opportunity to make another attempt. Means really do matter.  So, if you have a firearm in the home, it is really important to remove it. You can't remove all things that a person may hurt themselves with, but some things are more lethal than others. Firearms are very lethal. I am not sure what means he used last time, but try to reduce the opportunity for him to access it again. This is where your support system can help out. People can take turns hanging out with him until you are sure the crisis is over.If you believe that an attempt is going to occur, talk to your husband about going back to the hospital. If he refuses, you will want to find out what your options are to have him go even if he doesn't want to. I know the thought of that really hurts, but it can save his life. Calling 9-1-1 is always a good option if you are not sure. Usually a suicide crisis, meaning they want to harm themselves right now, lasts a few minutes, hours or days. Sometimes when you get them through the crisis stage, they no longer want to commit suicide. But, as you are indicating, that feeling of wanting to commit suicide can come back again. So, it is always good to have a plan. If you want more information, call the National Suicide Prevention Lifeline. They will always answer: 1-800-273-8255. They can help you create a specific safety plan. I do hope things work out alright. Be well. Robin J. Landwehr, DBH, LPCC, NCC\n",
            "Query1 has 2 tokens.\n",
            "\n",
            "Query has 705 tokens.\n",
            "\n"
          ]
        },
        {
          "output_type": "stream",
          "name": "stderr",
          "text": [
            "Be aware, overflowing tokens are not returned for the setting you have chosen, i.e. sequence pairs with the 'longest_first' truncation strategy. So the returned list will always be empty even if some tokens have been removed.\n"
          ]
        },
        {
          "output_type": "stream",
          "name": "stdout",
          "text": [
            "Query1 has 2 tokens.\n",
            "\n",
            "Query has 702 tokens.\n",
            "\n"
          ]
        },
        {
          "output_type": "stream",
          "name": "stderr",
          "text": [
            "Be aware, overflowing tokens are not returned for the setting you have chosen, i.e. sequence pairs with the 'longest_first' truncation strategy. So the returned list will always be empty even if some tokens have been removed.\n"
          ]
        },
        {
          "output_type": "stream",
          "name": "stdout",
          "text": [
            "Predicted answer:  [CLS]\n",
            "Real Answer:  Philadelphia, there is help out there. For your daughter's sake, start somewhere. Feelings are only that; your worst fears about who you are are only based on a few moments that haven't gone well. Depression is so treatable, but you have to seek treatment from a professional.Here's a quick exercise for you to do that can show you how therapy might work... fear is telling you the worst possible story of your life, right? So... if there was an opposite story...the very best story that someone could tell about you and your life...what would that be? Who would be telling it? Someone who loves you? Someone who was around you when you were that outgoing person? Someone who's been watching your life from the start? God? Write that best story. I dare you to give it as much credibility as the worst one. Therapy is often about helping people reject their \"worst stories\". I invite you to start exploring with a qualified therapist whatever barriers stand between you and your best life. I hope you reach out soon. :)\n",
            "Query1 has 2 tokens.\n",
            "\n",
            "Query has 702 tokens.\n",
            "\n",
            "Query1 has 2 tokens.\n",
            "\n",
            "Query has 458 tokens.\n",
            "\n",
            "Predicted answer:  [CLS]\n",
            "Real Answer:  Anxiety and Depression are challenging experiences to live with and to manage on a daily basis. I would say that both are challenges to overcome but solutions to living healthy and well exist. Step 1: Talk about it. With friends, family, partners, counselors, and other trusted people in your life. Step 2: Create a plan with a counselor to learn new skills that help you recognize and manage your symptoms. Step 3: Don't give up. Working on yourself can be difficult and hard at the beginning. Stick with it and you will be able to find exercises, tools, and resources that help you live well.\n",
            "Query1 has 2 tokens.\n",
            "\n",
            "Query has 458 tokens.\n",
            "\n",
            "Query1 has 2 tokens.\n",
            "\n",
            "Query has 462 tokens.\n",
            "\n",
            "Predicted answer:  [CLS]\n",
            "Real Answer:  Your instinct to help your daughter, is natural.How you proceed depends a lot on whether she recognizes she has a psychological and emotional problem, or if only you see this from observing her.Also, her age matters a lot in what way would be most likely to succeed in addressing the problems you describe.If you and your daughter have different opinions as to whether or not she has problems, and she is above the legal age of when you have authority over her life, then you can only suggest to her that therapy may benefit her.If your daughter is in your legal control, then you can locate a counselor nearby, discuss your situation with that person, and depending on the outcome, you'd be within your parenting right to take your daughter to a counselor.Starting therapy without willingness to do so, is risky.  The person may feel resentful enough to not participate.   And, sometimes the counselor is skillful enough to find a path to your daughter, or any patient's self-interest and engage them in therapy.Family counseling, regardless of your daughter's age, is another way to bring your concerns to your daughter's attention, in a therapy environment in which a counselor would be able to help distinguish the seriousness of your daughter's psychological problem, from simply a difference in viewpoints between you and your daughter, in how to handle certain situations.Also, if you believe your daughter is a threat to herself, then instead of this slower route, get in touch with the emergency psychological assessment service in your town, for a more immediate response.\n",
            "Query1 has 2 tokens.\n",
            "\n",
            "Query has 462 tokens.\n",
            "\n"
          ]
        },
        {
          "output_type": "stream",
          "name": "stderr",
          "text": [
            "Be aware, overflowing tokens are not returned for the setting you have chosen, i.e. sequence pairs with the 'longest_first' truncation strategy. So the returned list will always be empty even if some tokens have been removed.\n"
          ]
        },
        {
          "output_type": "stream",
          "name": "stdout",
          "text": [
            "Query1 has 2 tokens.\n",
            "\n",
            "Query has 894 tokens.\n",
            "\n"
          ]
        },
        {
          "output_type": "stream",
          "name": "stderr",
          "text": [
            "Be aware, overflowing tokens are not returned for the setting you have chosen, i.e. sequence pairs with the 'longest_first' truncation strategy. So the returned list will always be empty even if some tokens have been removed.\n"
          ]
        },
        {
          "output_type": "stream",
          "name": "stdout",
          "text": [
            "Predicted answer:  most\n",
            "Real Answer:  Let me start by saying there are never too many concerns that you can bring into counselling. In fact, most people who come to see me for counselling have more than one issue they would like to work on in psychotherapy and most times these are all interconnected. In counselling, we work together, collaboratively, to figure out which issues you would like to address first and then together we develop an individualized plan of care. Basically, it’s like a road map of where you want to go, how are you going to get there, looking at stopovers, some scenic routes others possibly not so scenic, however, necessary. Of course, these plans can also change due to internal (what we have control over like our thoughts, feelings and behaviours) or external reasons (those things that are outside our control). I would encourage you to take the next step and reach out to a professional you can trust and build rapport with by co-journeying through whatever concerns you have by examining what has been working so far as you have learned to cope with some of your issues like insomnia, depression and anxiety, as well as being a breast cancer survivor. Then to help you by developing new coping strategies. Psychotherapy can be such a powerful tool to help you get to where it is you want to be. I know you can do it and you will see first-hand how psychotherapy will help you to move past these points in your life where you are feeling stuck. I like to quote Nike where their motto is, “just do it.” You can do it.\n",
            "Query1 has 2 tokens.\n",
            "\n",
            "Query has 894 tokens.\n",
            "\n"
          ]
        },
        {
          "output_type": "stream",
          "name": "stderr",
          "text": [
            "Be aware, overflowing tokens are not returned for the setting you have chosen, i.e. sequence pairs with the 'longest_first' truncation strategy. So the returned list will always be empty even if some tokens have been removed.\n"
          ]
        },
        {
          "output_type": "stream",
          "name": "stdout",
          "text": [
            "Query1 has 2 tokens.\n",
            "\n",
            "Query has 897 tokens.\n",
            "\n"
          ]
        },
        {
          "output_type": "stream",
          "name": "stderr",
          "text": [
            "Be aware, overflowing tokens are not returned for the setting you have chosen, i.e. sequence pairs with the 'longest_first' truncation strategy. So the returned list will always be empty even if some tokens have been removed.\n"
          ]
        },
        {
          "output_type": "stream",
          "name": "stdout",
          "text": [
            "Predicted answer:  a combination of appropriate medication\n",
            "Real Answer:  The best way to handle depression and anxiety is with a combination of appropriate medication given to you by a medical doctor, and therapy to help you understand the thoughts, feelings, and behaviors that are causing the depression and anxiety in the first place and then to replace these with more positive thoughts and behaviors. This is not something that anyone should just “white knuckle” and try to get through on their own with no help. Cognitive Behavioral Therapy is a technique that has been proven helpful for depression and anxiety. This takes a therapist trained in CBT. There are some things in life that you cannot change and must learn to accept. A lot of people spend time trying to change things that they have no control over. This may be the behavior of someone else in your life or it could be a situation that you cannot change, such as the recent death of a loved one, a lost relationship, or an accident or illness which has left you handicapped. In cases like this, what can change is your attitude and thoughts about the situation that you now find yourself in. One thing that is inevitable about life is that stuff happens and it is not always pleasant. Some people take these unpleasant occurrences very hard and it throws them into a deep depression. Other people seem to be able to handle life’s ups and downs and bounce back. They do this with having positive coping skills in their life. Learning new coping skills is something your therapist can help you with.A lot of people are so focused on trying to change the things in their life that they cannot change and are ignoring the things that they can change. There are things that you can do. Here is a quote for you to consider. “You are getting almost everything that you are getting based on the choices that you have made. You will continue to get the same thing out of life until you make some changes.” Another quote I like is “You will find a way or you will find an excuse.” Don’t ever say that you have no choice. Everyone has a choice. You might not particularly like any of the choices that you are facing, but you do have choices. Not happy in a relationship? You can leave it. Hate your job? Get a new one. If it matters to you, you will find a way. Don’t sit there complaining about everything but not doing anything different or better.Take care of yourself. Exercise is very important not only for your physical health, but for your mental health as well. Eating right and exercising will help you feel better about yourself. Also, find a meditation that works for you. There are progressive muscle relaxation exercises, visual and mental meditations, and many many more. Start making some positive changes in your life today! You can do it!\n",
            "Query1 has 2 tokens.\n",
            "\n",
            "Query has 897 tokens.\n",
            "\n"
          ]
        },
        {
          "output_type": "stream",
          "name": "stderr",
          "text": [
            "Be aware, overflowing tokens are not returned for the setting you have chosen, i.e. sequence pairs with the 'longest_first' truncation strategy. So the returned list will always be empty even if some tokens have been removed.\n"
          ]
        },
        {
          "output_type": "stream",
          "name": "stdout",
          "text": [
            "Query1 has 2 tokens.\n",
            "\n",
            "Query has 652 tokens.\n",
            "\n"
          ]
        },
        {
          "output_type": "stream",
          "name": "stderr",
          "text": [
            "Be aware, overflowing tokens are not returned for the setting you have chosen, i.e. sequence pairs with the 'longest_first' truncation strategy. So the returned list will always be empty even if some tokens have been removed.\n"
          ]
        },
        {
          "output_type": "stream",
          "name": "stdout",
          "text": [
            "Predicted answer:  [CLS]\n",
            "Real Answer:  It sounds like you have been a positive support for your fiancee. There is no doubt that this situation is a great challenge for the both of you. While it may feel like you are responsible for her health and happiness, it is important that you understand that you, on your own, won't be able to resolve her mental health issues. Based on what you have explained, it sounds like she needs to get a medical and/or psychiatric evaluation. Whether or not she decides to take medication is her (and your) decision, but keeping an open mind about treatment options is important. I suggest that she see a therapist on her own in order to better understand and cope with her anxiety and depression, especially given her suicidal thoughts. You would also likely benefit from therapy, individual or couple's therapy, in order to address how you are feeling and best learn how to support her and your relationship. I wish the very best for both of you and hope that things will improve sooner than later.\n",
            "Query1 has 2 tokens.\n",
            "\n",
            "Query has 652 tokens.\n",
            "\n"
          ]
        },
        {
          "output_type": "stream",
          "name": "stderr",
          "text": [
            "Be aware, overflowing tokens are not returned for the setting you have chosen, i.e. sequence pairs with the 'longest_first' truncation strategy. So the returned list will always be empty even if some tokens have been removed.\n"
          ]
        },
        {
          "output_type": "stream",
          "name": "stdout",
          "text": [
            "Query1 has 2 tokens.\n",
            "\n",
            "Query has 655 tokens.\n",
            "\n"
          ]
        },
        {
          "output_type": "stream",
          "name": "stderr",
          "text": [
            "Be aware, overflowing tokens are not returned for the setting you have chosen, i.e. sequence pairs with the 'longest_first' truncation strategy. So the returned list will always be empty even if some tokens have been removed.\n"
          ]
        },
        {
          "output_type": "stream",
          "name": "stdout",
          "text": [
            "Predicted answer:  feelings of worthlessness is unfortunately common\n",
            "Real Answer:  Hello, and thank you for your question and seeking advice on this. Feelings of worthlessness is unfortunately common. In fact, most people, if not all, have felt this to some degree at some point in their life. You are not alone. Changing our feelings is like changing our thoughts - it's hard to do. Our minds are so amazing that the minute you change your thought another one can be right there to take it's place. Without your permission, another thought can just pop in there. The new thought may feel worse than the last one! My guess is that you have tried several things to improve this on your own even before reaching out on here. People often try thinking positive thoughts, debating with their thoughts, or simply telling themselves that they need to \"snap out of it\" - which is also a thought that carries some self-criticism. Some people try a different approach, and there are counselors out there that can help you with this. The idea is that instead of trying to change the thoughts, you change how you respond to them. You learn skills that allow you to manage difficult thoughts and feelings differently so they don't have the same impact on you that they do right now. For some people, they actually DO begin to experience less hurtful thoughts once they learn how to manage the ones they have differently. Acceptance and Commitment Therapy may be a good choice for you. There is information online and even self-help books that you can use to teach you the skills that I mentioned. Because they are skills, they require practice, but many people have found great relief and an enriched life by learning them. As for suicidal thoughts, I am very glad to read that this has not happened to you. Still, you should watch out for this because it can be a sign of a worsening depression. If you begin to think about this, it is important to reach out to a support system right away. The National Suicide Prevention Lifeline is 1-800-273-8255. The text line is #741741. I hope some other colleagues will provide you more suggestions. Be well...Robin Landwehr, DBH, LPCC\n",
            "Query1 has 2 tokens.\n",
            "\n",
            "Query has 655 tokens.\n",
            "\n",
            "Query1 has 2 tokens.\n",
            "\n",
            "Query has 331 tokens.\n",
            "\n",
            "Predicted answer:  [CLS]\n",
            "Real Answer:  Congrats on the birth of your son!Was your mom's request for you to leave her house, one which she asked awhile ago or was this her greeting when you walked in the door?My question is whether your mom had some changed circumstance in her life, whether she and you discussed living arrangements prior to your son's birth, or whether nothing was talked about, you assumed you'd be living with her, she assumed you wouldn't, and the two of you didn't speak to one another about any of this.Depending on the answers, there may be clues as to handling future expectations of others, especially your mom.From what you write, the women's home is supportive of your basic daily living needs.   It is good news that the people who run this home know and offer community resources.In your interactions with the staff of the women's home, ask all the questions necessary so you'll have a clear understanding of the apartment lease, anything at all that is on your mind about becoming employed and finding childcare.The point is to have all the major steps you're about to start, addressed.This way, you'll be minimizing the possibility of any sudden bad news by the women's home, told to you.Sending lots of good luck!\n",
            "Query1 has 2 tokens.\n",
            "\n",
            "Query has 331 tokens.\n",
            "\n",
            "Query1 has 2 tokens.\n",
            "\n",
            "Query has 334 tokens.\n",
            "\n",
            "Predicted answer:  [CLS]\n",
            "Real Answer:  Good question. There are resources out there - people to talk to. I'd try going to this link and calling the free 24/7 hotline: http://www.suicidepreventionlifeline.org/\n",
            "Query1 has 2 tokens.\n",
            "\n",
            "Query has 334 tokens.\n",
            "\n"
          ]
        },
        {
          "output_type": "stream",
          "name": "stderr",
          "text": [
            "Be aware, overflowing tokens are not returned for the setting you have chosen, i.e. sequence pairs with the 'longest_first' truncation strategy. So the returned list will always be empty even if some tokens have been removed.\n"
          ]
        },
        {
          "output_type": "stream",
          "name": "stdout",
          "text": [
            "Query1 has 2 tokens.\n",
            "\n",
            "Query has 537 tokens.\n",
            "\n"
          ]
        },
        {
          "output_type": "stream",
          "name": "stderr",
          "text": [
            "Be aware, overflowing tokens are not returned for the setting you have chosen, i.e. sequence pairs with the 'longest_first' truncation strategy. So the returned list will always be empty even if some tokens have been removed.\n"
          ]
        },
        {
          "output_type": "stream",
          "name": "stdout",
          "text": [
            "Predicted answer:  if you are medically clear in the reasons for losing your erection , then reflect on what may be creating a loss in confidence in either who you are and what you ' re doing with your life , or whether your wife has these sort of problems within herself . often a problem transfers ownership of who shows it . if you are a sensitive person its possible your erection problem reflects your wife ' s insecurities and self - doubt\n",
            "Real Answer:  First step always is to do a medical rule out so that you're sure the problem is psychological and emotion based, not a medical condition which requires care and attention.If you are medically clear in the reasons for losing your erection, then reflect on what may be creating a loss in confidence in either who you are and what you're doing with your life, or whether your wife has these sort of problems within herself.Often a problem transfers ownership of who shows it.If you are a sensitive person its possible your erection problem reflects your wife's insecurities and self-doubt.  If she is someone who is reluctant to talk about feeling unsure then in a certain way by you showing a problem, she can avoid looking at herself.There may not be a direct cause such as usually exists in a medical problem.Medicine looks for symptoms to treat.Our emotional lives are much more indirect.If you feel stress at work or are unhappy in the place you live, for example, then your frustration may show up in your sex life.Basically, do a broad inward search of your life and what it holds and maybe ask your wife to do the same.You may clear the air within yourselves and between each other so the problem goes away.\n",
            "Query1 has 2 tokens.\n",
            "\n",
            "Query has 537 tokens.\n",
            "\n"
          ]
        },
        {
          "output_type": "stream",
          "name": "stderr",
          "text": [
            "Be aware, overflowing tokens are not returned for the setting you have chosen, i.e. sequence pairs with the 'longest_first' truncation strategy. So the returned list will always be empty even if some tokens have been removed.\n"
          ]
        },
        {
          "output_type": "stream",
          "name": "stdout",
          "text": [
            "Query1 has 2 tokens.\n",
            "\n",
            "Query has 541 tokens.\n",
            "\n"
          ]
        },
        {
          "output_type": "stream",
          "name": "stderr",
          "text": [
            "Be aware, overflowing tokens are not returned for the setting you have chosen, i.e. sequence pairs with the 'longest_first' truncation strategy. So the returned list will always be empty even if some tokens have been removed.\n"
          ]
        },
        {
          "output_type": "stream",
          "name": "stdout",
          "text": [
            "Predicted answer:  [CLS]\n",
            "Real Answer:  You may be pressuring yourself to be the one person who fixes the relationship.  This is impossible because the relationship belongs to both of you.Has he told you whether he feels about himself that how he interacts with you, is contributing to problems in the couple?Is he willing to understand what you're asking of him, without shutting down with whatever he is feeling when he feels blamed?Your feelings of distrust are the natural outcome of not being properly heard and understood.  He's not willing to listen to you, so of course you're frustrated and this frustration comes out in all sorts of uneasy feelings.Willingness to hear each other in a non-defensive way, sometimes requires a couples therapist's assistance.Ask your husband if he's willing to understand, not judge you.  Be willing yourself to do the same.If after trying and getting nowhere, you'll know when to stop trying on your own as a couple and to find a specifically trained couples therapists.Warning, not all therapists are trained to do couples therapy.  Ask the therapist if they've had specialized training in couples therapy.Otherwise, having a referee type therapy session of, \"what do you think\", \"what do you think?\", isn't going to do anything except frustrate both of you further.Good luck!\n",
            "Query1 has 2 tokens.\n",
            "\n",
            "Query has 541 tokens.\n",
            "\n",
            "Query1 has 2 tokens.\n",
            "\n",
            "Query has 494 tokens.\n",
            "\n",
            "Predicted answer:  [CLS]\n",
            "Real Answer:  Hi Loyal, This is a common question. I suggest that you not diagnose yourself (only a physician can do that), but the symptoms you mention are certainly common signs of depression; rarely happy, emotional numbness, hopelessness, isolation. Depression is very common. Research suggests that one in three people may experience it in their lifetime and at any one point, ten percent of adults may be experiencing it.  Most therapists are very good at spotting the signs and treating accordingly, although only a physician can prescribe medication.The great news is that depression is treatable. Some people experiencing depression may benefit from medication (often to lift the heaviness of the illness enough so that one can focus on psychotherapy), and therapies such as cognitive behavioural therapy and behavioural activation therapy have demonstrated a clear ability to reduce symptoms of depression. Even if medication helps, seeing a therapist to look at the roots of your depression and to build coping skills is very important. A qualified therapist will help you look at the barriers to happiness in your specific case and suggest a course of treatment. You are not alone, and you don't have to suffer. Keep asking questions and you will find your answers!\n",
            "Query1 has 2 tokens.\n",
            "\n",
            "Query has 494 tokens.\n",
            "\n",
            "Query1 has 2 tokens.\n",
            "\n",
            "Query has 500 tokens.\n",
            "\n",
            "Predicted answer:  [CLS]\n",
            "Real Answer:  Going through a divorce is often a very low point for the people involved.Are you surprised that your soon to be ex doesn't help with your teenage daughter?Usually patterns and dynamics in parenting are not  sudden developments.Is it possible that what you're feeling now is more intensity to the stress of parenting by yourself, not that this is a sudden problem?This is relevant because you may be more familiar and more capable than you're giving yourself credit.  The lack of emotional support is definitely stressful.Your parenting skills may still be at the level at which they were prior to the divorce.Take your emotional weariness seriously and reflect on the various ways of stress relief which are available and interest you.Give yourself extra time to rest, nurture yourself and be flexible in finding what feels right for stabilizing yourself.Since you talk about your daughter and help in physical ways, if it is a matter of strength that you need, talk with your attorney so that the child custody agreement includes whatever is physically necessary in the way of strength, in taking care of your daughter.The Courts are very good at making effort that the custody agreement offers proper care to the kids.\n",
            "Query1 has 2 tokens.\n",
            "\n",
            "Query has 500 tokens.\n",
            "\n"
          ]
        },
        {
          "output_type": "stream",
          "name": "stderr",
          "text": [
            "Be aware, overflowing tokens are not returned for the setting you have chosen, i.e. sequence pairs with the 'longest_first' truncation strategy. So the returned list will always be empty even if some tokens have been removed.\n"
          ]
        },
        {
          "output_type": "stream",
          "name": "stdout",
          "text": [
            "Query1 has 2 tokens.\n",
            "\n",
            "Query has 558 tokens.\n",
            "\n"
          ]
        },
        {
          "output_type": "stream",
          "name": "stderr",
          "text": [
            "Be aware, overflowing tokens are not returned for the setting you have chosen, i.e. sequence pairs with the 'longest_first' truncation strategy. So the returned list will always be empty even if some tokens have been removed.\n"
          ]
        },
        {
          "output_type": "stream",
          "name": "stdout",
          "text": [
            "Predicted answer:  [CLS]\n",
            "Real Answer:  Are there any times or moments in which you feel other than \"empty\"?  Start with knowing the context of when you feel something other than empty.If there is no recent example, then in your mind, go back in time to think of when you felt something other than empty.  Recall what you liked about this time, whether you were by yourself or with others, what type of activity you were involved at the time of non-emptiness.How did you come to your conclusion that your life purpose is to reproduce and die?  If this is what your parents, siblings and extended family believe, it is possible that you have a broader view of yourself and haven't yet uncovered a way of defining your own philosophy of living.Give yourself the time to browse around online, or in person social meet ups, on your interests.  It is possible you will discover entire new areas of life and ways of considering life, that are brand new to you and which connect to your true self.This is one way of respecting your individuality, which of itself, may decrease your sense of emptiness.\n",
            "Query1 has 2 tokens.\n",
            "\n",
            "Query has 558 tokens.\n",
            "\n"
          ]
        },
        {
          "output_type": "stream",
          "name": "stderr",
          "text": [
            "Be aware, overflowing tokens are not returned for the setting you have chosen, i.e. sequence pairs with the 'longest_first' truncation strategy. So the returned list will always be empty even if some tokens have been removed.\n"
          ]
        },
        {
          "output_type": "stream",
          "name": "stdout",
          "text": [
            "Query1 has 2 tokens.\n",
            "\n",
            "Query has 557 tokens.\n",
            "\n"
          ]
        },
        {
          "output_type": "stream",
          "name": "stderr",
          "text": [
            "Be aware, overflowing tokens are not returned for the setting you have chosen, i.e. sequence pairs with the 'longest_first' truncation strategy. So the returned list will always be empty even if some tokens have been removed.\n"
          ]
        },
        {
          "output_type": "stream",
          "name": "stdout",
          "text": [
            "Predicted answer:  [CLS]\n",
            "Real Answer:  Hi Tennessee, There is nothing wrong with you. There are many good reasons why you didn't say no. You didn't say no because you were caught off guard and unprepared; there is no place in life that teaches girls or boys how to manage it when someone crashes a sexual boundary. You also live in a culture where girls are encouraged to be cooperative and not upset people, and to put the needs of other people first. You instinctively want people to like you, and people can be very coercive sexually. You said it yourself; you \"gave in\". He wore you down.There's nothing wrong with you. It wasn't your job to say no. Women aren't the gatekeepers of male sexual urges. It was his job to get your consent first. He pressured you into it. A good therapist would help you to dig deep and uncover all these barriers to saying no and more. If you said no, what might happen then? What might that mean about you? What are you avoiding feeling? Unloved, unwanted, cold? What would you have to believe in order to be confident enough to say no? That you didn't have to do anything you don't want to do? That you're special, or that sexuality is special? Would you need a better understanding of what sexual assault is? I love that you want to do some work here to strengthen your sexual boundaries, and I urge a widespread conversation about what consent it. Men and women of all ages could use more of this training.\n",
            "Query1 has 2 tokens.\n",
            "\n",
            "Query has 557 tokens.\n",
            "\n"
          ]
        },
        {
          "output_type": "stream",
          "name": "stderr",
          "text": [
            "Be aware, overflowing tokens are not returned for the setting you have chosen, i.e. sequence pairs with the 'longest_first' truncation strategy. So the returned list will always be empty even if some tokens have been removed.\n"
          ]
        },
        {
          "output_type": "stream",
          "name": "stdout",
          "text": [
            "Query1 has 2 tokens.\n",
            "\n",
            "Query has 760 tokens.\n",
            "\n"
          ]
        },
        {
          "output_type": "stream",
          "name": "stderr",
          "text": [
            "Be aware, overflowing tokens are not returned for the setting you have chosen, i.e. sequence pairs with the 'longest_first' truncation strategy. So the returned list will always be empty even if some tokens have been removed.\n"
          ]
        },
        {
          "output_type": "stream",
          "name": "stdout",
          "text": [
            "Predicted answer:  [CLS]\n",
            "Real Answer:  Thank you for posting.  I'm interested to hear some more information; such as, if you live by yourself or family, if you go to school/employed/unemployed, and what kind of things do you like to do with friends or by yourself.  Often times, when we are experiencing a strong emotion that we interpret as negative, we put most of our focus on that negative emotion and struggle to see that we do not always feel that specific emotion.  There are typically points in the day (even if it is for only in 1 minute intervals) when we do not feel that negative emotion.  When we overgeneralize, we use words like \"always\" or \"never\" and when we use those words and it may not be totally true, we feel the negative emotion based on an inaccuracy which is not fair to you.  Ask yourself some of these questions: Am I being realistic when I'm overgeneralizing things? Have I ever noticed a short period of time that I wasn't feeling anxious?  What do I notice when I am feeling anxious? What am I thinking about?  When was the last time I felt empathy?  What was different when I was able to feel empathy?  Hopefully this helps get you started.\n",
            "Query1 has 2 tokens.\n",
            "\n",
            "Query has 760 tokens.\n",
            "\n"
          ]
        },
        {
          "output_type": "stream",
          "name": "stderr",
          "text": [
            "Be aware, overflowing tokens are not returned for the setting you have chosen, i.e. sequence pairs with the 'longest_first' truncation strategy. So the returned list will always be empty even if some tokens have been removed.\n"
          ]
        },
        {
          "output_type": "stream",
          "name": "stdout",
          "text": [
            "Query1 has 2 tokens.\n",
            "\n",
            "Query has 758 tokens.\n",
            "\n"
          ]
        },
        {
          "output_type": "stream",
          "name": "stderr",
          "text": [
            "Be aware, overflowing tokens are not returned for the setting you have chosen, i.e. sequence pairs with the 'longest_first' truncation strategy. So the returned list will always be empty even if some tokens have been removed.\n"
          ]
        },
        {
          "output_type": "stream",
          "name": "stdout",
          "text": [
            "Predicted answer:  [CLS]\n",
            "Real Answer:  I agree; you need more care and support. No one deserves to feel alone, or like they hate themselves. We're all wonderful, imperfect, complicated people and we're at our best when we're all helping each other. I'm glad you wrote this question, because a lot of people have this feeling sometimes. I can tell that you're smart, because you seem to sense that the two things you wrote about are connected...you \"not being yourself\", and then how you felt when your grandma died. When Grandma died, you needed and deserved extra love and support, but the people around you didn't seem to give it to you, maybe. My hunch is that they wanted to, but that they didn't know how much you needed it, or what you needed exactly. The older you get, the more you will have to take charge of letting people know what you need. Maybe this is one of the suckier parts of being mature, but that's how it works. When you started middle school, it sounds like you changed; you got more quiet, right? That must have felt weird, to not be acting like yourself. It sounds like fear tricked you into thinking people wouldn't like you. Fear can be silly. So then, fear got you to not show yourself, and when we don't show ourselves, people can't see who we are; they don't know us as well and then they don't know what we need and they can't care for us as well either. Fear of not being liked isolated you from the people who love you. It does that to a lot of us. So, where you're at right now is because of what fear did to you, and also because when Grandma died you were already isolated so people couldn't see your pain and know that you needed support. There's a simple solution, but you'd have to be brave enough to look fear in the face and say \"Get off my back!\". \"You're not helping me by telling me lies.\" Can you be brave enough to go back to your old, louder, self? If you talk to the people closest to you...tell them what you think and how you feel, then they'll be able to give you the care that you want and deserve. I wish you well as you try this!\n",
            "Query1 has 2 tokens.\n",
            "\n",
            "Query has 758 tokens.\n",
            "\n",
            "Query1 has 2 tokens.\n",
            "\n",
            "Query has 326 tokens.\n",
            "\n",
            "Predicted answer:  [CLS]\n",
            "Real Answer:  It sounds like you have been thinking about how past hurts have influenced you, and when you try to talk about these hurts with people in your life, you are feeling invalidated. It also sounds like current conflicts are continuing to leave you feeling hurt and devalued. In working with a therapist, you may be able to get some clarity about your past, who you are, and what kinds of boundaries you want in your relationships, so that you can lead a life that is more satisfying to you.\n",
            "Query1 has 2 tokens.\n",
            "\n",
            "Query has 326 tokens.\n",
            "\n",
            "Query1 has 2 tokens.\n",
            "\n",
            "Query has 321 tokens.\n",
            "\n",
            "Predicted answer:  [CLS]\n",
            "Real Answer:  It sounds like you are feeling pretty stuck, lonely, and hopeless; like you have a desire to be more connected to people and to find purpose in life, but are not sure what to do. I am glad to hear that you have at least one friend and I think it is great that you are reaching out for more connection. If you can, working with a therapist who is competent in treating depression may be a huge benefit to you and help you to regain a sense of meaning, motivation, and connection. Additionally, anything you can do to give yourself a little break from the feeling of pointlessness and any ruminating thoughts you may be having may be of help. I know it may sound pointless in the moment, and you may feel a great deal of inertia in doing so, but you may find that if you force yourself to do something small that is pleasurable, like taking a walk for example, there's a good chance you will be glad that you did so after the fact. Thank you for reaching out.\n",
            "Query1 has 2 tokens.\n",
            "\n",
            "Query has 321 tokens.\n",
            "\n",
            "Query1 has 2 tokens.\n",
            "\n",
            "Query has 469 tokens.\n",
            "\n",
            "Predicted answer:  [CLS]\n",
            "Real Answer:  Deciding whether or not psychiatric medicine is a good option can be complicated, as you have noticed, and only a person who is licensed to prescribe can give you medical advice regarding medications. While there is sometimes relief from symptoms from medication, as you have pointed out, there are often negative side effects as well. While I can't give you advice on whether or not to continue medication, I would urge you to take an inventory of the positive and negative effects that you have noticed and educate yourself as much as possible about the short and long-term costs and benefits of psychiatric medication. If you can find a doctor, psychiatrist, or ARNP who is competent in mental health, it may also benefit you to consult with them.One thing that I am wondering about is, what is your support system like, in regards to your fight against depression? Are you seeing a therapist or attending any therapeutic or supportive group? While there are many things that one can do on their own to work through challenges such as depression, psychotherapy has been shown time and again in research to be highly effective and sometimes having a relationship with a caring, competent professional who understands depression and ways of helping can make a huge difference.\n",
            "Query1 has 2 tokens.\n",
            "\n",
            "Query has 469 tokens.\n",
            "\n",
            "Query1 has 2 tokens.\n",
            "\n",
            "Query has 468 tokens.\n",
            "\n",
            "Predicted answer:  [CLS]\n",
            "Real Answer:  As silly as it may sound, making sure that we are getting the right amount of *restful* sleep is very important when we are feeling low.  The reason for this is the lack of proper sleep significantly affects our ability to problem solve and critically evaluate our situation and can lead to a domino effect in our thinking.  I know you feel that you may be losing your friendships, but what are the facts that have led to this belief? Really ask yourself, \"are they facts?\" or are they your perspective on events.  In regards to your coping behaviours at night, it sounds very isolating and also very silenced.  As opposed to the sad music, why not try all music, allowing yourself to experience the wide breadth of emotions that are circling within you.  One of the other recommendations I would make would be to try and journal about some of those thoughts and fears in order to release them in a positively cathartic way. Some of the behaviours that you have mentioned are a bit more significant, though and I would recommend speaking with someone directly in the near future.\n",
            "Query1 has 2 tokens.\n",
            "\n",
            "Query has 468 tokens.\n",
            "\n"
          ]
        },
        {
          "output_type": "stream",
          "name": "stderr",
          "text": [
            "Be aware, overflowing tokens are not returned for the setting you have chosen, i.e. sequence pairs with the 'longest_first' truncation strategy. So the returned list will always be empty even if some tokens have been removed.\n"
          ]
        },
        {
          "output_type": "stream",
          "name": "stdout",
          "text": [
            "Query1 has 2 tokens.\n",
            "\n",
            "Query has 562 tokens.\n",
            "\n"
          ]
        },
        {
          "output_type": "stream",
          "name": "stderr",
          "text": [
            "Be aware, overflowing tokens are not returned for the setting you have chosen, i.e. sequence pairs with the 'longest_first' truncation strategy. So the returned list will always be empty even if some tokens have been removed.\n"
          ]
        },
        {
          "output_type": "stream",
          "name": "stdout",
          "text": [
            "Predicted answer:  [CLS] i always feel depressed [SEP] feeling alone and / or isolated\n",
            "Real Answer:  Feeling alone and/or isolated is almost always associated with being depressed. As humans, we need connection and interaction with others in order to feel satisfied. Given that you are frequently thinking about death, I highly recommend that you see a mental health professional as soon as possible to help assess your immediate needs and address any underlying issues that may be contributing to your feelings of loneliness and depression. The good news is that with proper, consistent treatment and commitment to change, things can really turn around for you. A therapist can work with you on building enjoyable activities into your daily routine, change maladaptive thought patterns that contribute to your sadness, and help with exploring what has gotten you to where you are. By learning about where your sadness originates, engaging in preferred activities, and changing your thought patterns, you should begin feeling relief from the burden of depression. What will likely result, is further opportunity to find social outlets and an increased ability to connect with others. Don't give up. Create some short terms goals that you can likely achieve and make your treatment a priority and a focus. You have already taken the first step in getting better by writing to this site. Keep on this path and believe in yourself. Best of luck to you!\n",
            "Query1 has 2 tokens.\n",
            "\n",
            "Query has 562 tokens.\n",
            "\n"
          ]
        },
        {
          "output_type": "stream",
          "name": "stderr",
          "text": [
            "Be aware, overflowing tokens are not returned for the setting you have chosen, i.e. sequence pairs with the 'longest_first' truncation strategy. So the returned list will always be empty even if some tokens have been removed.\n"
          ]
        },
        {
          "output_type": "stream",
          "name": "stdout",
          "text": [
            "Query1 has 2 tokens.\n",
            "\n",
            "Query has 563 tokens.\n",
            "\n"
          ]
        },
        {
          "output_type": "stream",
          "name": "stderr",
          "text": [
            "Be aware, overflowing tokens are not returned for the setting you have chosen, i.e. sequence pairs with the 'longest_first' truncation strategy. So the returned list will always be empty even if some tokens have been removed.\n"
          ]
        },
        {
          "output_type": "stream",
          "name": "stdout",
          "text": [
            "Predicted answer:  [CLS]\n",
            "Real Answer:  Everyone has some level of anxiety - it's what helps us respond to stressors in our lives and clues us into the fact that we need to respond to something going on. However, if you're feeling overwhelmed by racing thoughts, feeling like you spend a lot of energy worrying about something specific or even pretty much anything at all, and you're starting to find that it's getting in your way when it comes to living your life the way you want, then I'd suggest seeing a counselor or therapist for an assessment for anxiety. Your other concerns, though, seem pretty \"normal\" for someone who is in a relationship with a partner who has children. As a married stepmother, I've been there, and as a therapist, I can tell you that the boundaries and communication skills you have in your relationships need to be healthy for you to feel healthy. Finding some support from a group of others whose partners have children might be really helpful - being able to hear from others that you aren't alone in feeling like this can really lighten the load, and they might have some good ideas for handling certain situations. Another option is to find a counselor or therapist who has experience working with step/blended family dynamics - because even if you're not officially married, those dynamics come into play whenever there are kids from another relationship involved. You may even consider couples counseling so that both of you can learn to talk about your relationship needs and concerns in a way that will encourage connection and strengthen your sense of partnership.\n",
            "Query1 has 2 tokens.\n",
            "\n",
            "Query has 563 tokens.\n",
            "\n",
            "Query1 has 2 tokens.\n",
            "\n",
            "Query has 348 tokens.\n",
            "\n",
            "Predicted answer:  [CLS]\n",
            "Real Answer:  Seeking professional help does not mean that you will necessarily be admitted into an inpatient setting - though  to be honest, that can become an option if you feel unsafe or if you are unable to plan for safety. However, many clients who struggle with self-harm can find help in outpatient settings - particularly those which offer a treatment called Dialectical Behavioral Therapy (DBT). Looking for a DBT professional or group therapy setting may be particularly helpful, but a skilled professional can help you to figure out how to identify other options even when you are experiencing overwhelming emotions. Without knowing your location, I also recommend searching to find your local helpline or suicide prevention hotline. The volunteers on the other end of the line can be very helpful even if your intention is not suicide and they are likely also to be able to connect you with resources in your area. Calling into the helpline may also be a first step alternative to self-harming when you're feeling overwhelmed.\n",
            "Query1 has 2 tokens.\n",
            "\n",
            "Query has 348 tokens.\n",
            "\n",
            "Query1 has 2 tokens.\n",
            "\n",
            "Query has 327 tokens.\n",
            "\n",
            "Predicted answer:  it ' s hard to determine whether your friend would meet the criteria for an official diagnosis of depression without working with him\n",
            "Real Answer:  First of all, I can tell that you really care about your friend and I think it's great that you are reaching out with your concern. It's hard to determine whether your friend would meet the criteria for an official diagnosis of depression without working with him, however, whether he does or not, therapy may be beneficial for him in working through these difficult feelings and relational challenges. Unfortunately, you can't make your friend get help. He will ultimately need to make that decision for himself, however, you can talk to him about your concerns and your hopes that he will reach out for help.\n",
            "Query1 has 2 tokens.\n",
            "\n",
            "Query has 327 tokens.\n",
            "\n",
            "Query1 has 2 tokens.\n",
            "\n",
            "Query has 330 tokens.\n",
            "\n",
            "Predicted answer:  [CLS]\n",
            "Real Answer:  The fact that you're reaching out says that there is something in you that wants this to be different, and that drive might be something worth tapping into. \"Why do I keep trying?\" is a question that might give you some insight into what it is in you that keeps you going. A lot of therapists/counselors are now offering video therapy. As long as you're in the same state as a therapist offering this service, you could connect with someone helpful from the comfort of your home, even being in your small town. I'd recommend looking into this option, because you're asking a lot of really deep questions and might benefit from having those conversations with someone who can help you find your own answers.\n",
            "Query1 has 2 tokens.\n",
            "\n",
            "Query has 330 tokens.\n",
            "\n",
            "Query1 has 2 tokens.\n",
            "\n",
            "Query has 324 tokens.\n",
            "\n",
            "Predicted answer:  i\n",
            "Real Answer:  I'm sorry to hear that you are feeling as if you're in a slump. First of all, nothing is wrong with you. Many people report similar symptoms. Have you ever talked with a physician regarding your symptoms? Two extreme emotions such as feeling extremely happy and then feeling extremely low for a length of time may indicate a mood disorder. I think it would be best to talk with your doctor or a therapist to help pinpoint the issue causing them.It's possible that it could just be certain stressors in your life that are causing the two extremities but you definitely want to rule out any mental health issues. If it is in fact mental health related there are many medications or therapy choices that can help. Thanks for reaching out! I hope that you will feel back on track soon!\n",
            "Query1 has 2 tokens.\n",
            "\n",
            "Query has 324 tokens.\n",
            "\n",
            "Query1 has 2 tokens.\n",
            "\n",
            "Query has 331 tokens.\n",
            "\n",
            "Predicted answer:  [CLS]\n",
            "Real Answer:  Probably.  I always tell the new parents I work with (and this is just as true for dads as it is for moms) that if you are feeling off, seek help.  Postpartum Support International (www.postpartum.net) is a great place to start finding resources and locating support.\n",
            "Query1 has 2 tokens.\n",
            "\n",
            "Query has 331 tokens.\n",
            "\n",
            "Query1 has 2 tokens.\n",
            "\n",
            "Query has 326 tokens.\n",
            "\n",
            "Predicted answer:  [CLS]\n",
            "Real Answer:  You are not alone, many people fear opening up to family members about the topic of depression or mental illness. There are many different reason why some may fear telling their parents. The most common thoughts I hear in my office are: \" My parents won't understand me\", I may cause more problems to the family\", \"I am worried that something bad may happen if I tell them\". If possible express your current concerns and worries to your parents. You can start the conversation with your parents by saying \"I have not been feeling like myself lately, and I may want to see a counselor\". I think you are doing the right thing by going on this website and asking for help. Just a helpful tip: positive self-talk can be beneficial before having difficult conversations with others. For example, tell yourself something positive before talking to your parents such as \"I feel confident in myself, and I am doing this to overcome my fear of talking to my parents\" can help to decrease the anxiety you are feeling leading up to the conversation. I would recommend if you are feeling depressed or down it would be beneficial to seek counseling to understand your current thoughts and behaviors. Best of luck and hope you decide to start counseling.\n",
            "Query1 has 2 tokens.\n",
            "\n",
            "Query has 326 tokens.\n",
            "\n",
            "Query1 has 2 tokens.\n",
            "\n",
            "Query has 354 tokens.\n",
            "\n",
            "Predicted answer:  [CLS]\n",
            "Real Answer:  Congratulations on leaving your marriage!It is ok and natural to feel sadness, loss, uncertainty in direction, hurt, resulting from ending the marriage.Possibly what you consider \"pity\" is a combination of these feelings.Be kind and caring toward who you are since you just put yourself through a major separation and need time to clear out the old emotions that connected you to your ex.There is very, very little chance of him helping you since he lacks compassion and empathy.More likely any help he gave would be in order to manipulate you.Maybe for now your server job is ok do you have more time to concentrate on taking care of your emotions.You were a manager once, you can be a manager again when you feel ready for doing so.Good luck!\n",
            "Query1 has 2 tokens.\n",
            "\n",
            "Query has 354 tokens.\n",
            "\n",
            "Query1 has 2 tokens.\n",
            "\n",
            "Query has 354 tokens.\n",
            "\n",
            "Predicted answer:  because nothing from the outside\n",
            "Real Answer:  The ADHD and manic depressive episodes are terms other people told you that you have.You don't have to accept these words to describe who you are.A lot of mental health in our country is about telling people what's wrong with them and giving pills for these so called conditions, instead of helping a person know more about themselves in order to make good decisions.You can be happy because nothing from the outside, such as the names people have used to tell you who you are, can interfere with your own wish to be happy.Others can slow you down because of the self-doubt and hurt feelings.  No one can take happiness from you, only they can make it harder to find and hold onto.Anger management only works temporarily because it is a surface approach.Think of the reason you are angry.  This will be better to know so you will be able to address it.Then you will not have anger to manage.\n",
            "Query1 has 2 tokens.\n",
            "\n",
            "Query has 354 tokens.\n",
            "\n",
            "Query1 has 2 tokens.\n",
            "\n",
            "Query has 418 tokens.\n",
            "\n",
            "Predicted answer:  draw more favorable people to you\n",
            "Real Answer:  Having time all to yourself may be necessary so you have time to reflect on your own identity and values, become more clear on what matters most to you, and with this increased self-understanding, be able to attract people who will feel like satisfying friends.Having a relationship with someone whom you push away and are pushed away, with someone who is irritating, seems to have limited benefit for each of you.Maybe you are together from fear of being alone, and being alone is exactly what you may now need in your life in order to draw more favorable people to you.\n",
            "Query1 has 2 tokens.\n",
            "\n",
            "Query has 418 tokens.\n",
            "\n",
            "Query1 has 2 tokens.\n",
            "\n",
            "Query has 421 tokens.\n",
            "\n",
            "Predicted answer:  [CLS]\n",
            "Real Answer:  I admire your courage for stating your view about anti-depressants.  Questioning mainstream thinking and being in touch with your own views, are signs of strength and clarity in a person.As a therapist, I always tell my patients to avoid anti-depressants.Their effectiveness is in suppressing a person's mood and feelings.  If someone does not know how they are feeling, then they will have more difficulty in understanding themselves, their uncertainties and hesitations, and overall, how they relate to others and what they expect from others.Anti-depressants mask how someone feels.In a crisis, temporarily taking anti-depressants may be helpful.  If someone is so overwhelmed that they are not functioning, then  suppressing unhappy feelings so that the person can get through a day, may be of benefit for a short while.Basically, respect and follow your own opinion about anti-depressants.   Your view is shared by many.   It is a minority opinion, and very valid. If you would like to shop for a therapist, ask the person on the phone, what their opinions are about anti-depressants.Ideally, you will eventually find a therapist who thinks in a way which is similar to you, or at least similar enough that you will have a sense that you are able to trust working with them on whatever you define as problematic.I hope you will have an easy and productive therapist search!\n",
            "Query1 has 2 tokens.\n",
            "\n",
            "Query has 421 tokens.\n",
            "\n"
          ]
        },
        {
          "output_type": "stream",
          "name": "stderr",
          "text": [
            "Be aware, overflowing tokens are not returned for the setting you have chosen, i.e. sequence pairs with the 'longest_first' truncation strategy. So the returned list will always be empty even if some tokens have been removed.\n"
          ]
        },
        {
          "output_type": "stream",
          "name": "stdout",
          "text": [
            "Query1 has 2 tokens.\n",
            "\n",
            "Query has 631 tokens.\n",
            "\n"
          ]
        },
        {
          "output_type": "stream",
          "name": "stderr",
          "text": [
            "Be aware, overflowing tokens are not returned for the setting you have chosen, i.e. sequence pairs with the 'longest_first' truncation strategy. So the returned list will always be empty even if some tokens have been removed.\n"
          ]
        },
        {
          "output_type": "stream",
          "name": "stdout",
          "text": [
            "Predicted answer:  listen to anxiety\n",
            "Real Answer:  Is it possible you simply didn't mix well with the particular therapists with whom you've worked?   If this is possible, interview a therapist before  starting therapy.   Then you will be choosing a therapist who feels compatible with your way of seeing yourself and your life.Also, therapy isn't for everyone.Read about the different healing modalities and see if one of these speaks to your interest in feeling better.What matters most is finding among all the legitimate healing methods, what you believe will be effective.\n",
            "Query1 has 2 tokens.\n",
            "\n",
            "Query has 631 tokens.\n",
            "\n"
          ]
        },
        {
          "output_type": "stream",
          "name": "stderr",
          "text": [
            "Be aware, overflowing tokens are not returned for the setting you have chosen, i.e. sequence pairs with the 'longest_first' truncation strategy. So the returned list will always be empty even if some tokens have been removed.\n"
          ]
        },
        {
          "output_type": "stream",
          "name": "stdout",
          "text": [
            "Query1 has 2 tokens.\n",
            "\n",
            "Query has 622 tokens.\n",
            "\n"
          ]
        },
        {
          "output_type": "stream",
          "name": "stderr",
          "text": [
            "Be aware, overflowing tokens are not returned for the setting you have chosen, i.e. sequence pairs with the 'longest_first' truncation strategy. So the returned list will always be empty even if some tokens have been removed.\n"
          ]
        },
        {
          "output_type": "stream",
          "name": "stdout",
          "text": [
            "Predicted answer:  [CLS]\n",
            "Real Answer:  Hi Helena,I felt a bit sad when I read this. This is a new term for me... \"semi-relationship\". What does it mean? I know that today's culture for young people is more of a \"hook-up\" culture than a dating one. Maybe that means that you develop connections to people but you keep yourself from hoping for a full relationship because no one is doing that anymore. That makes me feel sad. I hear a lot of young women (I'm not sure you're female, but that's my guess) say that they struggle with hook-ups because they can't let themselves hope for a phone call after a hook-up. Research tells us that, after a hook-up, college age women tend to feel used and unworthy, and men tend to feel guilty. I think this scenario works better for men than women, but many of both genders are left unsatisfied in the end.This is only one possible explanation for your anxiety...that your gut knows that it wants to feel fully coupled with someone but you struggle with whether it's okay to want or expect that.Maybe take a moment and listen to anxiety. Anxiety tends to try to convince us that something's wrong with us or something bad's going to happen. Anxiety sometimes prefers to stay vague (it's more difficult to refute it then), but you can try to clarify it's whisperings by asking yourself these questions: What am I afraid of? What is the worst thing that might happen here? Then what might happen, and what would be the worst part of that? Keep going until you find the very worst thing that might happen? Might someone not want you...might you feel rejected...or feel not good enough...you might get hurt?Then when you find that core fear, you can look at your life and I bet you'd find a place where that idea or fear originated. A big moment (or many smaller ones) when you actually DID feel or get rejected or abandoned or hurt. In the end, it's a feeling you're trying to avoid (not life or relationship), and anxiety is trying to help you avoid it by making you overcautious. But this doesn't work for you! Good! With the help of a qualified therapist, you can learn to talk back to anxiety and move forward in life and love with calm. confidence.\n",
            "Query1 has 2 tokens.\n",
            "\n",
            "Query has 622 tokens.\n",
            "\n"
          ]
        },
        {
          "output_type": "stream",
          "name": "stderr",
          "text": [
            "Be aware, overflowing tokens are not returned for the setting you have chosen, i.e. sequence pairs with the 'longest_first' truncation strategy. So the returned list will always be empty even if some tokens have been removed.\n"
          ]
        },
        {
          "output_type": "stream",
          "name": "stdout",
          "text": [
            "Query1 has 2 tokens.\n",
            "\n",
            "Query has 584 tokens.\n",
            "\n"
          ]
        },
        {
          "output_type": "stream",
          "name": "stderr",
          "text": [
            "Be aware, overflowing tokens are not returned for the setting you have chosen, i.e. sequence pairs with the 'longest_first' truncation strategy. So the returned list will always be empty even if some tokens have been removed.\n"
          ]
        },
        {
          "output_type": "stream",
          "name": "stdout",
          "text": [
            "Predicted answer:  [CLS]\n",
            "Real Answer:  It sounds like you are feeling like things are hopeless and out of control and you're not sure what to do about it. If you can find a competent therapist to work with, together you may be able to come up with some strategies for alleviating the overwhelming distress that you are experiencing and gain some insight into what may be contributing to these challenges. Additionally, a therapist may be able to support you in getting back on your feet in regards to work, a place to live, and showing up with your partner in a way that will be more satisfying to you.\n",
            "Query1 has 2 tokens.\n",
            "\n",
            "Query has 584 tokens.\n",
            "\n"
          ]
        },
        {
          "output_type": "stream",
          "name": "stderr",
          "text": [
            "Be aware, overflowing tokens are not returned for the setting you have chosen, i.e. sequence pairs with the 'longest_first' truncation strategy. So the returned list will always be empty even if some tokens have been removed.\n"
          ]
        },
        {
          "output_type": "stream",
          "name": "stdout",
          "text": [
            "Query1 has 2 tokens.\n",
            "\n",
            "Query has 585 tokens.\n",
            "\n"
          ]
        },
        {
          "output_type": "stream",
          "name": "stderr",
          "text": [
            "Be aware, overflowing tokens are not returned for the setting you have chosen, i.e. sequence pairs with the 'longest_first' truncation strategy. So the returned list will always be empty even if some tokens have been removed.\n"
          ]
        },
        {
          "output_type": "stream",
          "name": "stdout",
          "text": [
            "Predicted answer:  [CLS]\n",
            "Real Answer:  One of the first steps is to manage anxiety and depression symptoms are to establish a good self-care routine.  Start with the most basic things: Eating balanced meals, sleeping at from 6-8 hours and exercise at least 30 minutes a day.  These will help you to regulate the chemical imbalance that affects your mood, plus exercising gives you time to vent and be distracted from your thoughts.  Once basic self-care is established, I suggest that is a good time to start exploring the source of these feelings, and address them trough therapy.  If you have difficulty initiating self-care routine talk to your therapist about what motivates you and pushes you to do things, you might find the key during the process.  You could also contact your physician or a psychiatrist to discuss medication options if it’s too challenging to begin basic self-care.¿Cómo puedo controlar mi ansiedad?Uno de los primeros pasos para manejar la ansiedad y la depresión es establecer una buena rutina de cuidado personal.  Comienza con las cosas más básicas: Comer comidas balanceadas, dormir de 6-8 horas en la noche, y ejercitarte por lo menos 30 minutos al día. Esto te ayudara a regular el desbalance químico que afecta tu estado de ánimo, además de que te da tiempo para desahogarte y distraerte.  Ya que la rutina de cuidado eta establecida, es un buen momento para comenzar a explorar la fuente de tus sentimientos negativos, y explóralos a través de terapia. Si se dificulta comenzar a crear una rutina puedes consultar con tu terapista para identificar motivaciones que te impulsen a comenzar.  También puedes contactar a tu medico primario o psiquiatra para discutir medicamentos que te pueden ayudar a manejar estos síntomas e iniciar cuidado básico.\n",
            "Query1 has 2 tokens.\n",
            "\n",
            "Query has 585 tokens.\n",
            "\n",
            "Query1 has 2 tokens.\n",
            "\n",
            "Query has 409 tokens.\n",
            "\n",
            "Predicted answer:  [CLS]\n",
            "Real Answer:  Hi Campbell River, You say you have anger but you don't mention how it shows. Or maybe it doesn't. Are you aggressive with your girlfriend? Since you mention depression, I wonder if you're bottling it all up somewhere instead of letting it show at all. If this is the case, I admire your ability to not lash out at someone who's hurting you. However, if they are totally  unexpressed, anger turn inward and shift into depression. When she yells at you, what do you do? Is this the moment that you feel the most angry? I wouldn't be surprised; anger is a normal response to someone yelling at you. Something about anger...it's often there to cover up our more vulnerable emotions. Under the anger I wonder if you feel worthless, powerless, scared, unloved. Part of the trick to reducing anger is identifying those other emotions and expressing them. You say you don't know how to deal with life, and I think maybe you mean you don't know how to deal with emotions. Lots of people don't! This is confusing for most of us. What am I feeling? Why is it so strong? I'm afraid to express it for fear of hurting someone (or falling apart, or feeling alone...). How do I know what to express and what to be quiet about? These are all great questions to ask yourself, and a qualified therapist can help you sort it all out and support you in your growth. I wish you well!\n",
            "Query1 has 2 tokens.\n",
            "\n",
            "Query has 409 tokens.\n",
            "\n",
            "Query1 has 2 tokens.\n",
            "\n",
            "Query has 413 tokens.\n",
            "\n",
            "Predicted answer:  [CLS]\n",
            "Real Answer:  This can be a difficult situation.  Typically, only animals that are specifically trains to accomplish a specific task are legally protected as Service Animsls. Even though that can be very helpful, emotional support animals are not generally protected in the same way.You might not be able to make your landlord accommodate you. If possible, you may want to consider a different apparent that is more animal friendly.\n",
            "Query1 has 2 tokens.\n",
            "\n",
            "Query has 413 tokens.\n",
            "\n"
          ]
        },
        {
          "output_type": "stream",
          "name": "stderr",
          "text": [
            "Be aware, overflowing tokens are not returned for the setting you have chosen, i.e. sequence pairs with the 'longest_first' truncation strategy. So the returned list will always be empty even if some tokens have been removed.\n"
          ]
        },
        {
          "output_type": "stream",
          "name": "stdout",
          "text": [
            "Query1 has 2 tokens.\n",
            "\n",
            "Query has 789 tokens.\n",
            "\n"
          ]
        },
        {
          "output_type": "stream",
          "name": "stderr",
          "text": [
            "Be aware, overflowing tokens are not returned for the setting you have chosen, i.e. sequence pairs with the 'longest_first' truncation strategy. So the returned list will always be empty even if some tokens have been removed.\n"
          ]
        },
        {
          "output_type": "stream",
          "name": "stdout",
          "text": [
            "Predicted answer:  unresolved anxiety\n",
            "Real Answer:  It has been said that depression is often the result of a blocked goal.  Often people struggle with both anxiety and depression but have difficulty determining which is the most important issue. For some, depression is the result of frequently blocked goals and when their predominant issues are evaluated, they discover that they are anxious (worried) about a lot of areas in their life but seem to find no relief.  When there is no relief and there have been numerous attempts (either in their mind or in practical application) to resolve the anxiety, depression is often the result.  In this type of case, depression is not the main or underlying issue. The anxiety is the underlying issue.  Having \"a lot on my mind\" sounds like anxiety. Unresolved anxiety can lead to feelings of depression which are often associated with \"emptiness.\"  In the question above, I would want to evaluate all of the issues surrounding having \"a lot on my mind\" and determine where these might be coming from. Has there been ongoing rejection from peers? From family? If so, why does this seem to be happening?  Isolation is often a protective measure that one implements to avoid further pain. Where does that need to protect originate?  Are there unmet needs from childhood? Are there traumatic life events that have created a need to self-protect as a defense mechanism? We can feel \"alone\" even when in a crow of people or at a party.  This has nothing, in this case, to do with being around people. It has more to do with how we view ourselves.  If there is a prevailing message or script that has been internalized that says, \"You are worth nothing\" or \"You don't deserve the company of others\" then being around people will not alleviate the problem but only exacerbate it. I would want to evaluate how one feels about themselves and what negative messages one has received and has repeated to oneself over time. The Developmental Needs Meeting Strategy is a therapy aimed at addressing unmet childhood needs. If there is specific trauma that is associated with socializing with people, then EMDR can be very helpful in desensitizing and reprocessing the trauma.  Looking at whether this individual's issue with emptiness is straight depression or whether it is depression as a result of unresolved anxiety is key to determining a treatment strategy.\n",
            "Query1 has 2 tokens.\n",
            "\n",
            "Query has 789 tokens.\n",
            "\n"
          ]
        },
        {
          "output_type": "stream",
          "name": "stderr",
          "text": [
            "Be aware, overflowing tokens are not returned for the setting you have chosen, i.e. sequence pairs with the 'longest_first' truncation strategy. So the returned list will always be empty even if some tokens have been removed.\n"
          ]
        },
        {
          "output_type": "stream",
          "name": "stdout",
          "text": [
            "Query1 has 2 tokens.\n",
            "\n",
            "Query has 797 tokens.\n",
            "\n"
          ]
        },
        {
          "output_type": "stream",
          "name": "stderr",
          "text": [
            "Be aware, overflowing tokens are not returned for the setting you have chosen, i.e. sequence pairs with the 'longest_first' truncation strategy. So the returned list will always be empty even if some tokens have been removed.\n"
          ]
        },
        {
          "output_type": "stream",
          "name": "stdout",
          "text": [
            "Predicted answer:  you have shifted roles in your life\n",
            "Real Answer:  It is not easy being a wife and mother. You have shifted roles in your life. You went from having a career to focusing on your family. Transitioning can be hard, especially when we feel we gave something up that we really wanted. I want to acknowledge you for wanting to be the best wife and mother you can. I think it is great that you are self-aware and want to work on this.Feeling \"unhappy and trapped\" may also mean that you are  believing these negative thoughts are absolutely true. We have lots and lots of thoughts throughout the day. Sometimes we pay a lot of attention to some and some we ignore. Right now these thoughts are getting a lot of your attention and perhaps you are thinking because you are thinking them they are true.  Is it really true that you trapped? You also said that you have an amazing life. It doesn't sound like you are only having negative thoughts. You have some positive ones, too. However, you are giving a lot of weight to the negative thoughts, more weight than the positive ones.I also wonder if you are struggling with the fact that you are even having this thought. One thing that can be helpful is to recognize that you are having a thought, that it is a negative thought, that thinking it does not make it true, and to let it go. This is the basis for mindfulness work that can be really helpful. It is a great place for you to start so you can balance out your thoughts and emotions.Best of luck to you!\n",
            "Query1 has 2 tokens.\n",
            "\n",
            "Query has 797 tokens.\n",
            "\n"
          ]
        },
        {
          "output_type": "stream",
          "name": "stderr",
          "text": [
            "Be aware, overflowing tokens are not returned for the setting you have chosen, i.e. sequence pairs with the 'longest_first' truncation strategy. So the returned list will always be empty even if some tokens have been removed.\n"
          ]
        },
        {
          "output_type": "stream",
          "name": "stdout",
          "text": [
            "Query1 has 2 tokens.\n",
            "\n",
            "Query has 636 tokens.\n",
            "\n"
          ]
        },
        {
          "output_type": "stream",
          "name": "stderr",
          "text": [
            "Be aware, overflowing tokens are not returned for the setting you have chosen, i.e. sequence pairs with the 'longest_first' truncation strategy. So the returned list will always be empty even if some tokens have been removed.\n"
          ]
        },
        {
          "output_type": "stream",
          "name": "stdout",
          "text": [
            "Predicted answer:  [CLS]\n",
            "Real Answer:  If you are a people-pleaser type or a natural caretaker, you can slowly \"lose yourself\" over time if you are always tending to the needs of others and neglecting yourself.  If this sounds like a familiar pattern for you, this may have happened without you even realizing it if you were raised in a family where you had to pick up the slack alot.  Maybe your parents were addicts or they might have even just worked all the time and you learned to \"take care of everything\" because that is what you had to do to help the family run smoothly. Over time, a person who grows up in this type of environment learns that you put the needs of others before your own.  You might also be stuck in these types of patterns in intimate relationships as well; if you completely give yourself over to your significant other and you don't create a life for yourself with your own interests and supportive friends, you are at risk of losing what is unique and amazing about you.  If you grew up in a family where you learned this role out of survival or because it was needed to take care of your family, it's easy to re-create this in adult relationships.In both scenarios, if there is no awareness that this \"self sacrifice at the expense of others\" is going on, your identity is shaped around being a caretaker/enabler/people-pleaser and down the road it can lead to depression, low self esteem, and a confused sense of self.  Basically, you spend so much time helping other people that you don't make time for yourself or create a life of fulfillment.  Before you realize it, you have been living a life for others instead of yourself and you have no idea who YOU are.  Supporting loved ones and friends is important and certainly admirable, but if you are always that person that rescues, those that rely on you begin to take advantage of you and they will suck you dry if you let them.  In conclusion, learning to set boundaries with those in your life that are too needy becomes a really important part of the process when you begin to recognize that you are unhappy and unfulfilled in life.  It sounds like you may be at that crossroads right now.  Take one small step at at a time.  Identify the worst offenders in your life that suck time and energy, and limit your contact and/or set some strong boundaries with those people so you can refocus and do some soul-searching.  Meanwhile, engage in pleasurable activities with people you enjoy being with, get yourself outside in the fresh air, get some good sleep, and eat some nourishing food!\n",
            "Query1 has 2 tokens.\n",
            "\n",
            "Query has 636 tokens.\n",
            "\n"
          ]
        },
        {
          "output_type": "stream",
          "name": "stderr",
          "text": [
            "Be aware, overflowing tokens are not returned for the setting you have chosen, i.e. sequence pairs with the 'longest_first' truncation strategy. So the returned list will always be empty even if some tokens have been removed.\n"
          ]
        },
        {
          "output_type": "stream",
          "name": "stdout",
          "text": [
            "Query1 has 2 tokens.\n",
            "\n",
            "Query has 647 tokens.\n",
            "\n"
          ]
        },
        {
          "output_type": "stream",
          "name": "stderr",
          "text": [
            "Be aware, overflowing tokens are not returned for the setting you have chosen, i.e. sequence pairs with the 'longest_first' truncation strategy. So the returned list will always be empty even if some tokens have been removed.\n"
          ]
        },
        {
          "output_type": "stream",
          "name": "stdout",
          "text": [
            "Predicted answer:  [CLS]\n",
            "Real Answer:  Each person handles themselves differently in any situation.Since you are willing to speak about how you feel, keep looking for blogs and forums on whatever topics you feel most describe your current circumstance.Your mother and sister, even though they are family seem to prefer the opposite method to yours.Find your own path of supportive other people and possibly a therapist.This way you’ll have understanding and validation which your mom and sister don’t want to give you right now.\n",
            "Query1 has 2 tokens.\n",
            "\n",
            "Query has 647 tokens.\n",
            "\n",
            "Query1 has 2 tokens.\n",
            "\n",
            "Query has 421 tokens.\n",
            "\n",
            "Predicted answer:  [CLS] why do i feel like i don ' t belong anywhere ? [SEP] from the little bit you wrote , my guess is you haven ' t figured out where and how to lay down your own set of roots . usually people who have a university level eduction are old enough to work in order to support themselves . unless you have a medical condition\n",
            "Real Answer:  From the little bit you wrote, my guess is you haven't figured out where and how to lay down your own set of roots.Usually people who have a university level eduction are old enough to work in order to support themselves.Unless you have a medical condition which limits or prevents you from working a full-time job, would you guess that the effort and thought involved in deciding in what professional area and geographic location to look for work, would offer you a way to establish your identity?My suggestion is to pay more attention to your own likes, dislikes, and interests.   To know these areas more deeply would define the type of people with whom you identify, have a common interest and with whom you'd like to socialize.The more you realize who you are, the easier time you'll have to find like-minded others and feel securely at home with them and yourself.Again, if you have a medical disability or condition which prevents employment or easily socializing with other people, then this advice would need to be modified for your specific strengths.\n",
            "Query1 has 2 tokens.\n",
            "\n",
            "Query has 421 tokens.\n",
            "\n",
            "Query1 has 2 tokens.\n",
            "\n",
            "Query has 416 tokens.\n",
            "\n",
            "Predicted answer:  [CLS]\n",
            "Real Answer:  I am so very sorry for how pressured and sad you feel right now.Definitely all family members have an effect on the other ones.From what you write, your family members are not considering the effect their negative comments have on you.Also, keep in mind that each person is responsible for deciding to argue or find a different way to discuss a problem. You are not in control of the other people in your family.More likely they take the easy way out and blame you for what they don't want to know about themselves.Stay aware that the family's decision to target you doesn't mean that you are doing something wrong.   Certainly your existence is not wrong, which is the degree to which the unfairness seems to have spread.What to do about it is read about family systems to see more explanations on how you are being unfairly treated.Also stay in touch with friends bc these are the people who value and respect you.\n",
            "Query1 has 2 tokens.\n",
            "\n",
            "Query has 416 tokens.\n",
            "\n",
            "Query1 has 2 tokens.\n",
            "\n",
            "Query has 490 tokens.\n",
            "\n",
            "Predicted answer:  involve yourself in projects from which you ' ll feel satisfied by your own results\n",
            "Real Answer:  Definitely it is sad to lose friends who are a regular part of daily life.How did you meet the two friends who just moved away?   Its possible that you could look for similar situations and see if anyone catches your interest to know as a friend.Keeping in mind that friendship is based on trust and common interests, and that these qualities require time to observe and develop, think of what you can do to keep happy while these paths unfold.In addition to being open to meeting new friends, involve yourself in projects from which you'll feel satisfied by your own results.\n",
            "Query1 has 2 tokens.\n",
            "\n",
            "Query has 490 tokens.\n",
            "\n",
            "Query1 has 2 tokens.\n",
            "\n",
            "Query has 491 tokens.\n",
            "\n",
            "Predicted answer:  self - diagnosing is something that we all do about one health issue or another\n",
            "Real Answer:  Hello, and thank you for your question. Self-diagnosing is something that we all do about one health issue or another. Taking a guess about what may or may not be happening to us is completely normal, however the actual clinical diagnoses of a mental health disorder requires a licensed mental health professional. Here are a few reasons for this: 1. Making a clinical diagnosis often requires other things besides matching up the symptoms of a disorder. To come to a diagnoses for any of the things you mentioned, a counselor would consult the DSM, but they may also use some type of screening tool, assessment or scale. Many disorders have similarities and it requires someone with training to tease out the differences in the symptoms. 2. Our judgement is sometimes off when it comes to assessing ourselves. We really can't be objective. Something as serious as determining a diagnosis really needs to be done by someone who has that objectivity. In addition, once you know your diagnosis, treating it usually requires help from a professional. 3. Sometimes the symptoms of a mental health disorder makes self-diagnoses impossible, in and of itself. For example, someone could be having hallucinations or delusions and not realize it. That would clearly make it impossible for them to diagnose themselves. There a many examples where something like this could happen with different mental health disorders. There are other reasons, but these are three important ones. Now, does this mean that you are wrong about your diagnosis? Maybe not. You may be correct. But, it is important to get this confirmed by a professional mental health clinician. If a disorder is then found, you can begin to talk about treatment. Hope this was helpful. Be well.Robin J. Landwehr, DBH, LPCC, NCC\n",
            "Query1 has 2 tokens.\n",
            "\n",
            "Query has 491 tokens.\n",
            "\n"
          ]
        },
        {
          "output_type": "stream",
          "name": "stderr",
          "text": [
            "Be aware, overflowing tokens are not returned for the setting you have chosen, i.e. sequence pairs with the 'longest_first' truncation strategy. So the returned list will always be empty even if some tokens have been removed.\n"
          ]
        },
        {
          "output_type": "stream",
          "name": "stdout",
          "text": [
            "Query1 has 2 tokens.\n",
            "\n",
            "Query has 1,018 tokens.\n",
            "\n"
          ]
        },
        {
          "output_type": "stream",
          "name": "stderr",
          "text": [
            "Be aware, overflowing tokens are not returned for the setting you have chosen, i.e. sequence pairs with the 'longest_first' truncation strategy. So the returned list will always be empty even if some tokens have been removed.\n"
          ]
        },
        {
          "output_type": "stream",
          "name": "stdout",
          "text": [
            "Predicted answer:  [CLS]\n",
            "Real Answer:  Maybe right now it is time for you to rest before the next wave of new activity comes along.To have \"no interest\" may mean you are already so saturated with recent situations and their meaning that you are naturally withdrawing in order to regain your energy.\n",
            "Query1 has 2 tokens.\n",
            "\n",
            "Query has 1,018 tokens.\n",
            "\n"
          ]
        },
        {
          "output_type": "stream",
          "name": "stderr",
          "text": [
            "Be aware, overflowing tokens are not returned for the setting you have chosen, i.e. sequence pairs with the 'longest_first' truncation strategy. So the returned list will always be empty even if some tokens have been removed.\n"
          ]
        },
        {
          "output_type": "stream",
          "name": "stdout",
          "text": [
            "Query1 has 2 tokens.\n",
            "\n",
            "Query has 1,029 tokens.\n",
            "\n"
          ]
        },
        {
          "output_type": "stream",
          "name": "stderr",
          "text": [
            "Be aware, overflowing tokens are not returned for the setting you have chosen, i.e. sequence pairs with the 'longest_first' truncation strategy. So the returned list will always be empty even if some tokens have been removed.\n"
          ]
        },
        {
          "output_type": "stream",
          "name": "stdout",
          "text": [
            "Predicted answer:  your family\n",
            "Real Answer:  I understand that talking about our feelings can be awkward and using jokes is a way to relieve that awkwardness, but there is a right or wrong way to talk about your feelings. The important part is to recognize that you need help addressing those feelings and reaching out, which you are doing already.  Having small conversations with your family is helpful, you can explain to them that you have been experiencing emotional discomfort and would like to talk to them about it.   Since you been experiencing anxiety, panic attacks, and have thought about dying,  It is VERY important that you ask them to help you make an appointment with a mental health professional.  Those symptoms indicate that your body is having a hard time managing intense feelings and it will be helpful if you understand why they occur and how to cope with them. You may contact your school counselor or you may schedule an appointment with a local therapist.  You may contact the Texas Crisis Hotline 800-989-6884 where you can talk or chat with mental health professionals or schedule a teletherapy session.   The National Crisis Hotline is also available for calling and texting 1-800-273-8255.I am a Licensed Professional Counselor in Texas, currently providing services in West Houston.  You may reach me at 787-466-5478 to schedule an appointment.   ------------------------------------------------------------------------------------------------------------------------------------------¿Cómo hablo de mis sentimientos de depresión y con quién hablo?Soy un adolecente.  He estado experimentando episodios de depresión severa (si es lo que creo) por muchos años.  Siempre se pone peor.  He estado teniendo ataques de pánico, sintiendo que no puedo controlar mis miedos y sintiendo que ya no importa si quiero vivir o morir.  El problema es que ya no sé a quién pedirle ayuda.  Cuando intento hablar con mis padres, Me congelo y solo puedo hacer bromas porque nunca en mi vida hemos hablado de nuestros sentimientos. Entiendo que hablar de tus emociones puede hacernos sentir inadecuados, y bromear es una manera de manejar ese sentimiento incómodo, pero no hay forma correcta o incorrecta de hablar sobre tus sentimientos.  Lo importante es reconocer que necesitas ayuda para manejarlos, y ya tu estas en ese proceso.  Tener pequeñas conversaciones con tu familia te ayudara a explicarles los sentimientos que estas experimentando.  Es importante que les pidas hacer una cita con un profesional de la salud mental, ya que has estado experimentando síntomas que indican que tu cuerpo ya no puede manejar tus sentimientos y necesita nuevas herramientas.  Puedes contactar a tu consejero escolar, o a un proveedor de salud mental cerca de ti o por teléfono.  Mientras tanto, puedes llamar a la línea de crisis de Texas 800-989-6884 para hablar con un profesional de salud mental.  La línea nacional de crisis también esta disponible en todos los Estados Unidos y proveen servicios en español 1-800-273-8255\n",
            "Yo soy una Consejera Profesional Licenciada en Texas y Puerto Rico, veo clientes en el este de Houston y proveo servicios de tele terapia.  Para una cita puedes llamar al 787-466-5478.\n",
            "Query1 has 2 tokens.\n",
            "\n",
            "Query has 1,029 tokens.\n",
            "\n"
          ]
        },
        {
          "output_type": "stream",
          "name": "stderr",
          "text": [
            "Be aware, overflowing tokens are not returned for the setting you have chosen, i.e. sequence pairs with the 'longest_first' truncation strategy. So the returned list will always be empty even if some tokens have been removed.\n"
          ]
        },
        {
          "output_type": "stream",
          "name": "stdout",
          "text": [
            "Query1 has 2 tokens.\n",
            "\n",
            "Query has 926 tokens.\n",
            "\n"
          ]
        },
        {
          "output_type": "stream",
          "name": "stderr",
          "text": [
            "Be aware, overflowing tokens are not returned for the setting you have chosen, i.e. sequence pairs with the 'longest_first' truncation strategy. So the returned list will always be empty even if some tokens have been removed.\n"
          ]
        },
        {
          "output_type": "stream",
          "name": "stdout",
          "text": [
            "Predicted answer:  [CLS]\n",
            "Real Answer:  Feelings are real, is very unlikely that you are making them up since they are a response to the thoughts in your mind and your daily experiences and interactions. Often we assume that feeling sadness is bad and that we should only feel happiness and joy; but all feelings have a purpose: joy, sadness, anger, frustration, excitement, anxiety, among others.   Is not healthy to experience the same feeling for a long time, so we should learn to identify what causes them and how to process them so you can navigate through life experiences with more ease. I am a Licensed Professional Counselor in Texas, currently providing services in West Houston.  You may reach me at 787-466-5478 to schedule an appointment.   ------------------------------------------------------------------------------------------------------------------------------------------Me he estado sintiendo tristeCuando salgo con una persona en particular o cuando llego a casa, estoy triste o irritado.  El sentimiento viene y va todo el día. No sé qué está mal.  No estoy seguro si estoy inventando los síntomas y problemas en mi cabeza o si algo realmente está mal. Los sentimientos son muy reales, y es muy poco probable que los estés inventando, por que los sentimientos son una respuesta tanto a los pensamientos que hay en nuestra cabeza, y, a las situaciones que nos ocurren día a día.  Muchas veces pensamos que sentirnos triste está mal, y que solo debemos sentirnos alegres, pero todas las emociones tienen un propósito y razón de ser, tanto la alegría, como la tristeza, el coraje, la frustración, la excitación o el desespero, entre otros.  No es bueno quedarnos estancados una emoción.  Así que es importante aprender a identificar que causa nuestros sentimientos, como procesarlos para poder superar nuestras emociones y movernos de una experiencia a otra con más tranquilidad. \n",
            "Soy Consejera Profesional Licenciada en Texas y Puerto Rico, veo clientes en el este de Houston y proveo servicios de tele terapia.  Para una cita puedes llamar al 787-466-5478.\n",
            "Query1 has 2 tokens.\n",
            "\n",
            "Query has 926 tokens.\n",
            "\n"
          ]
        },
        {
          "output_type": "stream",
          "name": "stderr",
          "text": [
            "Be aware, overflowing tokens are not returned for the setting you have chosen, i.e. sequence pairs with the 'longest_first' truncation strategy. So the returned list will always be empty even if some tokens have been removed.\n"
          ]
        },
        {
          "output_type": "stream",
          "name": "stdout",
          "text": [
            "Query1 has 2 tokens.\n",
            "\n",
            "Query has 932 tokens.\n",
            "\n"
          ]
        },
        {
          "output_type": "stream",
          "name": "stderr",
          "text": [
            "Be aware, overflowing tokens are not returned for the setting you have chosen, i.e. sequence pairs with the 'longest_first' truncation strategy. So the returned list will always be empty even if some tokens have been removed.\n"
          ]
        },
        {
          "output_type": "stream",
          "name": "stdout",
          "text": [
            "Predicted answer:  [CLS]\n",
            "Real Answer:  I imagine that it's pretty disconcerting to feel as though you lost yourself.When you said that you are jaded, I'm not sure whether you mean that you are jaded toward someone, something, life in general, or some combination thereof.One of the difficult things about anxiety is that anxiety can lead to more anxiety because of being concerned about having another panic attack. Consider remembering that panic attacks usually only last a few minutes and the reason they don't go away right away is because of the way your brain releases chemicals because some part of your brain is reacting as if you are in danger in some way.As far as finding yourself, you may consider looking at what parts of each day you can control as a way to stay centered. You could also focus on something that makes you feel happy and/or comfortable.You may also consider the list of values here to give yourself an idea of what is most important to you, what it is that you are living by now, and what values you would prefer to live by. http://www.therapistaid.com/therapy-worksheet/values-clarificationIf this proves to be difficult, consider seeing a local therapist.\n",
            "Query1 has 2 tokens.\n",
            "\n",
            "Query has 932 tokens.\n",
            "\n",
            "Query1 has 2 tokens.\n",
            "\n",
            "Query has 217 tokens.\n",
            "\n",
            "Predicted answer:  [CLS]\n",
            "Real Answer:  Trust and believe your own feelings.Emotions are real and reflect how someone feels about a situation.Since you're sad about losing a loved one, be patient w your feelings about this.  Basically, be guided by how you feel and eventually you will feel different emotions which I hope will be happier ones.\n",
            "Query1 has 2 tokens.\n",
            "\n",
            "Query has 217 tokens.\n",
            "\n",
            "Query1 has 2 tokens.\n",
            "\n",
            "Query has 206 tokens.\n",
            "\n",
            "Predicted answer:  great unhappiness , or sadness , or insecurity\n",
            "Real Answer:  Sounds like a sign of great unhappiness, or sadness, or insecurity.The real way you'll find out what this feeling is about is to ask yourself your own question.  Inside you are the only one who will feel when you discover the true answer to your question.Everyone feels some amount of discontent in their lives once in a while. Its normal to not feel entirely happy all the time.Try to accept your unhappiness as motivation to learn more about who you are, what you like, whom you like.Study yourself bc this way you increase the chance to find a road which feels right and happy.\n",
            "Query1 has 2 tokens.\n",
            "\n",
            "Query has 206 tokens.\n",
            "\n"
          ]
        },
        {
          "output_type": "stream",
          "name": "stderr",
          "text": [
            "Be aware, overflowing tokens are not returned for the setting you have chosen, i.e. sequence pairs with the 'longest_first' truncation strategy. So the returned list will always be empty even if some tokens have been removed.\n"
          ]
        },
        {
          "output_type": "stream",
          "name": "stdout",
          "text": [
            "Query1 has 2 tokens.\n",
            "\n",
            "Query has 521 tokens.\n",
            "\n"
          ]
        },
        {
          "output_type": "stream",
          "name": "stderr",
          "text": [
            "Be aware, overflowing tokens are not returned for the setting you have chosen, i.e. sequence pairs with the 'longest_first' truncation strategy. So the returned list will always be empty even if some tokens have been removed.\n"
          ]
        },
        {
          "output_type": "stream",
          "name": "stdout",
          "text": [
            "Predicted answer:  [CLS]\n",
            "Real Answer:  One way to know yourself a little better and why the dynamics you describe take place, is to understand the particular dynamics of your life context.Look at your major areas of where you spend your time, whether you are happy with the people with whom you socialize, how you feel toward family members and how they seem to feel toward you.If you examine your relationships and life this way then you may start to notice areas where you have some control or at least a say in how your life is going.If you are socializing among people whom you don't like, have a job you don't like and your family mistreats you and you mistreats them, for example, then anxiety and depression are an understandable natural result.If you make improvements in your life and relationships, even tiny improvements and even the effort and intention to improve, you may find your anxiety and depression dissipating.People usually feel their worst when they feel lack of control in their life.Look for ways you can regain and/or strengthen yours.\n",
            "Query1 has 2 tokens.\n",
            "\n",
            "Query has 521 tokens.\n",
            "\n",
            "Query1 has 2 tokens.\n",
            "\n",
            "Query has 510 tokens.\n",
            "\n",
            "Predicted answer:  [CLS]\n",
            "Real Answer:  I wouldn't necessarily say you are clinically depressed based on\n",
            "that first paragraph in your question. Because that could describe more\n",
            "introverted behavior (people who feel more energy from a more internal approach\n",
            "as opposed to those who feel more energy from being among others.) It is more\n",
            "in the second paragraph that I would be inclined to say that further\n",
            "exploration is definitely needed. The diagnosis of Major Depressive Disorder is\n",
            "more than just those two symptoms, but there are more mild forms of depression\n",
            "that can be equally damaging to someone if left untreated.However, one of the trickiest parts of this is that someone who\n",
            "feels they are not worth knowing may also believe they are not worth having a\n",
            "therapist know them, and even less worthy of being helped. Do you feel that\n",
            "might be you? If so, could we acknowledge that as a part of the big picture,\n",
            "and all wrapped up in these feelings about yourself, and realizing that\n",
            "thoughts and feelings aren't always rational (in that you are worth getting the\n",
            "help)?My recommendation just from the information would be that you seek\n",
            "out a supportive, listening ear in the form of a therapist, who can allow you\n",
            "the space to express some of these difficult experiences, and help you name FOR\n",
            "YOURSELF, what your struggle is. To empower you to name it for yourself, as\n",
            "opposed to everyone labeling and/or judging you for it, might be an extremely\n",
            "worthwhile start for you.\n",
            "Query1 has 2 tokens.\n",
            "\n",
            "Query has 510 tokens.\n",
            "\n",
            "Query1 has 2 tokens.\n",
            "\n",
            "Query has 193 tokens.\n",
            "\n",
            "Predicted answer:  having\n",
            "Real Answer:  Your situation sounds extremely frustrating.You're doing the right move to state you don't want to discuss your depression with her.I guess you could ask if she would like to know your reason to not speak w her about your depression.  If you feel she can handle a reasonable conversation, and you would like to tell her your true reason, then schedule this or bring up the topic at a neutral time, not in the middle of an argument.Having an unsupportive mom is difficult enough to accept.  You may feel greater success and peach of mind to meditate on accepting her lack of understanding than to engage in arguing when she starts this.\n",
            "Query1 has 2 tokens.\n",
            "\n",
            "Query has 193 tokens.\n",
            "\n",
            "Query1 has 2 tokens.\n",
            "\n",
            "Query has 199 tokens.\n",
            "\n",
            "Predicted answer:  schedule this or bring up the topic at a neutral time , not in the middle of an argument\n",
            "Real Answer:  How do you help yourself to believe you require more than what he offers to you?What do you get from this relationship which feels satisfying?To answer this question may in the longterm be the best way to help your bf.\n",
            "Query1 has 2 tokens.\n",
            "\n",
            "Query has 199 tokens.\n",
            "\n"
          ]
        },
        {
          "output_type": "stream",
          "name": "stderr",
          "text": [
            "Be aware, overflowing tokens are not returned for the setting you have chosen, i.e. sequence pairs with the 'longest_first' truncation strategy. So the returned list will always be empty even if some tokens have been removed.\n"
          ]
        },
        {
          "output_type": "stream",
          "name": "stdout",
          "text": [
            "Query1 has 2 tokens.\n",
            "\n",
            "Query has 568 tokens.\n",
            "\n"
          ]
        },
        {
          "output_type": "stream",
          "name": "stderr",
          "text": [
            "Be aware, overflowing tokens are not returned for the setting you have chosen, i.e. sequence pairs with the 'longest_first' truncation strategy. So the returned list will always be empty even if some tokens have been removed.\n"
          ]
        },
        {
          "output_type": "stream",
          "name": "stdout",
          "text": [
            "Predicted answer:  if you have some ideas as to what might improve your sense of being , and how to go about reaching your goals\n",
            "Real Answer:  What matters most is how you feel and what you're doing, with whom you're interacting, whether you feel you've got enough interaction to be happy.Whether or not a clinician would decide to identify you as \"depressed\" matters much less than how you actually are feeling, if you have some ideas as to what might improve your sense of being, and how to go about reaching your goals.If therapy during your childhood made you feel better and you feel you may be depressed, then trying therapy at this point in your life, makes sense.The worst that can happen is you find you feel better than you first understood.The best that can happen is you find a caring therapist who helps you find faith in yourself again.\n",
            "Query1 has 2 tokens.\n",
            "\n",
            "Query has 568 tokens.\n",
            "\n"
          ]
        },
        {
          "output_type": "stream",
          "name": "stderr",
          "text": [
            "Be aware, overflowing tokens are not returned for the setting you have chosen, i.e. sequence pairs with the 'longest_first' truncation strategy. So the returned list will always be empty even if some tokens have been removed.\n"
          ]
        },
        {
          "output_type": "stream",
          "name": "stdout",
          "text": [
            "Query1 has 2 tokens.\n",
            "\n",
            "Query has 572 tokens.\n",
            "\n"
          ]
        },
        {
          "output_type": "stream",
          "name": "stderr",
          "text": [
            "Be aware, overflowing tokens are not returned for the setting you have chosen, i.e. sequence pairs with the 'longest_first' truncation strategy. So the returned list will always be empty even if some tokens have been removed.\n"
          ]
        },
        {
          "output_type": "stream",
          "name": "stdout",
          "text": [
            "Predicted answer:  whether\n",
            "Real Answer:  Hello. So, someone made you happy but is no longer around? I am sure that feels devastating. As a counselor I usually have to ponder this kind of thought because it lends itself to suggesting that happiness comes from the external, rather than the internal side of a person's life. Happiness is formed within ourselves. All the external trappings of happiness are usually quite fleeting, and temporary. Even relationships fo not last forever. If we get to a place where we are reliant and dependent on those around us to create happiness in our lives, then we lose the opportunities for us to do it ourselves. We are entirely capable of finding ways to be happy. Sometimes this entails working out issues that are holding us back from reaching a place of peace, or resolution to a specific problem.What I would offer to you, is to find ways in which you can develop happiness for yourself. What do you like about your life as it is right now? What can you do to create change in your life to increase your happiness? These kinds of questions can be valuable to you as you seek out ways to make happiness an internal rather than an external event. Mourning the loss of a social connection (in whatever way that occurred), is part of the grieving process, but it is not permanent. It is a path to healing and moving forward. From this, you can seek out new sources of happiness. I encourage you to remember that happiness is independent of the external experience you have in the world. Happiness is an expression of the internal feelings, so that will be the source or the font of positive emotion from which you really draw. If you are lacking in happiness, then it becomes important to examine why that is, and what you can do about it to promote self-care. Seeking out a professional counselor can also be a good option as you move through the grief/loss process and examine the reasons happiness is not in greater supply.I wish you happiness for every day of your life.Best wishes.\n",
            "Query1 has 2 tokens.\n",
            "\n",
            "Query has 572 tokens.\n",
            "\n"
          ]
        },
        {
          "output_type": "stream",
          "name": "stderr",
          "text": [
            "Be aware, overflowing tokens are not returned for the setting you have chosen, i.e. sequence pairs with the 'longest_first' truncation strategy. So the returned list will always be empty even if some tokens have been removed.\n"
          ]
        },
        {
          "output_type": "stream",
          "name": "stdout",
          "text": [
            "Query1 has 2 tokens.\n",
            "\n",
            "Query has 564 tokens.\n",
            "\n"
          ]
        },
        {
          "output_type": "stream",
          "name": "stderr",
          "text": [
            "Be aware, overflowing tokens are not returned for the setting you have chosen, i.e. sequence pairs with the 'longest_first' truncation strategy. So the returned list will always be empty even if some tokens have been removed.\n"
          ]
        },
        {
          "output_type": "stream",
          "name": "stdout",
          "text": [
            "Predicted answer:  you do not have do this alone\n",
            "Real Answer:  I'm so sorry you're feeling like things will never get better. Try to remember that whatever illness you are dealing with, you are not the only person to have dealt with it and you are not alone! Out there, just waiting for you, is a group of people that will totally understand what you're going through and will be able to share how they coped. Try searching for a support group for your illness - google and www.psychologytoday.com are both good places to start for those groups.\n",
            "Query1 has 2 tokens.\n",
            "\n",
            "Query has 564 tokens.\n",
            "\n"
          ]
        },
        {
          "output_type": "stream",
          "name": "stderr",
          "text": [
            "Be aware, overflowing tokens are not returned for the setting you have chosen, i.e. sequence pairs with the 'longest_first' truncation strategy. So the returned list will always be empty even if some tokens have been removed.\n"
          ]
        },
        {
          "output_type": "stream",
          "name": "stdout",
          "text": [
            "Query1 has 2 tokens.\n",
            "\n",
            "Query has 564 tokens.\n",
            "\n"
          ]
        },
        {
          "output_type": "stream",
          "name": "stderr",
          "text": [
            "Be aware, overflowing tokens are not returned for the setting you have chosen, i.e. sequence pairs with the 'longest_first' truncation strategy. So the returned list will always be empty even if some tokens have been removed.\n"
          ]
        },
        {
          "output_type": "stream",
          "name": "stdout",
          "text": [
            "Predicted answer:  [CLS]\n",
            "Real Answer:  Hello,It is completely understandable that you would not want people to know about your depression. I would first like commend you for realizing that you need to help with your depression by reaching out here. That is a great start, and you've taken the very first courageous step. Depression can feel debilitating and overwhelming. Depression is also a very personal thing and no one has know but you and the therapist. The best way to begin learningand dealing is to pick up the phone and call a therapist or email a therapist and schedule a session. The great news is that with professional help you can feel better and you will learn how deal with and manage the depression. There are many ways to help with depression that a therapist can teach you and help guide. You do not have do this alone. Asking for help and going to therapy is a strength! This can be done in a private and confidential setting.Depression should be treated by a therapist, in a safe, confidential office setting. The therapist can then discuss your depression with you in more detail to figure out the underlying cause, how long you've been feeling this way and identify what brings on these feelings. There is hope and depression can be treated with great success, you CAN feel good again. Depression can be managed appropriately by seeing a licensed therapist. Often times therapy will offer relief because you would have someone there simply to listen to you, validate your feelings and listen to your story. The therapist will be able to offer professional insight and perspective on the situation and help you think outside the box. The therapist can do many things with you, provide insight and offer many ideas to help you learn new coping skills and ideas of things you enjoy, encouraging you to re engage in hobbies you once enjoyed or even discover new things you may enjoy. There are creative ways to learn to cope too!Your therapist will also be there to support you, without judgement, at your pace, through the entire process. But the first step is finding a therapist and beginning to identify the cause your depression. Healing is possible and getting your happiness back is also possible.Feel free contact me for additional help or informationLaura Cassity, LMSW, LMAC\n",
            "Query1 has 2 tokens.\n",
            "\n",
            "Query has 564 tokens.\n",
            "\n",
            "Query1 has 2 tokens.\n",
            "\n",
            "Query has 379 tokens.\n",
            "\n",
            "Predicted answer:  [CLS]\n",
            "Real Answer:  You have already taken the brave first step of making the decision to heal from it and find a professional that will help you do so. There are lots of different options nowadays for therapists, as you can see them online or in an office.  My biggest tip for you is to use Psychology Today or Counsel Chat to find a therapist.  Enter in your zip code and you will find many different therapists you can talk to . Be sure to find someone that you most resonate with and ask them any questions you may have. Many  times, therapists will provide free consultations and this can be a great opportunity to see if you are a good fit.\n",
            "Query1 has 2 tokens.\n",
            "\n",
            "Query has 379 tokens.\n",
            "\n",
            "Query1 has 2 tokens.\n",
            "\n",
            "Query has 386 tokens.\n",
            "\n",
            "Predicted answer:  [CLS]\n",
            "Real Answer:  Sometimes the way to feel happy is to address all the questions you just described.Teenage years are the first time any of us starts to feel and recognize our uniqueness.  The fact that you recognize your great range of feelings, as uncomfortable as they may sometimes be, is healthy.Also healthy is that you are asking for opinions of therapists who would be familiar with when a range of feelings shows an out of the ordinary problem.One path to take is to reflect on the topics you wrote here and especially to ask yourself your reasons for how the problem started and what it would take for it to resolve.Do you have trust issues because someone broke your trust? You're entitled to a repair of your trust by the other person.   Even if the person never offers this to you, to know you deserve to be restored to whole, may help you feel more secure.The same is true with the other topics, abandonment and relationships generally.The more you continue to value your unique understanding, expectations, and standards, the more likely you'll create relationships which do not have these qualities, and you will restore your sense of hope that other people may treat you in a fair and kind way.\n",
            "Query1 has 2 tokens.\n",
            "\n",
            "Query has 386 tokens.\n",
            "\n",
            "Query1 has 2 tokens.\n",
            "\n",
            "Query has 437 tokens.\n",
            "\n",
            "Predicted answer:  [CLS]\n",
            "Real Answer:  Depression has many different signs and symptoms and looks different for every person.  Often times people think depression is more about feeling \"sad,\" but depression can, in fact, express itself through irritability (or bad mood as you say) and lack of energy.  According to the DSM-V (Diagnostic and Statistical Manual of Mental Disorders), depression includes the following symptoms:-Depressed mood-Irritable mood-Decreased interest or pleasure in activities you usually participate in or enjoy-Significant weight change or change in appetite-Change in sleep (insomnia or hypersomnia)-Psychomotor aggitation or retardation-Fatigue or loss in energy -Feelings of worthlessness or excessive guilt-Diminished ability to concentrate or indecisiveness-Thoughts of suicide or plan The great news is that there are many ways to improve depressive symptoms.  If you are up for it, perhaps the best place to start is by seeing a physician or a therapist who can help determine how severe the depression is and can suggest methods of addressing the depression that fit your lifestyle, values, and capabilities.  Good luck!\n",
            "Query1 has 2 tokens.\n",
            "\n",
            "Query has 437 tokens.\n",
            "\n",
            "Query1 has 2 tokens.\n",
            "\n",
            "Query has 435 tokens.\n",
            "\n",
            "Predicted answer:  [CLS]\n",
            "Real Answer:  Sounds like signs of someone who is depressed.Since the person in question is your friend, offer your friendship to listen to any situations or feelings she has about herself and the way her life is going.Depressed people are often lonely people and feel as though no one around them cares or notices them.  Your willingness to be available to her may lift her spirits.  Feeling loved goes a long way to dissolving depressed feelings.Also, if in the beginning when you offer to talk, there is a high chance she'll be defensive and turn down your offer.Try again on another day and then another day.When people feel depressed they usually shut down.  So you may need a few or several tries before your friend accepts your offer to show her you care about how she is doing.Also, watch for signs within yourself that your friends' depression is not sinking your emotions.  Depressed people are draining to be around because they often see and talk about only the negatives and drawbacks of situations.\n",
            "Query1 has 2 tokens.\n",
            "\n",
            "Query has 435 tokens.\n",
            "\n",
            "Query1 has 2 tokens.\n",
            "\n",
            "Query has 475 tokens.\n",
            "\n",
            "Predicted answer:  by\n",
            "Real Answer:  Wanting to make changes and asking for assistance is the first step. Overcoming anxiety and depression is not an easy feat to do on your own, especially if it's been something you have been battling for years.  There are some different routes you may go down in order to start the healing process:Therapy - find a therapist who has a lot of experience with anxiety and depression. You can do this by googling \"anxiety depression therapist \" in your city.  CounselChat also has a directory of amazing therapists, as does Psychology TodayMedication - Depending on what other symptoms you may be struggling with depends on what medication you will be prescribed. Be 100% honest with the doctor and ask about different side effects or potential risks associated with the medication. You more than likely will be prescribed an SSRI.Therapy & Medication - The outcomes are very good for those who decide to do both. Medication can help level out out your mood and therapy can help you process through your emotions and keep you accountable for you goals , as you will be seeing your therapist more often than your psychiatristTherapy & Homeopathy - Homeopathy could potentially be a good tool to use alongside with therapy in case you are not interested in going down the medication route. Arsenicum album is most commonly given to those who struggle with anxiety and depression.The choice is yours. My recommendation is to start with therapy and explore your options more in depth with your therapist.\n",
            "Query1 has 2 tokens.\n",
            "\n",
            "Query has 475 tokens.\n",
            "\n",
            "Query1 has 2 tokens.\n",
            "\n",
            "Query has 482 tokens.\n",
            "\n",
            "Predicted answer:  [CLS]\n",
            "Real Answer:  You may already be living a balanced life because you are aware of your ups and downs due to hormonal changes of your menstrual cycle.As much as posible, schedule activities around your expected mood swings.   This way you'll avoid feeling even more tired from a busy scheduled during a low energy time in the month.The hormonal cycle is normal.Opinions vary as to taking natural, homeopathic supplements or Pharma drugs which will influence your cycle and make your mood more even.There are side effects to at least the Pharma drugs, which is a consideration as to the value of taking them.Reflect on which is your style of living and what will make you feel successful in handling this problem.Sticking to a system which mirrors the type of person you are, means more than any one particular answer anyone gives you.\n",
            "Query1 has 2 tokens.\n",
            "\n",
            "Query has 482 tokens.\n",
            "\n",
            "Query1 has 2 tokens.\n",
            "\n",
            "Query has 145 tokens.\n",
            "\n",
            "Predicted answer:  if you google affordable or low cost therapy in your particular area\n",
            "Real Answer:  I would check out agencies that offer affordable counseling based on your income or very low cost counseling sessions, i.e., Pacific Clinics, Hathaway Sycamore, Pasadena Mental Health Center, Burbank Family Center. If you google affordable or low cost therapy in your particular area you will find resources to help you.\n",
            "Query1 has 2 tokens.\n",
            "\n",
            "Query has 145 tokens.\n",
            "\n",
            "Query1 has 2 tokens.\n",
            "\n",
            "Query has 141 tokens.\n",
            "\n",
            "Predicted answer:  greater awareness and sense of direction\n",
            "Real Answer:  Maybe if you started to address questions of an inner nature of what changed in your life as a result of the back problem.To know your limitations and the areas of your life which they affect, will greatly contribute to stronger self-knowledge within you.Greater awareness and sense of direction very often decreases depression.\n",
            "Query1 has 2 tokens.\n",
            "\n",
            "Query has 141 tokens.\n",
            "\n",
            "Query1 has 2 tokens.\n",
            "\n",
            "Query has 214 tokens.\n",
            "\n",
            "Predicted answer:  increase your depressed feelings\n",
            "Real Answer:  It's important to take a look inside and see what's going on with you to cause you to have these feelings.  Please contact us in whatever way is most comfortable for you and we can get you set up with someone who will help you figure out this space in your life.\n",
            "Query1 has 2 tokens.\n",
            "\n",
            "Query has 214 tokens.\n",
            "\n",
            "Query1 has 2 tokens.\n",
            "\n",
            "Query has 215 tokens.\n",
            "\n",
            "Predicted answer:  stay\n",
            "Real Answer:  Oh dear.From what you write, your husband doesn't have any interest to know about you and your sad feelings.Stay clear in understanding that you already did your part by asking him to listen and care about the way you feel.In this example, he told you he doesn't care.Its up to him to open his mind and heart to you.Depending on how motivated to continue asking him to hear you, try until you feel satisfied that you've given him enough chances to know who you are.   At a certain number of tries at this, you'll either have success or not.Just don't try forever because doing so will increase your depressed feelings.\n",
            "Query1 has 2 tokens.\n",
            "\n",
            "Query has 215 tokens.\n",
            "\n"
          ]
        },
        {
          "output_type": "stream",
          "name": "stderr",
          "text": [
            "Be aware, overflowing tokens are not returned for the setting you have chosen, i.e. sequence pairs with the 'longest_first' truncation strategy. So the returned list will always be empty even if some tokens have been removed.\n"
          ]
        },
        {
          "output_type": "stream",
          "name": "stdout",
          "text": [
            "Query1 has 2 tokens.\n",
            "\n",
            "Query has 726 tokens.\n",
            "\n"
          ]
        },
        {
          "output_type": "stream",
          "name": "stderr",
          "text": [
            "Be aware, overflowing tokens are not returned for the setting you have chosen, i.e. sequence pairs with the 'longest_first' truncation strategy. So the returned list will always be empty even if some tokens have been removed.\n"
          ]
        },
        {
          "output_type": "stream",
          "name": "stdout",
          "text": [
            "Predicted answer:  isn ' t always as straightforward as it seems\n",
            "Real Answer:  It could be really helpful to see a counselor/therapist about your increasing depression/panic symptoms. Finding out the cause of depression/anxiety isn't always as straightforward as it seems, since both issues tend to become patterns we engage in rather than solely related to a specific trigger/reason. For example, if I am feeling down about a particular circumstance in my life, then I start seeing life through this lens of feeling down, and typically I'll start to see a lot more that I get down about, and it can really build very quickly on itself. Same with anxiety. Obviously, this is a very simplified example and it can be very difficult to see how the pattern is maintained, but that's where working with a counselor/therapist comes in. I would be curious about whether you can start to notice the initial sensations of panic, and if you can (through the panic attack) continue to maintain awareness of the actual physical sensations. Even better if you can talk yourself through the sensations you're feeling - such as saying to yourself \"Okay, I'm breathing really rapidly, and my heart is racing, now my palms are sweaty and my chest is feeling really tight...\" Reminding yourself that it's just your body's reaction to stress, and while it might be overreacting right now, you're okay and eventually it will go away. I highly recommend the SAM for Anxiety Management app for the anxiety piece, and I wouldn't be surprised if addressing the anxiety helped to address some of the depression too.\n",
            "Query1 has 2 tokens.\n",
            "\n",
            "Query has 726 tokens.\n",
            "\n"
          ]
        },
        {
          "output_type": "stream",
          "name": "stderr",
          "text": [
            "Be aware, overflowing tokens are not returned for the setting you have chosen, i.e. sequence pairs with the 'longest_first' truncation strategy. So the returned list will always be empty even if some tokens have been removed.\n"
          ]
        },
        {
          "output_type": "stream",
          "name": "stdout",
          "text": [
            "Query1 has 2 tokens.\n",
            "\n",
            "Query has 726 tokens.\n",
            "\n"
          ]
        },
        {
          "output_type": "stream",
          "name": "stderr",
          "text": [
            "Be aware, overflowing tokens are not returned for the setting you have chosen, i.e. sequence pairs with the 'longest_first' truncation strategy. So the returned list will always be empty even if some tokens have been removed.\n"
          ]
        },
        {
          "output_type": "stream",
          "name": "stdout",
          "text": [
            "Predicted answer:  [CLS]\n",
            "Real Answer:  Hi there. Thank you reaching out for help. It takes a lot of courage for someone that is being abused to reach out for help. I want you to know that I am here to help you in any way that I can. First and foremost, you did not mention whether or not you had children yourself by this man. I’m going to assume there are. So, the most important thing right at this moment is asking yourself, if you and your children are safe? Is the boyfriend currently living in the home or is he coming and going? If he is coming and going or currently living in the home, my suggestion for you to is to pack a bag for you and your children and go somewhere safe (i.e. family members home, friend or a shelter temporarily). I cannot stress this enough. Although, some people tend to minimize their abusers behavior (i.e. they only do it when they are drinking, they only do it when they are mad), it’s those individuals that find themselves or their children in a serious situation. So, you can never take abuse (physical or mental) lightly because you never know what is going through that persons mind at that particular time. It’s always better to be safe than sorry. Secondly, it will not be safe, helpful or productive to attempt to talk to the abuser about your relationship. Abusers often times try and manipulate you into staying by apologizing or attempting to justify their behaviors. This is the time you would want to go see a magistrate in order to get a protective order for you and your children.It’s unfortunate that your significant other was involved with another women causing pregnancy; however, that is no longer your concern. Your concern at this point is keeping yourself and your children safe. I would also suggest counseling for you and your children in order to work through these issues. I hope this was helpful and please stay safe and take care of yourself.\n",
            "Query1 has 2 tokens.\n",
            "\n",
            "Query has 726 tokens.\n",
            "\n",
            "Query1 has 2 tokens.\n",
            "\n",
            "Query has 323 tokens.\n",
            "\n",
            "Predicted answer:  you can talk to your doctor\n",
            "Real Answer:  First of all, if you’re sick and in pain, have you seen your doctor? If you have a chronic illness and pain, this can often lead to depression and is very common. You’ve taken the first step to dealing with it. You can talk to your doctor, even if your depression isn’t related to your health. He or she can either look at prescribing you an antidepressant or can refer you to a psychologist or psychiatrist.If that’s not really an option for you, there are also helplines (local or national) or support groups where people dealing with similar issues can talk to each other. If you can't find any in your area (newspapers usually publish this information), there are online support groups as well.\n",
            "Query1 has 2 tokens.\n",
            "\n",
            "Query has 323 tokens.\n",
            "\n",
            "Query1 has 2 tokens.\n",
            "\n",
            "Query has 324 tokens.\n",
            "\n",
            "Predicted answer:  [CLS]\n",
            "Real Answer:  Did you take the medication the way the psychiatrist prescribed it?  Did you follow up with her/him to report how it was going?  Different medications work differently with different people.   It's not always the first one that helps.  And some of the medications take some time to have an effect.  Give the doctor the chance to help you. I suggest you find a certified CBT therapist to help you examine your thinking.  www.AcademyofCT.org has listings of the finest CBT clinicians.  In the meantime, do some \"anxiety fasting\" by taking a few minutes to do something nice for yourself right now.  I hope you feel better soon.  ~Mark (www.MarkMorrisLCSW.com and www.LivingYes.org)\n",
            "Query1 has 2 tokens.\n",
            "\n",
            "Query has 324 tokens.\n",
            "\n",
            "Query1 has 2 tokens.\n",
            "\n",
            "Query has 148 tokens.\n",
            "\n",
            "Predicted answer:  ptsd is not something that can be cured\n",
            "Real Answer:  In general, the answer is no. Depression can not not generally cause PTSD. Your question does make a lot of sense, though. Depression is a common symptom of PTSD. A counselor in your area should be able to help you what's going on - either feelings of depression, PTSD, or both.\n",
            "Query1 has 2 tokens.\n",
            "\n",
            "Query has 148 tokens.\n",
            "\n",
            "Query1 has 2 tokens.\n",
            "\n",
            "Query has 154 tokens.\n",
            "\n",
            "Predicted answer:  mind\n",
            "Real Answer:  Unfortunately, ptsd is not something that can be cured.  Ptsd can be managed through therapy.  Mindfulness can assist in redirecting thoughts and gaining further control over paranoia. Therapy is confidential and there are different ways you can obtain treatment.  Mental health professional have availability to provide therapy online,  on the phone or in person.\n",
            "Query1 has 2 tokens.\n",
            "\n",
            "Query has 154 tokens.\n",
            "\n",
            "Query1 has 2 tokens.\n",
            "\n",
            "Query has 325 tokens.\n",
            "\n",
            "Predicted answer:  get\n",
            "Real Answer:  It's never to late to get help with grief.  Get help as soon as possible before you are feeling the same way 5 years from now.  You will always miss your Dad but getting help with coping with his loss will make life easier to live.\n",
            "Query1 has 2 tokens.\n",
            "\n",
            "Query has 325 tokens.\n",
            "\n",
            "Query1 has 2 tokens.\n",
            "\n",
            "Query has 322 tokens.\n",
            "\n",
            "Predicted answer:  [CLS]\n",
            "Real Answer:  Are you a teen?  This is a really hard problem for more teens (and adults) than let on.  When I was about 15, I remember asking my parent's friend, Herman, whether life gets any easier when you get older.  He said the problems are actually harder, but you gain the ability to deal with them better.  I've been an adult a long time now, and that is so true. If you need someone to talk to, consider a teacher or a school guidance counselor or someone you respect, maybe in church.  If they're good and they don't know how to help you, they may know how to get you to someone who can.  Also, the idea of not being \"good enough\" is a common psychological event.  In CBT it's called a \"core belief,\" but I call it a \"core lie\" in my book, Living Yes, a Handbook for Being Human.  If you are serious about changing yourself, read about it  at www.LivingYes.org and pick up a copy there or on Amazon.  I hope this was helpful.  The future is filled with possibility if we don't prejudge it!  ~Mark (www.MarkMorrisLCSW.com and www.LivingYes.org)\n",
            "Query1 has 2 tokens.\n",
            "\n",
            "Query has 322 tokens.\n",
            "\n",
            "Query1 has 2 tokens.\n",
            "\n",
            "Query has 430 tokens.\n",
            "\n",
            "Predicted answer:  [CLS]\n",
            "Real Answer:  It's hard to accept the end of a marriage when it's not your choice; you feel powerless, abandoned and unwanted. Your wife has the right to decide not to be in a marriage with you, and a therapist can help you accept and move through this change that has broken your heart and left you lost. You don't indicate why you haven't seen your child, and you may want to consult with a lawyer about the laws in your area and how to gain access to your baby. Therapists don't intervene in these ways. The marriage may be ending, but your role as a loving father is only beginning.  You can focus on giving your child the gift of two parents who respect each other.\n",
            "Query1 has 2 tokens.\n",
            "\n",
            "Query has 430 tokens.\n",
            "\n",
            "Query1 has 2 tokens.\n",
            "\n",
            "Query has 421 tokens.\n",
            "\n",
            "Predicted answer:  [CLS]\n",
            "Real Answer:  If you are someone who usually has a job, pays or contributes to household bills, and generally manages your own daily life, then here are some suggestions.Start with small changes in your life so that you will feel successful in developing little areas of personal happiness.Since the people whom you currently are in your life \"aren't helping much\", consider branching out your life so that you are with those with whom you do feel help you.Follow your natural interests.  If you like reading, look online for a local book club.   If you like watching birds, look up a bird watching group.Social isolation increases the intensity of negative feelings.Also, the way healthcare is set up in the US, psychiatrists spend 15 minutes asking a person questions and then giving them a pill script.    There is almost no human interest in the person.If you'd like feeling better as a person, then find people.   Relying only on our mental health system will keep you feeling low and unsteady.If your life is a little more sheltered and you are in a group home setting or your basic needs are taken care of by someone or some organization, then similar advice is still valid.Find and participate in whatever human settings which appeal to you and are available on a somewhat regular basis.\n",
            "Query1 has 2 tokens.\n",
            "\n",
            "Query has 421 tokens.\n",
            "\n",
            "Query1 has 2 tokens.\n",
            "\n",
            "Query has 296 tokens.\n",
            "\n",
            "Predicted answer:  [CLS]\n",
            "Real Answer:  It sounds like you are feeling very unsure and out of place and the prospect of continuing to feel as you do now for the remainder of schooling seems daunting. Without getting to know more about you and your experiences here and at home, it is hard to say what you should do, however, I think exploring these things with a competent therapist may help you to discover the answer.\n",
            "Query1 has 2 tokens.\n",
            "\n",
            "Query has 296 tokens.\n",
            "\n",
            "Query1 has 2 tokens.\n",
            "\n",
            "Query has 293 tokens.\n",
            "\n",
            "Predicted answer:  i\n",
            "Real Answer:  What your are experience is normal for most women.  We usually forget about self and totally focus on our children putting our personal wants and needs aside.  So to answer your question of how do you get to know yourself I usually do a 6 session course with my client by having them answer questions such as the following in the first session:  What do I love? (other than your children)  What are my own needs and desires?  What 3 things have I accomplished in my life that I'm most proud of?  What are 5 strengths or qualities I have?  What is one event that had a major impact on my life?  How have that event affected my life today?   For their homework assignment after the 1st session, they are asked to write a letter to self tell self what they love, cherish, appreciate and even admire about themselves.  Most women feel awkward at first, but I remind them that the truth is that only to the extent that you are able to love and value yourself, you are to love and support others.\n",
            "Query1 has 2 tokens.\n",
            "\n",
            "Query has 293 tokens.\n",
            "\n"
          ]
        },
        {
          "output_type": "stream",
          "name": "stderr",
          "text": [
            "Be aware, overflowing tokens are not returned for the setting you have chosen, i.e. sequence pairs with the 'longest_first' truncation strategy. So the returned list will always be empty even if some tokens have been removed.\n"
          ]
        },
        {
          "output_type": "stream",
          "name": "stdout",
          "text": [
            "Query1 has 2 tokens.\n",
            "\n",
            "Query has 569 tokens.\n",
            "\n"
          ]
        },
        {
          "output_type": "stream",
          "name": "stderr",
          "text": [
            "Be aware, overflowing tokens are not returned for the setting you have chosen, i.e. sequence pairs with the 'longest_first' truncation strategy. So the returned list will always be empty even if some tokens have been removed.\n"
          ]
        },
        {
          "output_type": "stream",
          "name": "stdout",
          "text": [
            "Predicted answer:  to start in simple , basic ways to ask yourself what you are feeling in the situations that you believe emotions would belong\n",
            "Real Answer:  I'm not sure that you don't feel emotion or that you are frightened of the depth of your emotions. From what you write, the context of your growing up years had people telling you to not feel.  Little kids and babies don't remember whether or not they had emotions since birth.  This is information someone told you or was part of your family system.Possibly your family was afraid of their emotions or of you knowing yours.Similarly, your comparison of being human means being monster like, is not an obvious connection.  Besides, monsters are an idea, they aren't real.  They embody what someone considers the worst qualities of themselves or the human species.  Again, I wonder whether you've taken on stories you heard growing up about how unacceptable and bad you are.A way to start learning your emotions is to start in simple, basic ways to ask yourself what you are feeling in the situations that you believe emotions would belong.If on the first bright sunny and warm day of the year, you remind yourself to notice what you're feeling in response to this, you'll be taking one step toward awareness of your emotions.If someone buys you a birthday present, be aware of how you feel.  Keep adding awareness to situations and see if this builds an ease with feeling emotions.\n",
            "Query1 has 2 tokens.\n",
            "\n",
            "Query has 569 tokens.\n",
            "\n"
          ]
        },
        {
          "output_type": "stream",
          "name": "stderr",
          "text": [
            "Be aware, overflowing tokens are not returned for the setting you have chosen, i.e. sequence pairs with the 'longest_first' truncation strategy. So the returned list will always be empty even if some tokens have been removed.\n"
          ]
        },
        {
          "output_type": "stream",
          "name": "stdout",
          "text": [
            "Query1 has 2 tokens.\n",
            "\n",
            "Query has 576 tokens.\n",
            "\n"
          ]
        },
        {
          "output_type": "stream",
          "name": "stderr",
          "text": [
            "Be aware, overflowing tokens are not returned for the setting you have chosen, i.e. sequence pairs with the 'longest_first' truncation strategy. So the returned list will always be empty even if some tokens have been removed.\n"
          ]
        },
        {
          "output_type": "stream",
          "name": "stdout",
          "text": [
            "Predicted answer:  [CLS]\n",
            "Real Answer:  Not having support from your family for such a significant problem, is a problem itself.How about your friends, are any of them nurturing or treat you kindly when you bring up that you've got this problem?Are any of your friends willing to accommodate the fact that right now you've got panic attacks from driving and being a passenger?Maybe being and feeling accepted while you're in this current phase of your life, would help diminish the panic attacks.If no support is coming to you, then a next step would be to evaluate the relationships in your life and to develop standards and expectations of others, especially that they are considerate of your great need at this time.Its possible you are bearing the emotional burden of a lot more people in your life than yourself.If no one wants to show they care about this situation, then release yourself from trying to please and satisfy everyone's wish that you be better, while they ignore your need for their support.Be realistic in what you're able to give back to people who want to be blind to your emotional need.Thinking this way will at first raise your anxiety level from fear of losing everyone.  Eventually, you'll stabilize within yourself and know that all you're asking for is some support for having a tough time. Hopefully, the others will be more responsive to you.If they don't you still know that you're being reasonable for what you'd like.\n",
            "Query1 has 2 tokens.\n",
            "\n",
            "Query has 576 tokens.\n",
            "\n"
          ]
        },
        {
          "output_type": "stream",
          "name": "stderr",
          "text": [
            "Be aware, overflowing tokens are not returned for the setting you have chosen, i.e. sequence pairs with the 'longest_first' truncation strategy. So the returned list will always be empty even if some tokens have been removed.\n"
          ]
        },
        {
          "output_type": "stream",
          "name": "stdout",
          "text": [
            "Query1 has 2 tokens.\n",
            "\n",
            "Query has 604 tokens.\n",
            "\n"
          ]
        },
        {
          "output_type": "stream",
          "name": "stderr",
          "text": [
            "Be aware, overflowing tokens are not returned for the setting you have chosen, i.e. sequence pairs with the 'longest_first' truncation strategy. So the returned list will always be empty even if some tokens have been removed.\n"
          ]
        },
        {
          "output_type": "stream",
          "name": "stdout",
          "text": [
            "Predicted answer:  [CLS]\n",
            "Real Answer:  Sometimes when we fight a lot with our partner, it becomes more uncomfortable to share emotions because it feels like it will lead to another flight or disagreement.You could try having a conversation when you're not fighting and starting it out by saying that you would like to discuss something important to you and see if your fiancée is open to that.Something else is that you could have an agreement that if one of you is having a really strong emotions in a difficult conversation and would like to break from the conversation, you could agree (ahead of time) that you'll say that you would like a \"timeout\" and will come back to discuss the issue in a certain amount of time (usually about an hour) and then try to resume the discussion. The reason this can work is it can give you a chance to calm down and then still go back to the discussion rather than not talking about it again. This only works if both of you agree to that before something starts, though.\n",
            "Query1 has 2 tokens.\n",
            "\n",
            "Query has 604 tokens.\n",
            "\n"
          ]
        },
        {
          "output_type": "stream",
          "name": "stderr",
          "text": [
            "Be aware, overflowing tokens are not returned for the setting you have chosen, i.e. sequence pairs with the 'longest_first' truncation strategy. So the returned list will always be empty even if some tokens have been removed.\n"
          ]
        },
        {
          "output_type": "stream",
          "name": "stdout",
          "text": [
            "Query1 has 2 tokens.\n",
            "\n",
            "Query has 602 tokens.\n",
            "\n"
          ]
        },
        {
          "output_type": "stream",
          "name": "stderr",
          "text": [
            "Be aware, overflowing tokens are not returned for the setting you have chosen, i.e. sequence pairs with the 'longest_first' truncation strategy. So the returned list will always be empty even if some tokens have been removed.\n"
          ]
        },
        {
          "output_type": "stream",
          "name": "stdout",
          "text": [
            "Predicted answer:  you want to stop feeling so tired and so worthless\n",
            "Real Answer:  You are describing some of the most common symptoms of depression: low self esteem, difficulty sleeping, changes in appetite, sad mood, feelings of hopeless and feelings of worthlessness. A full assessment/evaluation with a mental health professional is warranted to understand if indeed you meet criteria for a Major Depressive Disorder i.e.., are delressed. One thing I often tell patients is that \"Do you think you are depressed?\" People often answer yes or no, but many individuals respond with a question: How would I know? To that I often explain that if I stopped watching movies or better, stopped enjoying watching movies that would be a clear indication for me that I am delressed. It would be a sign that I have lost pleasure or interest in the activity that I typically enjoy most . I'll ask you to think of one activity which you really really enjoy.  It could be anything from reading, to being with friends, to skiing to watching tv.  I would like to now ask you if you have stopped enjoying that activity or can't find the motivation to engage in it? This is another symptom of depression: loss in pleasurable activities. The good news is that there are many effective, available treatment if you are indeed in a depression or simply, you want to modify/decrease your depressive symptoms i.e., you want to stop feeling so tired and so worthless. Treatment includes one or more of the following: psychotherapy, medication, exercise. Any one or combination of both of these can help to improve your mood. The even better news is that feeling that you are doing something wrong can diminish with appropriate treatment over time.  I hope you find this information helpful. The most important next step is to get evaluated by a mental health professional typically a psychologist or psychiatrist, and for both you and the professional to better understand your symptoms and your mood in the context of what is going on in your life.\n",
            "Query1 has 2 tokens.\n",
            "\n",
            "Query has 602 tokens.\n",
            "\n",
            "Query1 has 2 tokens.\n",
            "\n",
            "Query has 310 tokens.\n",
            "\n",
            "Predicted answer:  creating a fictitious story\n",
            "Real Answer:  For starters, commend yourself for being committed to working. You have no idea what is going to happen in the next second, so focusing on thinking you will never have a good career or amount to anything financially is creating a fictitious story.  Remind yourself of that every time the thought pops up.  The false belief that nothing good will happen is sucking out energy you can use on pursuing your career dreams. Next, do you know what you need to do to become an electrician or heavy machinery operator? If not, find out. Then, set up a realistic schedule for yourself to accomplish the steps. As you accomplish each step, see your progress.  Notice that you are moving closer to your goal.  Every day remind yourself why you are pursuing this career.  In fact, write it down and tape it on your bathroom mirror.  When you start to feel discouraged, remember your goal and remind yourself that you have no idea if you'll make it or not but you are going to give it everything you have to find out. Anything worth pursuing is going to take a lot of persistence and hard work. Stay with it! You and your family are worth it!\n",
            "Query1 has 2 tokens.\n",
            "\n",
            "Query has 310 tokens.\n",
            "\n",
            "Query1 has 2 tokens.\n",
            "\n",
            "Query has 299 tokens.\n",
            "\n",
            "Predicted answer:  lack of awareness and acknowledgment for the things , the people , the places that you have in your life\n",
            "Real Answer:  A feeling of emptiness can be from a lack of awareness and acknowledgment for the things, the people, the places that you have in your life. The use of affirmation and gratitudes helps to remind ourselves of all of the aspects of our lives.\n",
            "Query1 has 2 tokens.\n",
            "\n",
            "Query has 299 tokens.\n",
            "\n"
          ]
        },
        {
          "output_type": "stream",
          "name": "stderr",
          "text": [
            "Be aware, overflowing tokens are not returned for the setting you have chosen, i.e. sequence pairs with the 'longest_first' truncation strategy. So the returned list will always be empty even if some tokens have been removed.\n"
          ]
        },
        {
          "output_type": "stream",
          "name": "stdout",
          "text": [
            "Query1 has 2 tokens.\n",
            "\n",
            "Query has 661 tokens.\n",
            "\n"
          ]
        },
        {
          "output_type": "stream",
          "name": "stderr",
          "text": [
            "Be aware, overflowing tokens are not returned for the setting you have chosen, i.e. sequence pairs with the 'longest_first' truncation strategy. So the returned list will always be empty even if some tokens have been removed.\n"
          ]
        },
        {
          "output_type": "stream",
          "name": "stdout",
          "text": [
            "Predicted answer:  [CLS]\n",
            "Real Answer:  It sounds like you have been struggling with this for quite some time, using many of the same coping techniques that feel tried and true to no avail. Often, we fall back on coping techniques that would be helpful in other problems (stress, social anxieties, etc.) for our depression, but the truth is that depression requires it's own little tool kit. Depression is all-encompassing, and, based on what you've written, the symptoms are already affecting work and your personal life in myriad ways.  The best route forward would be to seek out counselling, admittedly, but if your insurance deductible is too high, that can be very expensive. I would recommend contacting your Employee Assistance Program (EAP) if offered by your employer. If not, you can look into community centres for counselling options, check if your doctor will give you a referral or your local religious organization. If, however, you are motivated to get your depression under control, there are some great workbooks out there that you can use on your own or with your therapist (as long as your therapist is trained in Cognitive Behavioural Therapy, or CBT), such as \"Mind Over Mood\".\n",
            "Query1 has 2 tokens.\n",
            "\n",
            "Query has 661 tokens.\n",
            "\n"
          ]
        },
        {
          "output_type": "stream",
          "name": "stderr",
          "text": [
            "Be aware, overflowing tokens are not returned for the setting you have chosen, i.e. sequence pairs with the 'longest_first' truncation strategy. So the returned list will always be empty even if some tokens have been removed.\n"
          ]
        },
        {
          "output_type": "stream",
          "name": "stdout",
          "text": [
            "Query1 has 2 tokens.\n",
            "\n",
            "Query has 665 tokens.\n",
            "\n"
          ]
        },
        {
          "output_type": "stream",
          "name": "stderr",
          "text": [
            "Be aware, overflowing tokens are not returned for the setting you have chosen, i.e. sequence pairs with the 'longest_first' truncation strategy. So the returned list will always be empty even if some tokens have been removed.\n"
          ]
        },
        {
          "output_type": "stream",
          "name": "stdout",
          "text": [
            "Predicted answer:  [CLS]\n",
            "Real Answer:  I couldn't help but notice that you did not specify your age, so I am unable to set the total chronological order and length that you have suffered in this way, but I want to start by commending you on seeking out additional coping techniques on your own.  Unfortunately, it sounds like you were offered some that were more dangerous than helpful, but be proud that you were able to curb those before they caused too much harm. From what you have written, stress has always been a difficult thing for you to manage.  Often, when I am working with those who offer the same concern, there is a degree of people pleasing that comes with that stress.  When we are trying to make others happy, especially when we are unable to distinguish the proper \"rules for success\", it can make even the simplest of tasks overwhelming. Stress management is just that, management; of our own anxieties about the needs of others, about our skills and the ability to complete a task and having multiple requests at any given time. Each of these aspects requires a separate sets of \"tools\" to manage them accordingly. For example, assertiveness communication training could aid in communicating with your colleagues to manage their expectations of your deadlines and abilities, but it will not assist you with managing your own anxieties. Try to separate the different areas of the problem, in order to help yourself to find a solution and work on them in their own time. Perhaps keeping a journal will help you to better understand why you are so easily overwhelmed by stress and help you track some of your less-helpful responses to stress. For example, does a certain person's style of communication always make you feel undervalued and therefore push you to finish their requests first? Is there a certain time of the day where you start to fall off in productivity?  Is that the time fo the day where you also tend to pile up your requirements?Try to ask yourself some of these harder questions and see where they lead you.\n",
            "Query1 has 2 tokens.\n",
            "\n",
            "Query has 665 tokens.\n",
            "\n"
          ]
        },
        {
          "output_type": "stream",
          "name": "stderr",
          "text": [
            "Be aware, overflowing tokens are not returned for the setting you have chosen, i.e. sequence pairs with the 'longest_first' truncation strategy. So the returned list will always be empty even if some tokens have been removed.\n"
          ]
        },
        {
          "output_type": "stream",
          "name": "stdout",
          "text": [
            "Query1 has 2 tokens.\n",
            "\n",
            "Query has 533 tokens.\n",
            "\n"
          ]
        },
        {
          "output_type": "stream",
          "name": "stderr",
          "text": [
            "Be aware, overflowing tokens are not returned for the setting you have chosen, i.e. sequence pairs with the 'longest_first' truncation strategy. So the returned list will always be empty even if some tokens have been removed.\n"
          ]
        },
        {
          "output_type": "stream",
          "name": "stdout",
          "text": [
            "Predicted answer:  [CLS]\n",
            "Real Answer:  Consider yourself quite normal for feeling overwhelmed and depressed about your parents divorce.   This is the most natural way to feel at this time.Depending on how old you are, and whether you live under their roof,  are dependent on their support, and are either part of the decision or not, of with whom and where you will live, start considering these points.How did you find out about the upcoming divorce?Are either of your parents reluctant to answer your questions or is it clear that neither of them want to talk about anything with you?Whatever your fears and questions about your own future, these are all real.  It is necessary for you to know about your basic future.If you are living on your own and the main problem is your inner adjustment that your family structure is completely changing, then probably a good therapist would be a great help to you now, to clarify these tensions.Sending lots of good wishes for an easy resolution to your new path!\n",
            "Query1 has 2 tokens.\n",
            "\n",
            "Query has 533 tokens.\n",
            "\n"
          ]
        },
        {
          "output_type": "stream",
          "name": "stderr",
          "text": [
            "Be aware, overflowing tokens are not returned for the setting you have chosen, i.e. sequence pairs with the 'longest_first' truncation strategy. So the returned list will always be empty even if some tokens have been removed.\n"
          ]
        },
        {
          "output_type": "stream",
          "name": "stdout",
          "text": [
            "Query1 has 2 tokens.\n",
            "\n",
            "Query has 528 tokens.\n",
            "\n"
          ]
        },
        {
          "output_type": "stream",
          "name": "stderr",
          "text": [
            "Be aware, overflowing tokens are not returned for the setting you have chosen, i.e. sequence pairs with the 'longest_first' truncation strategy. So the returned list will always be empty even if some tokens have been removed.\n"
          ]
        },
        {
          "output_type": "stream",
          "name": "stdout",
          "text": [
            "Predicted answer:  [CLS]\n",
            "Real Answer:  Hello, and thank you for your question. It certainly sounds like you don't like how things are going. Here are a few thoughts and ideas:1. If you haven't seen a primary care provider in a while, you may want to. There are health conditions that can affect your mood and energy levels, even at your age. It doesn't hurt to get checked out. If they find the cause, they may be able to treat it and improve the symptoms. In addition, most primary care providers are trained to be able to manage medication for patients who have mild, moderate, and sometimes severe depression. So, don't be surprised if your primary care doctor offers to put you on an anti-depressant if they diagnose you with depression. Medication is not the only way to treat depression, but sometimes it is necessary depending on different factors.2. You may want to consider counseling, since it is another effective way to treat depression. A counselor will help you explore the factors that may be leading to depressive symptoms in the first place. This could include thoughts, behaviors, beliefs, life experiences, and other things. 3. Finally, to answer your question about whether these feelings are \"normal.\" These symptoms could be the sign of an underlying general health or mental health condition. It is important to remember that even if these symptoms are \"abnormal\" it doesn't mean that YOU are. Millions of people struggle with depression. So remember, the symptoms are the problem, not YOU. Hope this helps. Be well.Robin J. Landwehr, DBH, LPC, NCC\n",
            "Query1 has 2 tokens.\n",
            "\n",
            "Query has 528 tokens.\n",
            "\n",
            "Query1 has 2 tokens.\n",
            "\n",
            "Query has 282 tokens.\n",
            "\n",
            "Predicted answer:  because you and the others are not connected to each other on a level which reaches your emotions\n",
            "Real Answer:  This may be happening because you and the others are not connected to each other on a level which reaches your emotions.Loneliness may show the absence of feeling a variety of emotions when you are among others.How many friends you have doesn't affect whether you and someone else feel emotionally engaged with one another.Consider if you feel like concentrating your friendship on more intensively sharing your feelings with a few of your friends.This may lead to fewer friends who are also more meaningful to you and your feeling a decrease of loneliness.\n",
            "Query1 has 2 tokens.\n",
            "\n",
            "Query has 282 tokens.\n",
            "\n",
            "Query1 has 2 tokens.\n",
            "\n",
            "Query has 276 tokens.\n",
            "\n",
            "Predicted answer:  several methods and practices\n",
            "Real Answer:  First, let me say that you are a survivor and a warrior. Managing 1 child by yourself is difficult, but twins is a whole different ballgame. Anxiety can affect us at any time anywhere. This is the challenge, especially when we have so many things to manage each day. There are several methods and practices that help manage and even reduce symptoms of anxiety. It will depend on what works best for you. Talk with friends, a counselor, or a loved one who can offer you support and feedback as you navigate this process of learning what works for you. When all else fails; make sure you are in a safe place, pause for a deep, cleansing breath in, a long exhale out, and ask yourself, \"What do I want in this moment?\" Now you can begin again.\n",
            "Query1 has 2 tokens.\n",
            "\n",
            "Query has 276 tokens.\n",
            "\n",
            "Query1 has 2 tokens.\n",
            "\n",
            "Query has 358 tokens.\n",
            "\n",
            "Predicted answer:  depression which is addressed by a person can become quite liberating because you will remove what bothers you so much in your life that it weighs you down and depresses you\n",
            "Real Answer:  What happens in your life on Wednesdays that you feel like crying?   Crying is natural.  Crying on Wednesdays may also be natural if some type of regular event or situation comes up for you then that you don't like, feel oppressed by and have no way of avoiding.Maybe you would qualify for a diagnosis for depression.This matters less than what you will do with a diagnosis.  Very often people feel some type of relief from hearing a professional tell them what they \"have\".Don't let yourself get talked into taking pills because now you \"have something\".  Pills change your mood.Only you can change your life.The diagnosis matters so the therapist gets paid from insurance.It is a good sign that you know whether you feel true emotions or fake ones.  This is a clear sign of knowing about yourself.Your mind feeling like a \"maze\" is a little too vague to know if you mean there are too many thoughts at once so that you have difficulty knowing which ones to examine first, or if \"maze\" means you don't know what your thoughts are and  feel lost for this reason.Depression which is addressed by a person can become quite liberating because you will remove what bothers you so much in your life that it weighs you down and depresses you.\n",
            "Query1 has 2 tokens.\n",
            "\n",
            "Query has 358 tokens.\n",
            "\n",
            "Query1 has 2 tokens.\n",
            "\n",
            "Query has 365 tokens.\n",
            "\n",
            "Predicted answer:  [CLS]\n",
            "Real Answer:  If the symptoms are to the extent that they are affecting your ability to function, you may want to consider seeking treatment. PTSD, anxiety, and depression all typically respond well to treatment if provided by a trained clinician. Common types of treatment for PTSD that you may want to look into include Cognitive Processing Therapy or EMDR. The nice things about Cognitive Processing Therapy is that it is time limited and only lasts 17 sessions typically.\n",
            "Query1 has 2 tokens.\n",
            "\n",
            "Query has 365 tokens.\n",
            "\n",
            "Query1 has 2 tokens.\n",
            "\n",
            "Query has 441 tokens.\n",
            "\n",
            "Predicted answer:  [CLS]\n",
            "Real Answer:  Hello, and thank you for your question. First, I want to tell you how sorry I am for the experience you had with your parents. That is a grief and trauma that is certainly hard to imagine. Trauma and grief can affect us in many ways, and certainly deeply personal things like our sex lives. It may be difficult for others to make the connection, but it is there. So, for example, if stress and trauma make you feel like you are not interested in sex, a partner may take it as a personal rejection rather than response to stress, trauma or grief. If your husband will agree to it, couple's counseling may be your best bet. A counselor can help you with your communication and may be able to provide some education to your husband about trauma and how it can have an impact on intimacy. If he doesn't agree to go, it may be worth it to go on your own. You still have a lot you are dealing with yourself. And sometimes our personally therapy can influence others, so it may be a good idea. It is important to remember that even though you are married you have the right to make decisions about your body, and that includes when you want to have sex with it. I hope this is helpful, and some of my colleagues may have ideas, also. Be well.Robin J. Landwehr, DBH, LPC, NCC\n",
            "Query1 has 2 tokens.\n",
            "\n",
            "Query has 441 tokens.\n",
            "\n",
            "Query1 has 2 tokens.\n",
            "\n",
            "Query has 440 tokens.\n",
            "\n",
            "Predicted answer:  [CLS]\n",
            "Real Answer:  I wonder if you have moments where you feel happy?You say you have amazing friends. I wonder if you get along with them and feel as though you can be yourself around them.Sometimes we put a lot of pressure on ourselves to do really well at everything all the time and this can be overwhelming sometimes. Where do you have support? I hope you can tell someone that you are feeling sad so that you can talk about your feelings.Sleeping can make a big difference as far as feeling sad as well. If you're not sleeping well at night, that could be a big part of feeling sad a lot.Perhaps you could try to find a person or two who makes you feel totally safe and comfortable and try to talk with them.\n",
            "Query1 has 2 tokens.\n",
            "\n",
            "Query has 440 tokens.\n",
            "\n",
            "Query1 has 2 tokens.\n",
            "\n",
            "Query has 317 tokens.\n",
            "\n",
            "Predicted answer:  try talking to somebody about what you are feeling in addition to the urge to cut . try doing something physical\n",
            "Real Answer:  I've heard people say that they cut themselves as a way to feel relief from different emotions. You're also right that when you try to focus on just not cutting, it becomes more difficult because it's what you are focused on. While that is still something to work on, it may also be helpful to find something else you can do instead. You said drawing doesn't work for you. Sometimes more physical activities, such as doing a few jumping jacks, can be helpful. If you don't exercise, it might be something to talk with your doctor about first.The more you can learn about what makes you want to cut, the easier it will be to find out what you could do to change that. Try talking to somebody about what you are feeling in addition to the urge to cut.\n",
            "Query1 has 2 tokens.\n",
            "\n",
            "Query has 317 tokens.\n",
            "\n",
            "Query1 has 2 tokens.\n",
            "\n",
            "Query has 317 tokens.\n",
            "\n",
            "Predicted answer:  try talking to somebody about what you are feeling in addition to the urge to cut . try doing something physical\n",
            "Real Answer:  Try doing something physical. If you haven't exercised before, it is a good idea to get your doctor's approval first, but this can be helpful.The more you can find out about when you want to cut, the easier it will be to figure out what else you can do. If you are feeling sad or angry or nervous, look at what is leading up to those feelings and talk to someone about that.You said you are alone. I would see if you can find someone that you can trust to talk with about what you are going through. This could be a parent, a friend, someone at school, a coworker, or any number of other people.\n",
            "Query1 has 2 tokens.\n",
            "\n",
            "Query has 317 tokens.\n",
            "\n",
            "Query1 has 2 tokens.\n",
            "\n",
            "Query has 431 tokens.\n",
            "\n",
            "Predicted answer:  encourage you to call and speak to a local therapist\n",
            "Real Answer:  The answer here really depends upon your age and something called the \"age of consent\" in the state where you live. In Pennsylvania, anyone over the age of 14 can provide consent for their own treatment. As for billing purposes, try talking to some local agencies. If you are under 18, you may be able to have Medicaid out of medical necessity so that you can have treatment. If you are over 18, there may be some discounted rates at some agencies because of the situation you're in. Maybe your primary care physician will be able to refer you to some local agencies.If you are in school, you may be able to talk with a guidance counselor or someone at the school. This would not require using your insurance.\n",
            "Query1 has 2 tokens.\n",
            "\n",
            "Query has 431 tokens.\n",
            "\n",
            "Query1 has 2 tokens.\n",
            "\n",
            "Query has 422 tokens.\n",
            "\n",
            "Predicted answer:  [CLS]\n",
            "Real Answer:  It sounds like you have several different things happening at the same time. I would encourage you to call and speak to a local therapist. If you are having thoughts of killing yourself in this moment, please call 800-273-8255 and talk to someone.While I follow that you would like your son to be unaware of what you are going through, that doesn't mean that you can't discuss your feelings with someone else. Who is it that you trust or could speak with about this? A therapist could be one person, but perhaps there is someone else in your life as well.One thing that may help is to find a bead or rock that is smooth and you can hold onto it while thinking of a specific memory where you were happy. This could be from as long ago as necessary as long as it is specific and you can place yourself back in that time when you are thinking about it. If you think about this time while holding onto the bead, the bead may remind you of a time when you felt happy. You could do the same thing for a time when you felt comfortable and safe.Have you recognized any patterns for what is leading you to be sad?Can you think of anything that makes you feel good, even if it only works for a few minutes?\n",
            "Query1 has 2 tokens.\n",
            "\n",
            "Query has 422 tokens.\n",
            "\n",
            "Query1 has 2 tokens.\n",
            "\n",
            "Query has 206 tokens.\n",
            "\n",
            "Predicted answer:  it takes some time to work through the emotions related to this and it often takes longer if you are trying to work through it without a lot of support\n",
            "Real Answer:  It sounds like being separated from the armed forces is a major loss for you. It takes some time to work through the emotions related to this and it often takes longer if you are trying to work through it without a lot of support.Is there a task that you were doing during your military service that can in some way transfer into civilian life? I don't know what else your life involves, whether you have close friends or a romantic partner, a career, activities that you like to do, and many other things. You may be able to use some of the things that you still have today as a way to start moving forward in a different direction.Your military service will always be a part of you. Thank you for your service.\n",
            "Query1 has 2 tokens.\n",
            "\n",
            "Query has 206 tokens.\n",
            "\n",
            "Query1 has 2 tokens.\n",
            "\n",
            "Query has 200 tokens.\n",
            "\n",
            "Predicted answer:  close friends or a romantic partner\n",
            "Real Answer:  I'm not sure whether you are referring to having a lot of activities after school or that homework is overwhelming. Can you set aside a couple hours a week for yourself as a place to start?\n",
            "Query1 has 2 tokens.\n",
            "\n",
            "Query has 200 tokens.\n",
            "\n",
            "Query1 has 2 tokens.\n",
            "\n",
            "Query has 474 tokens.\n",
            "\n",
            "Predicted answer:  [CLS] how can i be happy as a stay - at - home mom ? [SEP] there are an infinite number of possibilities here . you included a lot of things that you don ' t have . is there anyway that you can have some freedom for a few hours a week , at least ? a lot of times stay at home moms have groups when they meet at different public places where their children can play together and they can talk together\n",
            "Real Answer:  There are an infinite number of possibilities here. You included a lot of things that you don't have. Is there anyway that you can have some freedom for a few hours a week, at least? A lot of times stay at home moms have groups when they meet at different public places where their children can play together and they can talk together. I don't know how old your child or children is/are, but perhaps going back to work is something that can happen in the future.I wonder if you may consider who you have in your life who can support you. I don't know whether you have a spouse or parents or siblings who could help out with some different things. I wonder if you could consider where you would like to go if you had two or three hours that you could do whatever you wanted? If you can sort out some possible answers to that, maybe you can work together with friends or family to make it happen.Also, again depending on the age of your children, some parents can do things while the children are sleeping, even if you are in the same room. For example, if your children are sleeping for about two hours, maybe 30 minutes of that could be reserved for you and the rest could be for cleaning or other things you need to do.\n",
            "Query1 has 2 tokens.\n",
            "\n",
            "Query has 474 tokens.\n",
            "\n",
            "Query1 has 2 tokens.\n",
            "\n",
            "Query has 468 tokens.\n",
            "\n",
            "Predicted answer:  [CLS]\n",
            "Real Answer:  Being tired can really affect almost everyone's ability to work through things that make them sad, confused, or angry, among other emotions. If you're having difficulty sleeping, try to get into a habit of going to bed and waking up close to the same time every day. Also consider only using the bed for sleeping so your brain knows that it's time to sleep when you are in bed. If you are not sleeping while you are in bed, consider getting up and reading a book or doing something to make you tired before going back to bed. Hopefully you'll be able to establish a pattern.Sometimes sadness and other emotions make sleeping very difficult as well. Try keeping track of your moods to see what is leading up to the changes.If you're still struggling, consider talking with a therapist about the specifics and/or maybe talking with your primary care physician. There are natural sleep remedies that he or she may recommend for you.\n",
            "Query1 has 2 tokens.\n",
            "\n",
            "Query has 468 tokens.\n",
            "\n"
          ]
        }
      ]
    },
    {
      "cell_type": "code",
      "metadata": {
        "colab": {
          "base_uri": "https://localhost:8080/"
        },
        "id": "NEaDsy9r7C5z",
        "outputId": "516d06f8-fbfc-4774-ed15-d752c1ac47e6"
      },
      "source": [
        "count"
      ],
      "execution_count": null,
      "outputs": [
        {
          "output_type": "execute_result",
          "data": {
            "text/plain": [
              "17"
            ]
          },
          "metadata": {},
          "execution_count": 38
        }
      ]
    }
  ]
}