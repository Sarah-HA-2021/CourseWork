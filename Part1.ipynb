{
  "nbformat": 4,
  "nbformat_minor": 0,
  "metadata": {
    "colab": {
      "name": "CourseWork.ipynb",
      "provenance": [],
      "collapsed_sections": [],
      "machine_shape": "hm"
    },
    "kernelspec": {
      "display_name": "Python 3",
      "name": "python3"
    },
    "language_info": {
      "name": "python"
    },
    "widgets": {
      "application/vnd.jupyter.widget-state+json": {
        "a00bbec7ab9543b6a5e1ebe80ba8cc6d": {
          "model_module": "@jupyter-widgets/controls",
          "model_name": "HBoxModel",
          "model_module_version": "1.5.0",
          "state": {
            "_view_name": "HBoxView",
            "_dom_classes": [],
            "_model_name": "HBoxModel",
            "_view_module": "@jupyter-widgets/controls",
            "_model_module_version": "1.5.0",
            "_view_count": null,
            "_view_module_version": "1.5.0",
            "box_style": "",
            "layout": "IPY_MODEL_f673c72837c5441e86a3b33d59f379f2",
            "_model_module": "@jupyter-widgets/controls",
            "children": [
              "IPY_MODEL_9e05b9f6697841198a545452a344e015",
              "IPY_MODEL_3746fe89f2f7448bb482f143c31fbb05",
              "IPY_MODEL_d4e6e45d17824440a242bf44922d7896"
            ]
          }
        },
        "f673c72837c5441e86a3b33d59f379f2": {
          "model_module": "@jupyter-widgets/base",
          "model_name": "LayoutModel",
          "model_module_version": "1.2.0",
          "state": {
            "_view_name": "LayoutView",
            "grid_template_rows": null,
            "right": null,
            "justify_content": null,
            "_view_module": "@jupyter-widgets/base",
            "overflow": null,
            "_model_module_version": "1.2.0",
            "_view_count": null,
            "flex_flow": null,
            "width": null,
            "min_width": null,
            "border": null,
            "align_items": null,
            "bottom": null,
            "_model_module": "@jupyter-widgets/base",
            "top": null,
            "grid_column": null,
            "overflow_y": null,
            "overflow_x": null,
            "grid_auto_flow": null,
            "grid_area": null,
            "grid_template_columns": null,
            "flex": null,
            "_model_name": "LayoutModel",
            "justify_items": null,
            "grid_row": null,
            "max_height": null,
            "align_content": null,
            "visibility": null,
            "align_self": null,
            "height": null,
            "min_height": null,
            "padding": null,
            "grid_auto_rows": null,
            "grid_gap": null,
            "max_width": null,
            "order": null,
            "_view_module_version": "1.2.0",
            "grid_template_areas": null,
            "object_position": null,
            "object_fit": null,
            "grid_auto_columns": null,
            "margin": null,
            "display": null,
            "left": null
          }
        },
        "9e05b9f6697841198a545452a344e015": {
          "model_module": "@jupyter-widgets/controls",
          "model_name": "HTMLModel",
          "model_module_version": "1.5.0",
          "state": {
            "_view_name": "HTMLView",
            "style": "IPY_MODEL_a9b13b3c8f0d438c881a99718ecb532e",
            "_dom_classes": [],
            "description": "",
            "_model_name": "HTMLModel",
            "placeholder": "​",
            "_view_module": "@jupyter-widgets/controls",
            "_model_module_version": "1.5.0",
            "value": "Downloading: 100%",
            "_view_count": null,
            "_view_module_version": "1.5.0",
            "description_tooltip": null,
            "_model_module": "@jupyter-widgets/controls",
            "layout": "IPY_MODEL_680b9e9f5e024f959559cc9895f83347"
          }
        },
        "3746fe89f2f7448bb482f143c31fbb05": {
          "model_module": "@jupyter-widgets/controls",
          "model_name": "FloatProgressModel",
          "model_module_version": "1.5.0",
          "state": {
            "_view_name": "ProgressView",
            "style": "IPY_MODEL_edaaf6c2be82451691f1bdfe159e43a5",
            "_dom_classes": [],
            "description": "",
            "_model_name": "FloatProgressModel",
            "bar_style": "success",
            "max": 231508,
            "_view_module": "@jupyter-widgets/controls",
            "_model_module_version": "1.5.0",
            "value": 231508,
            "_view_count": null,
            "_view_module_version": "1.5.0",
            "orientation": "horizontal",
            "min": 0,
            "description_tooltip": null,
            "_model_module": "@jupyter-widgets/controls",
            "layout": "IPY_MODEL_23a808acecec4638a8bc1484a3343fed"
          }
        },
        "d4e6e45d17824440a242bf44922d7896": {
          "model_module": "@jupyter-widgets/controls",
          "model_name": "HTMLModel",
          "model_module_version": "1.5.0",
          "state": {
            "_view_name": "HTMLView",
            "style": "IPY_MODEL_94670bd588ba4a2b93ea6f186d2ab6d4",
            "_dom_classes": [],
            "description": "",
            "_model_name": "HTMLModel",
            "placeholder": "​",
            "_view_module": "@jupyter-widgets/controls",
            "_model_module_version": "1.5.0",
            "value": " 226k/226k [00:00&lt;00:00, 1.24MB/s]",
            "_view_count": null,
            "_view_module_version": "1.5.0",
            "description_tooltip": null,
            "_model_module": "@jupyter-widgets/controls",
            "layout": "IPY_MODEL_c04a918a8bd9498bbfb63c98fe70cf11"
          }
        },
        "a9b13b3c8f0d438c881a99718ecb532e": {
          "model_module": "@jupyter-widgets/controls",
          "model_name": "DescriptionStyleModel",
          "model_module_version": "1.5.0",
          "state": {
            "_view_name": "StyleView",
            "_model_name": "DescriptionStyleModel",
            "description_width": "",
            "_view_module": "@jupyter-widgets/base",
            "_model_module_version": "1.5.0",
            "_view_count": null,
            "_view_module_version": "1.2.0",
            "_model_module": "@jupyter-widgets/controls"
          }
        },
        "680b9e9f5e024f959559cc9895f83347": {
          "model_module": "@jupyter-widgets/base",
          "model_name": "LayoutModel",
          "model_module_version": "1.2.0",
          "state": {
            "_view_name": "LayoutView",
            "grid_template_rows": null,
            "right": null,
            "justify_content": null,
            "_view_module": "@jupyter-widgets/base",
            "overflow": null,
            "_model_module_version": "1.2.0",
            "_view_count": null,
            "flex_flow": null,
            "width": null,
            "min_width": null,
            "border": null,
            "align_items": null,
            "bottom": null,
            "_model_module": "@jupyter-widgets/base",
            "top": null,
            "grid_column": null,
            "overflow_y": null,
            "overflow_x": null,
            "grid_auto_flow": null,
            "grid_area": null,
            "grid_template_columns": null,
            "flex": null,
            "_model_name": "LayoutModel",
            "justify_items": null,
            "grid_row": null,
            "max_height": null,
            "align_content": null,
            "visibility": null,
            "align_self": null,
            "height": null,
            "min_height": null,
            "padding": null,
            "grid_auto_rows": null,
            "grid_gap": null,
            "max_width": null,
            "order": null,
            "_view_module_version": "1.2.0",
            "grid_template_areas": null,
            "object_position": null,
            "object_fit": null,
            "grid_auto_columns": null,
            "margin": null,
            "display": null,
            "left": null
          }
        },
        "edaaf6c2be82451691f1bdfe159e43a5": {
          "model_module": "@jupyter-widgets/controls",
          "model_name": "ProgressStyleModel",
          "model_module_version": "1.5.0",
          "state": {
            "_view_name": "StyleView",
            "_model_name": "ProgressStyleModel",
            "description_width": "",
            "_view_module": "@jupyter-widgets/base",
            "_model_module_version": "1.5.0",
            "_view_count": null,
            "_view_module_version": "1.2.0",
            "bar_color": null,
            "_model_module": "@jupyter-widgets/controls"
          }
        },
        "23a808acecec4638a8bc1484a3343fed": {
          "model_module": "@jupyter-widgets/base",
          "model_name": "LayoutModel",
          "model_module_version": "1.2.0",
          "state": {
            "_view_name": "LayoutView",
            "grid_template_rows": null,
            "right": null,
            "justify_content": null,
            "_view_module": "@jupyter-widgets/base",
            "overflow": null,
            "_model_module_version": "1.2.0",
            "_view_count": null,
            "flex_flow": null,
            "width": null,
            "min_width": null,
            "border": null,
            "align_items": null,
            "bottom": null,
            "_model_module": "@jupyter-widgets/base",
            "top": null,
            "grid_column": null,
            "overflow_y": null,
            "overflow_x": null,
            "grid_auto_flow": null,
            "grid_area": null,
            "grid_template_columns": null,
            "flex": null,
            "_model_name": "LayoutModel",
            "justify_items": null,
            "grid_row": null,
            "max_height": null,
            "align_content": null,
            "visibility": null,
            "align_self": null,
            "height": null,
            "min_height": null,
            "padding": null,
            "grid_auto_rows": null,
            "grid_gap": null,
            "max_width": null,
            "order": null,
            "_view_module_version": "1.2.0",
            "grid_template_areas": null,
            "object_position": null,
            "object_fit": null,
            "grid_auto_columns": null,
            "margin": null,
            "display": null,
            "left": null
          }
        },
        "94670bd588ba4a2b93ea6f186d2ab6d4": {
          "model_module": "@jupyter-widgets/controls",
          "model_name": "DescriptionStyleModel",
          "model_module_version": "1.5.0",
          "state": {
            "_view_name": "StyleView",
            "_model_name": "DescriptionStyleModel",
            "description_width": "",
            "_view_module": "@jupyter-widgets/base",
            "_model_module_version": "1.5.0",
            "_view_count": null,
            "_view_module_version": "1.2.0",
            "_model_module": "@jupyter-widgets/controls"
          }
        },
        "c04a918a8bd9498bbfb63c98fe70cf11": {
          "model_module": "@jupyter-widgets/base",
          "model_name": "LayoutModel",
          "model_module_version": "1.2.0",
          "state": {
            "_view_name": "LayoutView",
            "grid_template_rows": null,
            "right": null,
            "justify_content": null,
            "_view_module": "@jupyter-widgets/base",
            "overflow": null,
            "_model_module_version": "1.2.0",
            "_view_count": null,
            "flex_flow": null,
            "width": null,
            "min_width": null,
            "border": null,
            "align_items": null,
            "bottom": null,
            "_model_module": "@jupyter-widgets/base",
            "top": null,
            "grid_column": null,
            "overflow_y": null,
            "overflow_x": null,
            "grid_auto_flow": null,
            "grid_area": null,
            "grid_template_columns": null,
            "flex": null,
            "_model_name": "LayoutModel",
            "justify_items": null,
            "grid_row": null,
            "max_height": null,
            "align_content": null,
            "visibility": null,
            "align_self": null,
            "height": null,
            "min_height": null,
            "padding": null,
            "grid_auto_rows": null,
            "grid_gap": null,
            "max_width": null,
            "order": null,
            "_view_module_version": "1.2.0",
            "grid_template_areas": null,
            "object_position": null,
            "object_fit": null,
            "grid_auto_columns": null,
            "margin": null,
            "display": null,
            "left": null
          }
        }
      }
    }
  },
  "cells": [
    {
      "cell_type": "markdown",
      "metadata": {
        "id": "O40XNZw0uMEG"
      },
      "source": [
        "# Reading Data "
      ]
    },
    {
      "cell_type": "code",
      "metadata": {
        "id": "xp7YDS6-BZcp"
      },
      "source": [
        "import pandas as pd\n",
        "\n",
        "df=pd.read_csv(\n",
        "    'https://raw.githubusercontent.com/nbertagnolli/counsel-chat/master/data/20200325_counsel_chat.csv',\n",
        "    delimiter=','\n",
        ")"
      ],
      "execution_count": null,
      "outputs": []
    },
    {
      "cell_type": "code",
      "metadata": {
        "colab": {
          "base_uri": "https://localhost:8080/",
          "height": 561
        },
        "id": "LfJaw6q0XBal",
        "outputId": "e24042a8-3a05-4716-9b0b-8458738e10e1"
      },
      "source": [
        "df.head()"
      ],
      "execution_count": null,
      "outputs": [
        {
          "output_type": "execute_result",
          "data": {
            "text/html": [
              "<div>\n",
              "<style scoped>\n",
              "    .dataframe tbody tr th:only-of-type {\n",
              "        vertical-align: middle;\n",
              "    }\n",
              "\n",
              "    .dataframe tbody tr th {\n",
              "        vertical-align: top;\n",
              "    }\n",
              "\n",
              "    .dataframe thead th {\n",
              "        text-align: right;\n",
              "    }\n",
              "</style>\n",
              "<table border=\"1\" class=\"dataframe\">\n",
              "  <thead>\n",
              "    <tr style=\"text-align: right;\">\n",
              "      <th></th>\n",
              "      <th>Unnamed: 0</th>\n",
              "      <th>questionID</th>\n",
              "      <th>questionTitle</th>\n",
              "      <th>questionText</th>\n",
              "      <th>questionLink</th>\n",
              "      <th>topic</th>\n",
              "      <th>therapistInfo</th>\n",
              "      <th>therapistURL</th>\n",
              "      <th>answerText</th>\n",
              "      <th>upvotes</th>\n",
              "      <th>views</th>\n",
              "      <th>split</th>\n",
              "    </tr>\n",
              "  </thead>\n",
              "  <tbody>\n",
              "    <tr>\n",
              "      <th>0</th>\n",
              "      <td>0</td>\n",
              "      <td>0</td>\n",
              "      <td>Can I change my feeling of being worthless to ...</td>\n",
              "      <td>I'm going through some things with my feelings...</td>\n",
              "      <td>https://counselchat.com/questions/can-i-change...</td>\n",
              "      <td>depression</td>\n",
              "      <td>Sherry Katz, LCSWCouples and Family Therapist,...</td>\n",
              "      <td>https://counselchat.com/therapists/sherry-katz...</td>\n",
              "      <td>If everyone thinks you're worthless, then mayb...</td>\n",
              "      <td>1</td>\n",
              "      <td>2899</td>\n",
              "      <td>train</td>\n",
              "    </tr>\n",
              "    <tr>\n",
              "      <th>1</th>\n",
              "      <td>1</td>\n",
              "      <td>0</td>\n",
              "      <td>Can I change my feeling of being worthless to ...</td>\n",
              "      <td>I'm going through some things with my feelings...</td>\n",
              "      <td>https://counselchat.com/questions/can-i-change...</td>\n",
              "      <td>depression</td>\n",
              "      <td>Robin Landwehr, DBH, LPCC, NCCMental Health in...</td>\n",
              "      <td>https://counselchat.com/therapists/robin-landw...</td>\n",
              "      <td>Hello, and thank you for your question and see...</td>\n",
              "      <td>1</td>\n",
              "      <td>3514</td>\n",
              "      <td>train</td>\n",
              "    </tr>\n",
              "    <tr>\n",
              "      <th>2</th>\n",
              "      <td>2</td>\n",
              "      <td>0</td>\n",
              "      <td>Can I change my feeling of being worthless to ...</td>\n",
              "      <td>I'm going through some things with my feelings...</td>\n",
              "      <td>https://counselchat.com/questions/can-i-change...</td>\n",
              "      <td>depression</td>\n",
              "      <td>Lee KingI use an integrative approach to treat...</td>\n",
              "      <td>https://counselchat.com/therapists/lee-king</td>\n",
              "      <td>First thing I'd suggest is getting the sleep y...</td>\n",
              "      <td>0</td>\n",
              "      <td>5</td>\n",
              "      <td>train</td>\n",
              "    </tr>\n",
              "    <tr>\n",
              "      <th>3</th>\n",
              "      <td>3</td>\n",
              "      <td>0</td>\n",
              "      <td>Can I change my feeling of being worthless to ...</td>\n",
              "      <td>I'm going through some things with my feelings...</td>\n",
              "      <td>https://counselchat.com/questions/can-i-change...</td>\n",
              "      <td>depression</td>\n",
              "      <td>Shauntai Davis-YearginPersonalized, private on...</td>\n",
              "      <td>https://counselchat.com/therapists/shauntai-da...</td>\n",
              "      <td>Therapy is essential for those that are feelin...</td>\n",
              "      <td>0</td>\n",
              "      <td>31</td>\n",
              "      <td>train</td>\n",
              "    </tr>\n",
              "    <tr>\n",
              "      <th>4</th>\n",
              "      <td>4</td>\n",
              "      <td>0</td>\n",
              "      <td>Can I change my feeling of being worthless to ...</td>\n",
              "      <td>I'm going through some things with my feelings...</td>\n",
              "      <td>https://counselchat.com/questions/can-i-change...</td>\n",
              "      <td>depression</td>\n",
              "      <td>Jordan WhiteLicensed Social Worker at Oak Root...</td>\n",
              "      <td>https://counselchat.com/therapists/jordan-white</td>\n",
              "      <td>I first want to let you know that you are not ...</td>\n",
              "      <td>0</td>\n",
              "      <td>620</td>\n",
              "      <td>train</td>\n",
              "    </tr>\n",
              "  </tbody>\n",
              "</table>\n",
              "</div>"
            ],
            "text/plain": [
              "   Unnamed: 0  questionID  ... views  split\n",
              "0           0           0  ...  2899  train\n",
              "1           1           0  ...  3514  train\n",
              "2           2           0  ...     5  train\n",
              "3           3           0  ...    31  train\n",
              "4           4           0  ...   620  train\n",
              "\n",
              "[5 rows x 12 columns]"
            ]
          },
          "metadata": {},
          "execution_count": 459
        }
      ]
    },
    {
      "cell_type": "markdown",
      "metadata": {
        "id": "RQI3zuMUuaIH"
      },
      "source": [
        "# Discovering Data "
      ]
    },
    {
      "cell_type": "code",
      "metadata": {
        "colab": {
          "base_uri": "https://localhost:8080/"
        },
        "id": "NeDvQ4X2XNNW",
        "outputId": "7bd0402a-18bf-4bec-9d8b-2d33076ac968"
      },
      "source": [
        "# number of answrers \n",
        "len(df)"
      ],
      "execution_count": null,
      "outputs": [
        {
          "output_type": "execute_result",
          "data": {
            "text/plain": [
              "2129"
            ]
          },
          "metadata": {},
          "execution_count": 247
        }
      ]
    },
    {
      "cell_type": "code",
      "metadata": {
        "colab": {
          "base_uri": "https://localhost:8080/"
        },
        "id": "Bf3Nt2gpgqIj",
        "outputId": "dd96399f-aef8-49f6-c661-f84ab51faef4"
      },
      "source": [
        "#topics\n",
        "df.groupby([\"topic\", \"questionID\"]).agg(\"count\").reset_index().groupby(\"topic\").agg(\"count\")[\"questionID\"].sort_values(ascending=False)"
      ],
      "execution_count": null,
      "outputs": [
        {
          "output_type": "execute_result",
          "data": {
            "text/plain": [
              "topic\n",
              "depression                  132\n",
              "relationships               101\n",
              "intimacy                    100\n",
              "anxiety                      88\n",
              "family-conflict              58\n",
              "parenting                    54\n",
              "self-esteem                  42\n",
              "relationship-dissolution     31\n",
              "behavioral-change            29\n",
              "anger-management             25\n",
              "trauma                       22\n",
              "marriage                     20\n",
              "domestic-violence            16\n",
              "lgbtq                        15\n",
              "counseling-fundamentals      11\n",
              "workplace-relationships      11\n",
              "social-relationships         11\n",
              "substance-abuse              10\n",
              "grief-and-loss                8\n",
              "spirituality                  7\n",
              "legal-regulatory              6\n",
              "professional-ethics           6\n",
              "diagnosis                     6\n",
              "sleep-improvement             5\n",
              "human-sexuality               4\n",
              "eating-disorders              4\n",
              "stress                        3\n",
              "addiction                     3\n",
              "self-harm                     2\n",
              "children-adolescents          2\n",
              "military-issues               1\n",
              "Name: questionID, dtype: int64"
            ]
          },
          "metadata": {},
          "execution_count": 248
        }
      ]
    },
    {
      "cell_type": "code",
      "metadata": {
        "colab": {
          "base_uri": "https://localhost:8080/"
        },
        "id": "t1h34t4OcVm8",
        "outputId": "bc14248b-3ed2-4db2-9c4f-028aa6fece6e"
      },
      "source": [
        "# number of topics\n",
        "len(set(df[\"topic\"].tolist()))"
      ],
      "execution_count": null,
      "outputs": [
        {
          "output_type": "execute_result",
          "data": {
            "text/plain": [
              "31"
            ]
          },
          "metadata": {},
          "execution_count": 249
        }
      ]
    },
    {
      "cell_type": "code",
      "metadata": {
        "colab": {
          "base_uri": "https://localhost:8080/",
          "height": 656
        },
        "id": "Ba30KtW_ecQC",
        "outputId": "eadafa44-4335-4e6b-e10f-93bcc5758eea"
      },
      "source": [
        "import matplotlib.pyplot as plt\n",
        "# Number of questsions asked per topic\n",
        "fig, ax = plt.subplots(figsize=(20, 10))\n",
        "df.groupby([\"topic\", \"questionID\"]).agg(\"count\").reset_index().groupby(\"topic\").agg(\"count\")[\"questionID\"].sort_values(ascending=False).plot.bar(ax=ax)\n",
        "ax.set_title(\"Number of Questions by Topic\", fontsize=30)\n",
        "ax.set_ylabel(\"Number of Questions\", fontsize=25)\n",
        "ax.set_xlabel(\"Topic\", fontsize=25)\n",
        "ax.set_xticklabels(ax.get_xticklabels(), fontsize=17)\n",
        "plt.tight_layout()\n",
        "plt.savefig(\"number_of_questions_by_topic.png\")"
      ],
      "execution_count": null,
      "outputs": [
        {
          "output_type": "display_data",
          "data": {
            "image/png": "[encoded data removed]",
            "text/plain": [
              "<Figure size 1440x720 with 1 Axes>"
            ]
          },
          "metadata": {
            "needs_background": "light"
          }
        }
      ]
    },
    {
      "cell_type": "markdown",
      "metadata": {
        "id": "0U8_wXhLhoBc"
      },
      "source": [
        "# Preprocessing the data "
      ]
    },
    {
      "cell_type": "code",
      "metadata": {
        "colab": {
          "base_uri": "https://localhost:8080/"
        },
        "id": "Md4yXlzflaH4",
        "outputId": "96d59549-1ea8-4974-d513-182c76bbe5c2"
      },
      "source": [
        "# selectiong topics \n",
        "topic_list= ['depression' ,'relationships'\t,'intimacy'\t,'anxiety'  ,'family-conflict'  ,\t'parenting' , \t'self-esteem']  \n",
        "filtered_df= df[df.topic.isin(topic_list)]\n",
        "len(filtered_df)"
      ],
      "execution_count": null,
      "outputs": [
        {
          "output_type": "execute_result",
          "data": {
            "text/plain": [
              "1302"
            ]
          },
          "metadata": {},
          "execution_count": 460
        }
      ]
    },
    {
      "cell_type": "code",
      "metadata": {
        "colab": {
          "base_uri": "https://localhost:8080/"
        },
        "id": "ZA9hyovvOXfC",
        "outputId": "2a6e01bf-b11c-4ad3-b796-cf0a12efbf77"
      },
      "source": [
        "# remove duplicated questions \n",
        "filtered_df=filtered_df.drop_duplicates(subset='questionText', keep=\"last\")\n",
        "len(filtered_df)"
      ],
      "execution_count": null,
      "outputs": [
        {
          "output_type": "execute_result",
          "data": {
            "text/plain": [
              "575"
            ]
          },
          "metadata": {},
          "execution_count": 461
        }
      ]
    },
    {
      "cell_type": "code",
      "metadata": {
        "colab": {
          "base_uri": "https://localhost:8080/"
        },
        "id": "JMBcDo5WF8Bk",
        "outputId": "4708771d-0bef-45af-8df0-d80ba0a4d2d8"
      },
      "source": [
        "import numpy\n",
        "Frequencies=numpy.array(filtered_df.groupby([\"topic\", \"questionID\"]).agg(\"count\").reset_index().groupby(\"topic\").agg(\"count\")[\"questionID\"].sort_values(ascending=False))\n",
        "Frequencies / len(filtered_df) * 100 "
      ],
      "execution_count": null,
      "outputs": [
        {
          "output_type": "execute_result",
          "data": {
            "text/plain": [
              "array([22.95652174, 17.56521739, 17.39130435, 15.30434783, 10.08695652,\n",
              "        9.39130435,  7.30434783])"
            ]
          },
          "metadata": {},
          "execution_count": 253
        }
      ]
    },
    {
      "cell_type": "code",
      "metadata": {
        "id": "CnEiB2NFGyIk"
      },
      "source": [
        "# adding labeles to the bar chart \n",
        "def addlabels(n,y):\n",
        "    for i in range(n):\n",
        "        plt.text(i, y[i], y[i], ha = 'center',fontsize=25)"
      ],
      "execution_count": null,
      "outputs": []
    },
    {
      "cell_type": "code",
      "metadata": {
        "colab": {
          "base_uri": "https://localhost:8080/",
          "height": 656
        },
        "id": "HKSuMZ-MfeqU",
        "outputId": "7f6295a1-845a-4383-a258-39e18f989adb"
      },
      "source": [
        "import matplotlib.pyplot as plt\n",
        "# Number of questsions asked per topic\n",
        "fig, ax = plt.subplots(figsize=(20, 10))\n",
        "filtered_df.groupby([\"topic\", \"questionID\"]).agg(\"count\").reset_index().groupby(\"topic\").agg(\"count\")[\"questionID\"].sort_values(ascending=False).plot.bar(ax=ax)\n",
        "n=7\n",
        "addlabels(n,Frequencies)\n",
        "ax.set_title(\"Number of Questions by Topic\", fontsize=30)\n",
        "ax.set_ylabel(\"Number of Questions\", fontsize=25)\n",
        "ax.set_xlabel(\"Topic\", fontsize=25)\n",
        "ax.set_xticklabels(ax.get_xticklabels(), fontsize=17)\n",
        "plt.tight_layout()\n",
        "plt.savefig(\"number_of_questions_by_topic.png\")"
      ],
      "execution_count": null,
      "outputs": [
        {
          "output_type": "display_data",
          "data": {
            "image/png": "[encoded data removed]",
            "text/plain": [
              "<Figure size 1440x720 with 1 Axes>"
            ]
          },
          "metadata": {
            "needs_background": "light"
          }
        }
      ]
    },
    {
      "cell_type": "markdown",
      "metadata": {
        "id": "4gquls-YiBKW"
      },
      "source": [
        "# Exploring  the data again"
      ]
    },
    {
      "cell_type": "code",
      "metadata": {
        "colab": {
          "base_uri": "https://localhost:8080/"
        },
        "id": "6KSi2AQ0zdc6",
        "outputId": "ceb80e92-7de1-41fb-c0f9-493090d169f0"
      },
      "source": [
        "# questionts length \n",
        "\n",
        "df_col_max_len = int(filtered_df['questionTitle'].str.encode(encoding='utf-8').str.len().max())\n",
        "print ('maximum quastion length ', df_col_max_len)\n",
        "\n",
        "df_col_min_len = int(filtered_df['questionTitle'].str.encode(encoding='utf-8').str.len().min())\n",
        "print ('minimum question length ', df_col_min_len)\n",
        "\n",
        "df_col_avg_len = int(filtered_df['questionTitle'].str.encode(encoding='utf-8').str.len().mean())\n",
        "print ('Average question length ', df_col_avg_len)\n",
        "\n",
        "df_col_avg_len = int(filtered_df['questionTitle'].str.encode(encoding='utf-8').str.len().median())\n",
        "print ('Median question length ', df_col_avg_len)"
      ],
      "execution_count": null,
      "outputs": [
        {
          "output_type": "stream",
          "name": "stdout",
          "text": [
            "maximum quastion length  138\n",
            "minimum question length  16\n",
            "Average question length  52\n",
            "Median question length  51\n"
          ]
        }
      ]
    },
    {
      "cell_type": "code",
      "metadata": {
        "colab": {
          "base_uri": "https://localhost:8080/"
        },
        "id": "JMfdyyBsh6Ec",
        "outputId": "d283829b-cb2e-4d46-cec6-9177e1a7528c"
      },
      "source": [
        "len(filtered_df)"
      ],
      "execution_count": null,
      "outputs": [
        {
          "output_type": "execute_result",
          "data": {
            "text/plain": [
              "575"
            ]
          },
          "metadata": {},
          "execution_count": 257
        }
      ]
    },
    {
      "cell_type": "markdown",
      "metadata": {
        "id": "tt0L8n7fflvF"
      },
      "source": [
        "# Shuffle the data"
      ]
    },
    {
      "cell_type": "code",
      "metadata": {
        "id": "eOADvE8lw0HS"
      },
      "source": [
        "# shuffle the DataFrame rows # reproduicable \n",
        "filtered_df = filtered_df.sample(frac = 1,random_state=0)"
      ],
      "execution_count": null,
      "outputs": []
    },
    {
      "cell_type": "code",
      "metadata": {
        "colab": {
          "base_uri": "https://localhost:8080/",
          "height": 1000
        },
        "id": "8kTncoJqaVz0",
        "outputId": "1e69c36e-4af0-4df6-b62f-f9062cdd1083"
      },
      "source": [
        "filtered_df"
      ],
      "execution_count": null,
      "outputs": [
        {
          "output_type": "execute_result",
          "data": {
            "text/html": [
              "<div>\n",
              "<style scoped>\n",
              "    .dataframe tbody tr th:only-of-type {\n",
              "        vertical-align: middle;\n",
              "    }\n",
              "\n",
              "    .dataframe tbody tr th {\n",
              "        vertical-align: top;\n",
              "    }\n",
              "\n",
              "    .dataframe thead th {\n",
              "        text-align: right;\n",
              "    }\n",
              "</style>\n",
              "<table border=\"1\" class=\"dataframe\">\n",
              "  <thead>\n",
              "    <tr style=\"text-align: right;\">\n",
              "      <th></th>\n",
              "      <th>Unnamed: 0</th>\n",
              "      <th>questionID</th>\n",
              "      <th>questionTitle</th>\n",
              "      <th>questionText</th>\n",
              "      <th>questionLink</th>\n",
              "      <th>topic</th>\n",
              "      <th>therapistInfo</th>\n",
              "      <th>therapistURL</th>\n",
              "      <th>answerText</th>\n",
              "      <th>upvotes</th>\n",
              "      <th>views</th>\n",
              "      <th>split</th>\n",
              "    </tr>\n",
              "  </thead>\n",
              "  <tbody>\n",
              "    <tr>\n",
              "      <th>1281</th>\n",
              "      <td>1281</td>\n",
              "      <td>566</td>\n",
              "      <td>What should I do if my boyfriend can't get ove...</td>\n",
              "      <td>My boyfriend can't get over my promiscuous pas...</td>\n",
              "      <td>https://counselchat.com/questions/what-should-...</td>\n",
              "      <td>intimacy</td>\n",
              "      <td>Kristi King-Morgan, LMSWSocial Worker, Psychot...</td>\n",
              "      <td>https://counselchat.com/therapists/kristi-king...</td>\n",
              "      <td>I am sorry to hear of your relationship strugg...</td>\n",
              "      <td>2</td>\n",
              "      <td>281</td>\n",
              "      <td>train</td>\n",
              "    </tr>\n",
              "    <tr>\n",
              "      <th>290</th>\n",
              "      <td>290</td>\n",
              "      <td>99</td>\n",
              "      <td>I feel guilty because I didn't say no to a guy...</td>\n",
              "      <td>I was in a situation with a guy. He’s my broth...</td>\n",
              "      <td>https://counselchat.com/questions/i-feel-guilt...</td>\n",
              "      <td>depression</td>\n",
              "      <td>Lynda MartensMarriage &amp; Family Therapist, MSc,...</td>\n",
              "      <td>https://counselchat.com/therapists/ms-lynda-ma...</td>\n",
              "      <td>Hi Tennessee, There is nothing wrong with you....</td>\n",
              "      <td>1</td>\n",
              "      <td>105</td>\n",
              "      <td>train</td>\n",
              "    </tr>\n",
              "    <tr>\n",
              "      <th>1537</th>\n",
              "      <td>1537</td>\n",
              "      <td>684</td>\n",
              "      <td>My ex-boyfriend say we're finished but still a...</td>\n",
              "      <td>I've been with a man for four years. For the l...</td>\n",
              "      <td>https://counselchat.com/questions/my-ex-boyfri...</td>\n",
              "      <td>relationships</td>\n",
              "      <td>Lauren Ostrowski, MA, LPC, NCC, DCC, CCTPI tai...</td>\n",
              "      <td>https://counselchat.com/therapists/lauren-ostr...</td>\n",
              "      <td>This can be difficult and confusing.If you thi...</td>\n",
              "      <td>0</td>\n",
              "      <td>131</td>\n",
              "      <td>train</td>\n",
              "    </tr>\n",
              "    <tr>\n",
              "      <th>1384</th>\n",
              "      <td>1384</td>\n",
              "      <td>603</td>\n",
              "      <td>How do I find a therapist for my family as a m...</td>\n",
              "      <td>I’m a teenager. My entire family needs family ...</td>\n",
              "      <td>https://counselchat.com/questions/how-do-i-fin...</td>\n",
              "      <td>family-conflict</td>\n",
              "      <td>Vivian D. Echevarria Guzman, MSC, LPC-S, NCCBi...</td>\n",
              "      <td>https://counselchat.com/therapists/vivian-d-ec...</td>\n",
              "      <td>This is a question that I often get from patie...</td>\n",
              "      <td>0</td>\n",
              "      <td>522</td>\n",
              "      <td>val</td>\n",
              "    </tr>\n",
              "    <tr>\n",
              "      <th>1572</th>\n",
              "      <td>1572</td>\n",
              "      <td>702</td>\n",
              "      <td>I just feel so alone</td>\n",
              "      <td>I feel so alone. I have so many people around ...</td>\n",
              "      <td>https://counselchat.com/questions/i-just-feel-...</td>\n",
              "      <td>relationships</td>\n",
              "      <td>Sherry Katz, LCSWCouples and Family Therapist,...</td>\n",
              "      <td>https://counselchat.com/therapists/sherry-katz...</td>\n",
              "      <td>You ask a very deep and sensitive question whi...</td>\n",
              "      <td>0</td>\n",
              "      <td>44</td>\n",
              "      <td>train</td>\n",
              "    </tr>\n",
              "    <tr>\n",
              "      <th>...</th>\n",
              "      <td>...</td>\n",
              "      <td>...</td>\n",
              "      <td>...</td>\n",
              "      <td>...</td>\n",
              "      <td>...</td>\n",
              "      <td>...</td>\n",
              "      <td>...</td>\n",
              "      <td>...</td>\n",
              "      <td>...</td>\n",
              "      <td>...</td>\n",
              "      <td>...</td>\n",
              "      <td>...</td>\n",
              "    </tr>\n",
              "    <tr>\n",
              "      <th>737</th>\n",
              "      <td>737</td>\n",
              "      <td>290</td>\n",
              "      <td>I Sometimes I feel like I hate myself</td>\n",
              "      <td>I feel like I hate myself physically and emoti...</td>\n",
              "      <td>https://counselchat.com/questions/i-sometimes-...</td>\n",
              "      <td>self-esteem</td>\n",
              "      <td>Sherry Katz, LCSWCouples and Family Therapist,...</td>\n",
              "      <td>https://counselchat.com/therapists/sherry-katz...</td>\n",
              "      <td>This happens slowly and can be done.You alread...</td>\n",
              "      <td>0</td>\n",
              "      <td>65</td>\n",
              "      <td>val</td>\n",
              "    </tr>\n",
              "    <tr>\n",
              "      <th>100</th>\n",
              "      <td>100</td>\n",
              "      <td>9</td>\n",
              "      <td>Why does it feel as if self-harm is an addiction?</td>\n",
              "      <td>I self-harm, and I stop for awhile. Then when ...</td>\n",
              "      <td>https://counselchat.com/questions/why-does-it-...</td>\n",
              "      <td>depression</td>\n",
              "      <td>Jennifer GerlachYour Story Matters</td>\n",
              "      <td>https://counselchat.com/therapists/jennifer-ge...</td>\n",
              "      <td>Self-harm has a way of becoming a go-to method...</td>\n",
              "      <td>0</td>\n",
              "      <td>42</td>\n",
              "      <td>val</td>\n",
              "    </tr>\n",
              "    <tr>\n",
              "      <th>1199</th>\n",
              "      <td>1199</td>\n",
              "      <td>507</td>\n",
              "      <td>How do I handle my fiancée always telling me h...</td>\n",
              "      <td>My fiancée is always letting me know how I am ...</td>\n",
              "      <td>https://counselchat.com/questions/how-do-i-han...</td>\n",
              "      <td>intimacy</td>\n",
              "      <td>Lauren Ostrowski, MA, LPC, NCC, DCC, CCTPI tai...</td>\n",
              "      <td>https://counselchat.com/therapists/lauren-ostr...</td>\n",
              "      <td>One thing you could try is to have a conversat...</td>\n",
              "      <td>0</td>\n",
              "      <td>77</td>\n",
              "      <td>val</td>\n",
              "    </tr>\n",
              "    <tr>\n",
              "      <th>534</th>\n",
              "      <td>534</td>\n",
              "      <td>202</td>\n",
              "      <td>Why am I so anxious in social situations?</td>\n",
              "      <td>Whenever I have to speak in public or be in bi...</td>\n",
              "      <td>https://counselchat.com/questions/why-am-i-so-...</td>\n",
              "      <td>anxiety</td>\n",
              "      <td>Sonya WilsonLicensed Professional Counselor</td>\n",
              "      <td>https://counselchat.com/therapists/sonya-wilson</td>\n",
              "      <td>As you do it more, it should get better or at ...</td>\n",
              "      <td>0</td>\n",
              "      <td>54</td>\n",
              "      <td>train</td>\n",
              "    </tr>\n",
              "    <tr>\n",
              "      <th>1666</th>\n",
              "      <td>1666</td>\n",
              "      <td>766</td>\n",
              "      <td>I cheated on my husband with one of his good f...</td>\n",
              "      <td>We kissed and he grabbed my boobs and we excha...</td>\n",
              "      <td>https://counselchat.com/questions/i-cheated-on...</td>\n",
              "      <td>relationships</td>\n",
              "      <td>Rebecca WongRelationship Therapist &amp; Connectfu...</td>\n",
              "      <td>https://counselchat.com/therapists/rebecca-wong</td>\n",
              "      <td>The issue at hand here is that you're betrayal...</td>\n",
              "      <td>0</td>\n",
              "      <td>143</td>\n",
              "      <td>train</td>\n",
              "    </tr>\n",
              "  </tbody>\n",
              "</table>\n",
              "<p>575 rows × 12 columns</p>\n",
              "</div>"
            ],
            "text/plain": [
              "      Unnamed: 0  questionID  ... views  split\n",
              "1281        1281         566  ...   281  train\n",
              "290          290          99  ...   105  train\n",
              "1537        1537         684  ...   131  train\n",
              "1384        1384         603  ...   522    val\n",
              "1572        1572         702  ...    44  train\n",
              "...          ...         ...  ...   ...    ...\n",
              "737          737         290  ...    65    val\n",
              "100          100           9  ...    42    val\n",
              "1199        1199         507  ...    77    val\n",
              "534          534         202  ...    54  train\n",
              "1666        1666         766  ...   143  train\n",
              "\n",
              "[575 rows x 12 columns]"
            ]
          },
          "metadata": {},
          "execution_count": 463
        }
      ]
    },
    {
      "cell_type": "markdown",
      "metadata": {
        "id": "Xy25ryPm501X"
      },
      "source": [
        "# Spliting into training and testing"
      ]
    },
    {
      "cell_type": "code",
      "metadata": {
        "colab": {
          "base_uri": "https://localhost:8080/"
        },
        "id": "xCOoas1HhKLn",
        "outputId": "52c91fff-334c-49c5-aa6b-3801c2f544a3"
      },
      "source": [
        "from sklearn import feature_extraction, model_selection, naive_bayes, pipeline, manifold, preprocessing\n",
        "\n",
        "dtf_train, dtf_test = model_selection.train_test_split(filtered_df, test_size=0.3,random_state=1)\n",
        "## get target\n",
        "y_train = dtf_train[\"topic\"].values\n",
        "y_test = dtf_test[\"topic\"].values\n",
        "len(y_train )"
      ],
      "execution_count": null,
      "outputs": [
        {
          "output_type": "execute_result",
          "data": {
            "text/plain": [
              "402"
            ]
          },
          "metadata": {},
          "execution_count": 349
        }
      ]
    },
    {
      "cell_type": "markdown",
      "metadata": {
        "id": "ZDj6forAx9vd"
      },
      "source": [
        "# Statistics about train & test "
      ]
    },
    {
      "cell_type": "code",
      "metadata": {
        "colab": {
          "base_uri": "https://localhost:8080/"
        },
        "id": "Pe1qXi61R3lt",
        "outputId": "d463d5f9-6f3b-424e-d85f-29051110bf3f"
      },
      "source": [
        "print (pd.DataFrame(y_train).value_counts())"
      ],
      "execution_count": null,
      "outputs": [
        {
          "output_type": "stream",
          "name": "stdout",
          "text": [
            "depression         91\n",
            "relationships      75\n",
            "intimacy           67\n",
            "anxiety            64\n",
            "family-conflict    40\n",
            "parenting          34\n",
            "self-esteem        31\n",
            "dtype: int64\n"
          ]
        }
      ]
    },
    {
      "cell_type": "code",
      "metadata": {
        "colab": {
          "base_uri": "https://localhost:8080/",
          "height": 250
        },
        "id": "XNxDtlMurttP",
        "outputId": "f6b47b53-1696-4e3e-893b-9367048ee12b"
      },
      "source": [
        "import matplotlib.pyplot as plt\n",
        "\n",
        "labels = pd.DataFrame(y_train)[0].astype('category').cat.categories.tolist()\n",
        "counts =  pd.DataFrame(y_train)[0].value_counts()\n",
        "sizes = [counts[var_cat] for var_cat in labels]\n",
        "fig1, ax1 = plt.subplots()\n",
        "ax1.pie(sizes, labels=labels, autopct='%1.1f%%', shadow=True) #autopct is show the % on plot\n",
        "ax1.axis('equal')\n",
        "plt.savefig(\"distibution of labels throghou_training_set.png\")\n",
        "plt.show()"
      ],
      "execution_count": null,
      "outputs": [
        {
          "output_type": "display_data",
          "data": {
            "image/png": "[encoded data removed]",
            "text/plain": [
              "<Figure size 432x288 with 1 Axes>"
            ]
          },
          "metadata": {}
        }
      ]
    },
    {
      "cell_type": "code",
      "metadata": {
        "colab": {
          "base_uri": "https://localhost:8080/"
        },
        "id": "wPD1W07Ppkov",
        "outputId": "b405205b-b370-4bea-9f44-da777d60a924"
      },
      "source": [
        "# numpy array \n",
        "numpy.array(pd.DataFrame(y_train).value_counts()) / len(y_train) *100"
      ],
      "execution_count": null,
      "outputs": [
        {
          "output_type": "execute_result",
          "data": {
            "text/plain": [
              "array([22.63681592, 18.65671642, 16.66666667, 15.92039801,  9.95024876,\n",
              "        8.45771144,  7.71144279])"
            ]
          },
          "metadata": {},
          "execution_count": 304
        }
      ]
    },
    {
      "cell_type": "code",
      "metadata": {
        "colab": {
          "base_uri": "https://localhost:8080/"
        },
        "id": "Sd8Is-FlrgYf",
        "outputId": "469cf553-909f-47bd-80ea-403e652da39a"
      },
      "source": [
        "print (pd.DataFrame(y_test).value_counts())"
      ],
      "execution_count": null,
      "outputs": [
        {
          "output_type": "stream",
          "name": "stdout",
          "text": [
            "depression         41\n",
            "intimacy           33\n",
            "relationships      26\n",
            "anxiety            24\n",
            "parenting          20\n",
            "family-conflict    18\n",
            "self-esteem        11\n",
            "dtype: int64\n"
          ]
        }
      ]
    },
    {
      "cell_type": "code",
      "metadata": {
        "colab": {
          "base_uri": "https://localhost:8080/"
        },
        "id": "c_mwxP12qSey",
        "outputId": "b4c98c09-ec65-4e38-9958-6491b10ce108"
      },
      "source": [
        "# numpy array \n",
        "numpy.array(pd.DataFrame(y_test).value_counts()) / len(y_test) *100"
      ],
      "execution_count": null,
      "outputs": [
        {
          "output_type": "execute_result",
          "data": {
            "text/plain": [
              "array([23.69942197, 19.07514451, 15.02890173, 13.87283237, 11.56069364,\n",
              "       10.40462428,  6.3583815 ])"
            ]
          },
          "metadata": {},
          "execution_count": 225
        }
      ]
    },
    {
      "cell_type": "code",
      "metadata": {
        "colab": {
          "base_uri": "https://localhost:8080/",
          "height": 255
        },
        "id": "EuLcumKLssBY",
        "outputId": "6bc47c5d-6b12-42c8-adb6-51ca46ea2f4e"
      },
      "source": [
        "import matplotlib.pyplot as plt\n",
        "\n",
        "labels = pd.DataFrame(y_test)[0].astype('category').cat.categories.tolist()\n",
        "counts =  pd.DataFrame(y_test)[0].value_counts()\n",
        "sizes = [counts[var_cat] for var_cat in labels]\n",
        "fig1, ax1 = plt.subplots()\n",
        "ax1.pie(sizes, labels=labels, autopct='%1.1f%%', shadow=True) #autopct is show the % on plot\n",
        "plt.savefig(\"distibution of labels throghou_testing_set.png\")\n",
        "ax1.axis('equal')\n",
        "\n",
        "plt.show()"
      ],
      "execution_count": null,
      "outputs": [
        {
          "output_type": "display_data",
          "data": {
            "image/png": "[encoded data removed]",
            "text/plain": [
              "<Figure size 432x288 with 1 Axes>"
            ]
          },
          "metadata": {}
        }
      ]
    },
    {
      "cell_type": "code",
      "metadata": {
        "colab": {
          "base_uri": "https://localhost:8080/",
          "height": 275
        },
        "id": "1Mmn3MJeL_15",
        "outputId": "9f581b0b-05fa-4805-8dff-fab6e644a643"
      },
      "source": [
        "dtf_train.head(2)"
      ],
      "execution_count": null,
      "outputs": [
        {
          "output_type": "execute_result",
          "data": {
            "text/html": [
              "<div>\n",
              "<style scoped>\n",
              "    .dataframe tbody tr th:only-of-type {\n",
              "        vertical-align: middle;\n",
              "    }\n",
              "\n",
              "    .dataframe tbody tr th {\n",
              "        vertical-align: top;\n",
              "    }\n",
              "\n",
              "    .dataframe thead th {\n",
              "        text-align: right;\n",
              "    }\n",
              "</style>\n",
              "<table border=\"1\" class=\"dataframe\">\n",
              "  <thead>\n",
              "    <tr style=\"text-align: right;\">\n",
              "      <th></th>\n",
              "      <th>Unnamed: 0</th>\n",
              "      <th>questionID</th>\n",
              "      <th>questionTitle</th>\n",
              "      <th>questionText</th>\n",
              "      <th>questionLink</th>\n",
              "      <th>topic</th>\n",
              "      <th>therapistInfo</th>\n",
              "      <th>therapistURL</th>\n",
              "      <th>answerText</th>\n",
              "      <th>upvotes</th>\n",
              "      <th>views</th>\n",
              "      <th>split</th>\n",
              "    </tr>\n",
              "  </thead>\n",
              "  <tbody>\n",
              "    <tr>\n",
              "      <th>1647</th>\n",
              "      <td>1647</td>\n",
              "      <td>752</td>\n",
              "      <td>Should I get back together with my ex-boyfrien...</td>\n",
              "      <td>My ex-boyfriend and I met over a year ago. We ...</td>\n",
              "      <td>https://counselchat.com/questions/should-i-get...</td>\n",
              "      <td>relationships</td>\n",
              "      <td>Nat RomanMarriage &amp; Family Therapist, MSc RP</td>\n",
              "      <td>https://counselchat.com/therapists/nat-roman-t...</td>\n",
              "      <td>Trust is essential in romantic relationships a...</td>\n",
              "      <td>2</td>\n",
              "      <td>282</td>\n",
              "      <td>train</td>\n",
              "    </tr>\n",
              "    <tr>\n",
              "      <th>1386</th>\n",
              "      <td>1386</td>\n",
              "      <td>604</td>\n",
              "      <td>What's wrong with me for going to summer school?</td>\n",
              "      <td>It's the way my mom said I was worth nothing, ...</td>\n",
              "      <td>https://counselchat.com/questions/what-s-wrong...</td>\n",
              "      <td>family-conflict</td>\n",
              "      <td>Sherry Katz, LCSWCouples and Family Therapist,...</td>\n",
              "      <td>https://counselchat.com/therapists/sherry-katz...</td>\n",
              "      <td>Your mom is telling you cruel words.The fact t...</td>\n",
              "      <td>0</td>\n",
              "      <td>93</td>\n",
              "      <td>val</td>\n",
              "    </tr>\n",
              "  </tbody>\n",
              "</table>\n",
              "</div>"
            ],
            "text/plain": [
              "      Unnamed: 0  questionID  ... views  split\n",
              "1647        1647         752  ...   282  train\n",
              "1386        1386         604  ...    93    val\n",
              "\n",
              "[2 rows x 12 columns]"
            ]
          },
          "metadata": {},
          "execution_count": 289
        }
      ]
    },
    {
      "cell_type": "markdown",
      "metadata": {
        "id": "mvC01hhSLhu0"
      },
      "source": [
        "# TF_IDF"
      ]
    },
    {
      "cell_type": "code",
      "metadata": {
        "id": "1ZmX8YNOiV2j"
      },
      "source": [
        "# Feature Engineering, the process to create features by extracting information from the data. I am going to use the Tf-Idf vectorizer with a limit of 10,000 words \n",
        "\n",
        "## Count (classic BoW)\n",
        "vectorizer = feature_extraction.text.CountVectorizer(max_features=10000, ngram_range=(1,2))\n",
        "\n",
        "## Tf-Idf (advanced variant of BoW)\n",
        "vectorizer = feature_extraction.text.TfidfVectorizer(max_features=10000, ngram_range=(1,2))"
      ],
      "execution_count": null,
      "outputs": []
    },
    {
      "cell_type": "code",
      "metadata": {
        "colab": {
          "base_uri": "https://localhost:8080/"
        },
        "id": "JC8ykW2aisl2",
        "outputId": "9cd32b29-6b2e-483d-9384-b6c4343d925a"
      },
      "source": [
        "#Now I will use the vectorizer on the preprocessed corpus of the train set to extract a vocabulary and create the feature matrix.\n",
        "corpus = dtf_train[\"questionTitle\"]\n",
        "vectorizer.fit(corpus)\n",
        "X_train = vectorizer.transform(corpus)                                                                                                                                                                                                                                                                                                                                                                                                                                                                                                                                                                                                                                                                              \n",
        "dic_vocabulary = vectorizer.vocabulary_\n",
        "X_train.shape"
      ],
      "execution_count": null,
      "outputs": [
        {
          "output_type": "execute_result",
          "data": {
            "text/plain": [
              "(402, 3078)"
            ]
          },
          "metadata": {},
          "execution_count": 353
        }
      ]
    },
    {
      "cell_type": "code",
      "metadata": {
        "colab": {
          "base_uri": "https://localhost:8080/"
        },
        "id": "FrXaivq1LsYM",
        "outputId": "526f5866-2837-411f-ba35-4a59fd4e2c65"
      },
      "source": [
        "X_train"
      ],
      "execution_count": null,
      "outputs": [
        {
          "output_type": "execute_result",
          "data": {
            "text/plain": [
              "<402x3078 sparse matrix of type '<class 'numpy.float64'>'\n",
              "\twith 7050 stored elements in Compressed Sparse Row format>"
            ]
          },
          "metadata": {},
          "execution_count": 322
        }
      ]
    },
    {
      "cell_type": "markdown",
      "metadata": {
        "id": "r2IdgCbIM__a"
      },
      "source": [
        "# Feature Selection"
      ]
    },
    {
      "cell_type": "code",
      "metadata": {
        "id": "hIL_ea-gjO6-"
      },
      "source": [
        "# feature selection '\n",
        "import numpy as np \n",
        "import sklearn.feature_selection \n",
        "\n",
        "y = dtf_train[\"topic\"]\n",
        "X_names = vectorizer.get_feature_names()\n",
        "p_value_limit = 0\n",
        "dtf_features = pd.DataFrame()\n",
        "for cat in np.unique(y):\n",
        "    chi2, p = sklearn.feature_selection.chi2(X_train, y==cat)\n",
        "    dtf_features = dtf_features.append(pd.DataFrame(\n",
        "                   {\"feature\":X_names, \"score\":1-p, \"y\":cat}))\n",
        "    dtf_features = dtf_features.sort_values([\"y\",\"score\"], \n",
        "                    ascending=[True,False])\n",
        "    dtf_features = dtf_features[dtf_features[\"score\"]>p_value_limit]\n",
        "X_names = dtf_features[\"feature\"].unique().tolist()"
      ],
      "execution_count": null,
      "outputs": []
    },
    {
      "cell_type": "markdown",
      "metadata": {
        "id": "zmg0BzO4NJxn"
      },
      "source": [
        "# Top Features"
      ]
    },
    {
      "cell_type": "code",
      "metadata": {
        "colab": {
          "base_uri": "https://localhost:8080/"
        },
        "id": "Ov6cb-utlz9x",
        "outputId": "e5992039-ca22-4b4a-fc7f-26014b21593d"
      },
      "source": [
        "# checking reducing number of features\n",
        "\n",
        "y = dtf_train[\"topic\"]\n",
        "\n",
        "import numpy as np \n",
        "for cat in np.unique(y):\n",
        "   print(\"# {}:\".format(cat))\n",
        "   print(\"  . selected features:\",\n",
        "         len(dtf_features[dtf_features[\"y\"]==cat]))\n",
        "   print(\"  . top features:\", \",\".join(\n",
        "dtf_features[dtf_features[\"y\"]==cat][\"feature\"].values[:10]))\n",
        "   print(\" \")"
      ],
      "execution_count": null,
      "outputs": [
        {
          "output_type": "stream",
          "name": "stdout",
          "text": [
            "# anxiety:\n",
            "  . selected features: 3078\n",
            "  . top features: social,social anxiety,anxiety,fear,anxious,paranoia,have social,situations,social situations,stop worrying\n",
            " \n",
            "# depression:\n",
            "  . selected features: 3078\n",
            "  . top features: depression,depressed,my depression,have depression,depression and,feeling,stop feeling,feeling empty,and anxiety,empty\n",
            " \n",
            "# family-conflict:\n",
            "  . selected features: 3078\n",
            "  . top features: my mom,mom,bisexual,own,family,cousin,my brother,an affair,had an,the family\n",
            " \n",
            "# intimacy:\n",
            "  . selected features: 3078\n",
            "  . top features: sex,my wife,my husband,husband,wife,with me,marriage,of sex,open up,up to\n",
            " \n",
            "# parenting:\n",
            "  . selected features: 3078\n",
            "  . top features: daughter,my daughter,son,their,child,children,step,my son,should leave,leave my\n",
            " \n",
            "# relationships:\n",
            "  . selected features: 3078\n",
            "  . top features: he,boyfriend,relationship,himself,crush,in relationship,do start,my boyfriend,abuse,new husband\n",
            " \n",
            "# self-esteem:\n",
            "  . selected features: 3078\n",
            "  . top features: forgive,can forgive,forgive myself,like not,failed myself,like failed,come feel,feel ugly,ugly,do save\n",
            " \n"
          ]
        }
      ]
    },
    {
      "cell_type": "markdown",
      "metadata": {
        "id": "8lQFG-WtNUPc"
      },
      "source": [
        "# only if feature selection is done"
      ]
    },
    {
      "cell_type": "code",
      "metadata": {
        "id": "Vgg5BHmXmMjY"
      },
      "source": [
        "#  giving this new set of words as input.\n",
        "vectorizer = feature_extraction.text.TfidfVectorizer(vocabulary=X_names)\n",
        "vectorizer.fit(corpus)\n",
        "X_train = vectorizer.transform(corpus)\n",
        "dic_vocabulary = vectorizer.vocabulary_"
      ],
      "execution_count": null,
      "outputs": []
    },
    {
      "cell_type": "markdown",
      "metadata": {
        "id": "tUlBGFammend"
      },
      "source": [
        "# training the classifier "
      ]
    },
    {
      "cell_type": "code",
      "metadata": {
        "id": "GRP7_1vZmc4S"
      },
      "source": [
        "classifier = naive_bayes.MultinomialNB()\n",
        "\n",
        "## pipeline\n",
        "model = pipeline.Pipeline([(\"vectorizer\", vectorizer),  \n",
        "                           (\"classifier\", classifier)])\n",
        "## train classifier\n",
        "model[\"classifier\"].fit(X_train, y_train)\n",
        "## test\n",
        "X_test = dtf_test[\"questionTitle\"].values\n",
        "predicted = model.predict(X_test)\n",
        "predicted_prob = model.predict_proba(X_test)"
      ],
      "execution_count": null,
      "outputs": []
    },
    {
      "cell_type": "markdown",
      "metadata": {
        "id": "sCN9tN8xnXuV"
      },
      "source": [
        "# evaluating Naive Bayes"
      ]
    },
    {
      "cell_type": "code",
      "metadata": {
        "colab": {
          "base_uri": "https://localhost:8080/"
        },
        "id": "5HVMBo89ndFh",
        "outputId": "cafc1285-2788-4885-8b0b-b8cf98a9d73a"
      },
      "source": [
        "from sklearn import metrics as metrics\n",
        "classes = np.unique(y_test)\n",
        "y_test_array = pd.get_dummies(y_test, drop_first=False).values\n",
        "    \n",
        "## Accuracy, Precision, Recall\n",
        "accuracy = metrics.accuracy_score(y_test, predicted)\n",
        "auc = metrics.roc_auc_score(y_test, predicted_prob, \n",
        "                            multi_class=\"ovr\")\n",
        "print(\"Accuracy:\",  round(accuracy,2))\n",
        "print(\"Auc:\", round(auc,2))\n",
        "print(\"Detail:\")\n",
        "print(metrics.classification_report(y_test, predicted))    "
      ],
      "execution_count": null,
      "outputs": [
        {
          "output_type": "stream",
          "name": "stdout",
          "text": [
            "Accuracy: 0.35\n",
            "Auc: 0.77\n",
            "Detail:\n",
            "                 precision    recall  f1-score   support\n",
            "\n",
            "        anxiety       0.56      0.21      0.30        24\n",
            "     depression       0.34      0.88      0.49        41\n",
            "family-conflict       0.00      0.00      0.00        18\n",
            "       intimacy       0.41      0.33      0.37        33\n",
            "      parenting       0.00      0.00      0.00        20\n",
            "  relationships       0.29      0.35      0.32        26\n",
            "    self-esteem       0.00      0.00      0.00        11\n",
            "\n",
            "       accuracy                           0.35       173\n",
            "      macro avg       0.23      0.25      0.21       173\n",
            "   weighted avg       0.28      0.35      0.28       173\n",
            "\n"
          ]
        },
        {
          "output_type": "stream",
          "name": "stderr",
          "text": [
            "/usr/local/lib/python3.7/dist-packages/sklearn/metrics/_classification.py:1272: UndefinedMetricWarning: Precision and F-score are ill-defined and being set to 0.0 in labels with no predicted samples. Use `zero_division` parameter to control this behavior.\n",
            "  _warn_prf(average, modifier, msg_start, len(result))\n"
          ]
        }
      ]
    },
    {
      "cell_type": "code",
      "metadata": {
        "colab": {
          "base_uri": "https://localhost:8080/",
          "height": 342
        },
        "id": "4Nnw_wMexYXe",
        "outputId": "01e6e44e-6a09-4057-b77d-1df969588bfa"
      },
      "source": [
        "import seaborn as sns\n",
        "## Plot confusion matrix\n",
        "cm = metrics.confusion_matrix(y_test, predicted)\n",
        "fig, ax = plt.subplots()\n",
        "sns.heatmap(cm, annot=True, fmt='d', ax=ax, cmap=plt.cm.Blues, \n",
        "            cbar=False)\n",
        "ax.set(xlabel=\"Pred\", ylabel=\"True\", xticklabels=classes, \n",
        "       yticklabels=classes, title=\"Confusion matrix\")\n",
        "plt.yticks(rotation=0)\n",
        "plt.xticks(rotation=45)\n",
        "plt.savefig(\"confusion matrix_Bayes+tf_idf.png\", dpi=100, bbox_inches='tight')\n"
      ],
      "execution_count": null,
      "outputs": [
        {
          "output_type": "display_data",
          "data": {
            "image/png": "[encoded data removed]",
            "text/plain": [
              "<Figure size 432x288 with 1 Axes>"
            ]
          },
          "metadata": {
            "needs_background": "light"
          }
        }
      ]
    },
    {
      "cell_type": "code",
      "metadata": {
        "colab": {
          "base_uri": "https://localhost:8080/",
          "height": 294
        },
        "id": "DuhO7QzWxckh",
        "outputId": "4a927acc-aa7a-4b7d-8c88-d7a7c8cb5e69"
      },
      "source": [
        "## Plot roc\n",
        "fig, ax = plt.subplots(nrows=1, ncols=2)\n",
        "\n",
        "for i in range(len(classes)):\n",
        "    fpr, tpr, thresholds = metrics.roc_curve(y_test_array[:,i],  \n",
        "                           predicted_prob[:,i])\n",
        "    ax[0].plot(fpr, tpr, lw=3, \n",
        "              label='{0} (area={1:0.2f})'.format(classes[i], \n",
        "                              metrics.auc(fpr, tpr))\n",
        "               )\n",
        "ax[0].plot([0,1], [0,1], color='navy', lw=3, linestyle='--')\n",
        "ax[0].set(xlim=[-0.05,1.0], ylim=[0.0,1.05], \n",
        "          xlabel='False Positive Rate', \n",
        "          ylabel=\"True Positive Rate (Recall)\", \n",
        "          title=\"Receiver operating characteristic\")\n",
        "ax[0].legend(loc=\"lower right\")\n",
        "ax[0].grid(True)\n",
        "    \n",
        "## Plot precision-recall curve\n",
        "for i in range(len(classes)):\n",
        "    precision, recall, thresholds = metrics.precision_recall_curve(\n",
        "                 y_test_array[:,i], predicted_prob[:,i])\n",
        "    ax[1].plot(recall, precision, lw=3, \n",
        "               label='{0} (area={1:0.2f})'.format(classes[i], \n",
        "                                  metrics.auc(recall, precision))\n",
        "              )\n",
        "ax[1].set(xlim=[0.0,1.05], ylim=[0.0,1.05], xlabel='Recall', \n",
        "          ylabel=\"Precision\", title=\"Precision-Recall curve\")\n",
        "ax[1].legend(loc=\"best\")\n",
        "ax[1].grid(True)\n",
        "plt.show()"
      ],
      "execution_count": null,
      "outputs": [
        {
          "data": {
            "image/png": "[encoded data removed]",
            "text/plain": [
              "<Figure size 432x288 with 2 Axes>"
            ]
          },
          "metadata": {},
          "output_type": "display_data"
        }
      ]
    },
    {
      "cell_type": "markdown",
      "metadata": {
        "id": "HOJkPR-hVYdM"
      },
      "source": [
        "# Cross Validation"
      ]
    },
    {
      "cell_type": "markdown",
      "metadata": {
        "id": "tXACHbB8hJCI"
      },
      "source": [
        "y_train , y_test"
      ]
    },
    {
      "cell_type": "code",
      "metadata": {
        "colab": {
          "base_uri": "https://localhost:8080/"
        },
        "id": "sXLSCnbNOn4Y",
        "outputId": "8fd06429-1b4d-48a1-a30b-8541224b8f53"
      },
      "source": [
        "len(dtf_train['questionTitle'])"
      ],
      "execution_count": null,
      "outputs": [
        {
          "output_type": "execute_result",
          "data": {
            "text/plain": [
              "402"
            ]
          },
          "metadata": {},
          "execution_count": 338
        }
      ]
    },
    {
      "cell_type": "code",
      "metadata": {
        "colab": {
          "base_uri": "https://localhost:8080/"
        },
        "id": "HocMYb20O_4f",
        "outputId": "28ab5660-3678-4dee-dd7d-9b1c4cf85e3d"
      },
      "source": [
        "len(dtf_test['questionTitle'])"
      ],
      "execution_count": null,
      "outputs": [
        {
          "output_type": "execute_result",
          "data": {
            "text/plain": [
              "173"
            ]
          },
          "metadata": {},
          "execution_count": 340
        }
      ]
    },
    {
      "cell_type": "code",
      "metadata": {
        "id": "w5mZX1hFsRl5",
        "colab": {
          "base_uri": "https://localhost:8080/"
        },
        "outputId": "29933170-6fc5-4bc9-cbe6-ef9ce2072fb7"
      },
      "source": [
        "# cross validation for bayes\n",
        "\n",
        "# cross vlidation evaluating random forest\n",
        "from numpy import mean , std\n",
        "from sklearn.model_selection import cross_val_score\n",
        "from sklearn.model_selection import KFold\n",
        "# prepare the cross-validation procedure\n",
        "cv = KFold(n_splits=10, random_state=1, shuffle=True)\n",
        "# create model\n",
        "model = naive_bayes.MultinomialNB()\n",
        "# evaluate model\n",
        "scores = cross_val_score(model, X_train,y_train, scoring='accuracy', cv=cv, n_jobs=-1)\n",
        "# report performance\n",
        "print('Accuracy: %.3f (%.3f)' % (mean(scores), std(scores)))\n"
      ],
      "execution_count": null,
      "outputs": [
        {
          "output_type": "stream",
          "name": "stdout",
          "text": [
            "Accuracy: 0.458 (0.051)\n"
          ]
        }
      ]
    },
    {
      "cell_type": "markdown",
      "metadata": {
        "id": "PPsAoXB1pXdq"
      },
      "source": [
        "# TF_IDF + Text preprocessing"
      ]
    },
    {
      "cell_type": "code",
      "metadata": {
        "id": "P6bxiEhYqqGe"
      },
      "source": [
        "# function to preprocess\n",
        "'''\n",
        "Preprocess a string.\n",
        ":parameter\n",
        "    :param text: string - name of column containing text\n",
        "    :param lst_stopwords: list - list of stopwords to remove\n",
        "    :param flg_stemm: bool - whether stemming is to be applied\n",
        "    :param flg_lemm: bool - whether lemmitisation is to be applied\n",
        ":return\n",
        "    cleaned text\n",
        "'''\n",
        "def utils_preprocess_text(text, flg_stemm=False, flg_lemm=True, lst_stopwords=None):\n",
        "    ## clean (convert to lowercase and remove punctuations and   \n",
        "    #characters and then strip)\n",
        "    text = re.sub(r'[^\\w\\s]', '', str(text).lower().strip())\n",
        "            \n",
        "    ## Tokenize (convert from string to list)\n",
        "    lst_text = text.split()\n",
        "    ## remove Stopwords\n",
        "    if lst_stopwords is not None:\n",
        "        lst_text = [word for word in lst_text if word not in \n",
        "                    lst_stopwords]\n",
        "                \n",
        "    ## Stemming (remove -ing, -ly, ...)\n",
        "    if flg_stemm == True:\n",
        "        ps = nltk.stem.porter.PorterStemmer()\n",
        "        lst_text = [ps.stem(word) for word in lst_text]\n",
        "                \n",
        "    ## Lemmatisation (convert the word into root word)\n",
        "    if flg_lemm == True:\n",
        "        lem = nltk.stem.wordnet.WordNetLemmatizer()\n",
        "        lst_text = [lem.lemmatize(word) for word in lst_text]\n",
        "            \n",
        "    ## back to string from list\n",
        "    text = \" \".join(lst_text)\n",
        "    return text"
      ],
      "execution_count": null,
      "outputs": []
    },
    {
      "cell_type": "code",
      "metadata": {
        "colab": {
          "base_uri": "https://localhost:8080/"
        },
        "id": "1bjIcYEbu4V4",
        "outputId": "8fd69cd5-03e1-4789-b60c-5273bc6d647f"
      },
      "source": [
        "import nltk\n",
        "nltk.download('wordnet')"
      ],
      "execution_count": null,
      "outputs": [
        {
          "output_type": "stream",
          "name": "stdout",
          "text": [
            "[nltk_data] Downloading package wordnet to /root/nltk_data...\n",
            "[nltk_data]   Package wordnet is already up-to-date!\n"
          ]
        },
        {
          "output_type": "execute_result",
          "data": {
            "text/plain": [
              "True"
            ]
          },
          "metadata": {},
          "execution_count": 465
        }
      ]
    },
    {
      "cell_type": "code",
      "metadata": {
        "colab": {
          "base_uri": "https://localhost:8080/"
        },
        "id": "-3sZgLX8qYFb",
        "outputId": "eb4e7ddc-27ec-4390-d335-50795f247426"
      },
      "source": [
        "# preprocess text\n",
        "import re \n",
        "import nltk\n",
        "from nltk.corpus import stopwords\n",
        "nltk.download('stopwords')\n",
        "lst_stopwords=stopwords.words()\n",
        "filtered_df[\"questionTitle\"] = filtered_df[\"questionTitle\"].apply(lambda x: \n",
        "          utils_preprocess_text(x, flg_stemm=False, flg_lemm=False, \n",
        "          lst_stopwords=lst_stopwords))"
      ],
      "execution_count": null,
      "outputs": [
        {
          "output_type": "stream",
          "name": "stdout",
          "text": [
            "[nltk_data] Downloading package stopwords to /root/nltk_data...\n",
            "[nltk_data]   Package stopwords is already up-to-date!\n"
          ]
        }
      ]
    },
    {
      "cell_type": "code",
      "metadata": {
        "colab": {
          "base_uri": "https://localhost:8080/"
        },
        "id": "98Opi_tTp3Mw",
        "outputId": "bccfe9c0-ca0d-4f2a-8a1c-f139308c0528"
      },
      "source": [
        "# resplit\n",
        "from sklearn import feature_extraction, model_selection, naive_bayes, pipeline, manifold, preprocessing\n",
        "\n",
        "dtf_train, dtf_test = model_selection.train_test_split(filtered_df, test_size=0.3,random_state=1)\n",
        "## get target\n",
        "y_train = dtf_train[\"topic\"].values\n",
        "y_test = dtf_test[\"topic\"].values\n",
        "len(y_train )\n",
        "\n",
        "print (pd.DataFrame(y_train).value_counts())"
      ],
      "execution_count": null,
      "outputs": [
        {
          "output_type": "stream",
          "name": "stdout",
          "text": [
            "depression         91\n",
            "relationships      75\n",
            "intimacy           67\n",
            "anxiety            64\n",
            "family-conflict    40\n",
            "parenting          34\n",
            "self-esteem        31\n",
            "dtype: int64\n"
          ]
        }
      ]
    },
    {
      "cell_type": "code",
      "metadata": {
        "id": "Ah2HqNYup4sD"
      },
      "source": [
        "# feature Engineering \n",
        "# Feature Engineering, the process to create features by extracting information from the data. I am going to use the Tf-Idf vectorizer with a limit of 10,000 words \n",
        "\n",
        "## Count (classic BoW)\n",
        "vectorizer = feature_extraction.text.CountVectorizer(max_features=10000, ngram_range=(1,2))\n",
        "\n",
        "## Tf-Idf (advanced variant of BoW)\n",
        "vectorizer = feature_extraction.text.TfidfVectorizer(max_features=10000, ngram_range=(1,2))"
      ],
      "execution_count": null,
      "outputs": []
    },
    {
      "cell_type": "code",
      "metadata": {
        "colab": {
          "base_uri": "https://localhost:8080/"
        },
        "id": "9xVd-7K2sNuz",
        "outputId": "fb8bcc03-13e2-4d06-e0c8-8c4ba7c961b1"
      },
      "source": [
        "# extract a voculabry and create feature matrix\n",
        "#Now I will use the vectorizer on the preprocessed corpus of the train set to extract a vocabulary and create the feature matrix.\n",
        "corpus = dtf_train[\"questionTitle\"]\n",
        "vectorizer.fit(corpus)\n",
        "X_train = vectorizer.transform(corpus)                                                                                                                                                                                                                                                                                                                                                                                                                                                                                                                                                                                                                                                                              \n",
        "dic_vocabulary = vectorizer.vocabulary_\n",
        "X_train.shape"
      ],
      "execution_count": null,
      "outputs": [
        {
          "output_type": "execute_result",
          "data": {
            "text/plain": [
              "(402, 1966)"
            ]
          },
          "metadata": {},
          "execution_count": 469
        }
      ]
    },
    {
      "cell_type": "code",
      "metadata": {
        "colab": {
          "base_uri": "https://localhost:8080/"
        },
        "id": "ykfkBRhyskvQ",
        "outputId": "bb505315-9bd9-48c6-83ec-f9299a117ee7"
      },
      "source": [
        "# top features\n",
        "\n",
        "\n",
        "# feature selection '\n",
        "import numpy as np \n",
        "import sklearn.feature_selection \n",
        "\n",
        "y = dtf_train[\"topic\"]\n",
        "X_names = vectorizer.get_feature_names()\n",
        "p_value_limit = 0/95\n",
        "dtf_features = pd.DataFrame()\n",
        "for cat in np.unique(y):\n",
        "    chi2, p = sklearn.feature_selection.chi2(X_train, y==cat)\n",
        "    dtf_features = dtf_features.append(pd.DataFrame(\n",
        "                   {\"feature\":X_names, \"score\":1-p, \"y\":cat}))\n",
        "    dtf_features = dtf_features.sort_values([\"y\",\"score\"], \n",
        "                    ascending=[True,False])\n",
        "    dtf_features = dtf_features[dtf_features[\"score\"]>p_value_limit]\n",
        "X_names = dtf_features[\"feature\"].unique().tolist()\n",
        "\n",
        "# checking reducing number of features\n",
        "\n",
        "y = dtf_train[\"topic\"]\n",
        "\n",
        "import numpy as np \n",
        "for cat in np.unique(y):\n",
        "   print(\"# {}:\".format(cat))\n",
        "   print(\"  . selected features:\",\n",
        "         len(dtf_features[dtf_features[\"y\"]==cat]))\n",
        "   print(\"  . top features:\", \",\".join(\n",
        "dtf_features[dtf_features[\"y\"]==cat][\"feature\"].values[:10]))\n",
        "   print(\" \")"
      ],
      "execution_count": null,
      "outputs": [
        {
          "output_type": "stream",
          "name": "stdout",
          "text": [
            "# anxiety:\n",
            "  . selected features: 103\n",
            "  . top features: anxiety,fear,anxious,social,paranoia,situations,worrying,attacks,depression,husband\n",
            " \n",
            "# depression:\n",
            "  . selected features: 103\n",
            "  . top features: depression,depressed,feeling,empty,happy,anxiety,relationship,sex,social,guy\n",
            " \n",
            "# family-conflict:\n",
            "  . selected features: 103\n",
            "  . top features: mom,cousin,mother,family,almost,bisexual,stress,decisions,gay,stepdad\n",
            " \n",
            "# intimacy:\n",
            "  . selected features: 103\n",
            "  . top features: husband,sex,wife,lied,depression,anxiety,relationship,depressed,child,daughter\n",
            " \n",
            "# parenting:\n",
            "  . selected features: 103\n",
            "  . top features: daughter,child,kids,children,isnt,dislike,disability,wedge,kill,along\n",
            " \n",
            "# relationships:\n",
            "  . selected features: 103\n",
            "  . top features: relationship,hes,guy,crush,anxiety,depression,mother,depressed,child,family\n",
            " \n",
            "# self-esteem:\n",
            "  . selected features: 103\n",
            "  . top features: forgive,ugly,starting,save,confident,desperate,enough,abandonment,cry,look\n",
            " \n"
          ]
        }
      ]
    },
    {
      "cell_type": "code",
      "metadata": {
        "colab": {
          "base_uri": "https://localhost:8080/"
        },
        "id": "9RTnbkMYtENE",
        "outputId": "da28b418-3805-4a03-9f7d-8903e4fc442b"
      },
      "source": [
        "#  giving this new set of words as input.\n",
        "vectorizer = feature_extraction.text.TfidfVectorizer(vocabulary=X_names)\n",
        "vectorizer.fit(corpus)\n",
        "X_train = vectorizer.transform(corpus)\n",
        "dic_vocabulary = vectorizer.vocabulary_\n",
        "\n",
        "# train\n",
        "\n",
        "# evaluate\n",
        "classifier = naive_bayes.MultinomialNB()\n",
        "\n",
        "## pipeline\n",
        "model = pipeline.Pipeline([(\"vectorizer\", vectorizer),  \n",
        "                           (\"classifier\", classifier)])\n",
        "## train classifier\n",
        "model[\"classifier\"].fit(X_train, y_train)\n",
        "## test\n",
        "X_test = dtf_test[\"questionTitle\"].values\n",
        "predicted = model.predict(X_test)\n",
        "predicted_prob = model.predict_proba(X_test)\n",
        "\n",
        "from sklearn import metrics as metrics\n",
        "classes = np.unique(y_test)\n",
        "y_test_array = pd.get_dummies(y_test, drop_first=False).values\n",
        "    \n",
        "## Accuracy, Precision, Recall\n",
        "accuracy = metrics.accuracy_score(y_test, predicted)\n",
        "auc = metrics.roc_auc_score(y_test, predicted_prob, \n",
        "                            multi_class=\"ovr\")\n",
        "print(\"Accuracy:\",  round(accuracy,2))\n",
        "print(\"Auc:\", round(auc,2))\n",
        "print(\"Detail:\")\n",
        "print(metrics.classification_report(y_test, predicted))    "
      ],
      "execution_count": null,
      "outputs": [
        {
          "output_type": "stream",
          "name": "stdout",
          "text": [
            "Accuracy: 0.4\n",
            "Auc: 0.75\n",
            "Detail:\n",
            "                 precision    recall  f1-score   support\n",
            "\n",
            "        anxiety       0.71      0.42      0.53        24\n",
            "     depression       0.33      0.83      0.47        41\n",
            "family-conflict       0.67      0.33      0.44        18\n",
            "       intimacy       0.33      0.15      0.21        33\n",
            "      parenting       1.00      0.35      0.52        20\n",
            "  relationships       0.33      0.31      0.32        26\n",
            "    self-esteem       0.00      0.00      0.00        11\n",
            "\n",
            "       accuracy                           0.40       173\n",
            "      macro avg       0.48      0.34      0.36       173\n",
            "   weighted avg       0.48      0.40      0.38       173\n",
            "\n"
          ]
        },
        {
          "output_type": "stream",
          "name": "stderr",
          "text": [
            "/usr/local/lib/python3.7/dist-packages/sklearn/metrics/_classification.py:1272: UndefinedMetricWarning: Precision and F-score are ill-defined and being set to 0.0 in labels with no predicted samples. Use `zero_division` parameter to control this behavior.\n",
            "  _warn_prf(average, modifier, msg_start, len(result))\n"
          ]
        }
      ]
    },
    {
      "cell_type": "code",
      "metadata": {
        "colab": {
          "base_uri": "https://localhost:8080/",
          "height": 342
        },
        "id": "E6_4_tk40Wj3",
        "outputId": "131c1f19-ecd7-492c-ce36-c75fce446afa"
      },
      "source": [
        "import seaborn as sns\n",
        "## Plot confusion matrix\n",
        "cm = metrics.confusion_matrix(y_test, predicted)\n",
        "fig, ax = plt.subplots()\n",
        "sns.heatmap(cm, annot=True, fmt='d', ax=ax, cmap=plt.cm.Blues, \n",
        "            cbar=False)\n",
        "ax.set(xlabel=\"Pred\", ylabel=\"True\", xticklabels=classes, \n",
        "       yticklabels=classes, title=\"Confusion matrix\")\n",
        "plt.yticks(rotation=0)\n",
        "plt.xticks(rotation=45)\n",
        "plt.savefig(\"confusion matrix_Bayes+tf_idf.png\", dpi=100, bbox_inches='tight')"
      ],
      "execution_count": null,
      "outputs": [
        {
          "output_type": "display_data",
          "data": {
            "image/png": "[encoded data removed]",
            "text/plain": [
              "<Figure size 432x288 with 1 Axes>"
            ]
          },
          "metadata": {
            "needs_background": "light"
          }
        }
      ]
    },
    {
      "cell_type": "markdown",
      "metadata": {
        "id": "HlKbU0tAuepv"
      },
      "source": [
        "# loading BERT pretrained model"
      ]
    },
    {
      "cell_type": "code",
      "metadata": {
        "colab": {
          "base_uri": "https://localhost:8080/"
        },
        "id": "aaGSzqSuvYtT",
        "outputId": "de349441-1114-4a42-9d91-367b1aa82309"
      },
      "source": [
        "#installing the huggingface transformers library so we can load our deep learning NLP model.\n",
        "!pip install transformers"
      ],
      "execution_count": null,
      "outputs": [
        {
          "output_type": "stream",
          "name": "stdout",
          "text": [
            "Collecting transformers\n",
            "  Downloading transformers-4.11.3-py3-none-any.whl (2.9 MB)\n",
            "\u001b[K     |████████████████████████████████| 2.9 MB 5.2 MB/s \n",
            "\u001b[?25hCollecting tokenizers<0.11,>=0.10.1\n",
            "  Downloading tokenizers-0.10.3-cp37-cp37m-manylinux_2_5_x86_64.manylinux1_x86_64.manylinux_2_12_x86_64.manylinux2010_x86_64.whl (3.3 MB)\n",
            "\u001b[K     |████████████████████████████████| 3.3 MB 41.9 MB/s \n",
            "\u001b[?25hCollecting huggingface-hub>=0.0.17\n",
            "  Downloading huggingface_hub-0.0.19-py3-none-any.whl (56 kB)\n",
            "\u001b[K     |████████████████████████████████| 56 kB 4.7 MB/s \n",
            "\u001b[?25hRequirement already satisfied: requests in /usr/local/lib/python3.7/dist-packages (from transformers) (2.23.0)\n",
            "Requirement already satisfied: tqdm>=4.27 in /usr/local/lib/python3.7/dist-packages (from transformers) (4.62.3)\n",
            "Requirement already satisfied: regex!=2019.12.17 in /usr/local/lib/python3.7/dist-packages (from transformers) (2019.12.20)\n",
            "Requirement already satisfied: packaging>=20.0 in /usr/local/lib/python3.7/dist-packages (from transformers) (21.0)\n",
            "Requirement already satisfied: filelock in /usr/local/lib/python3.7/dist-packages (from transformers) (3.3.0)\n",
            "Requirement already satisfied: numpy>=1.17 in /usr/local/lib/python3.7/dist-packages (from transformers) (1.19.5)\n",
            "Collecting sacremoses\n",
            "  Downloading sacremoses-0.0.46-py3-none-any.whl (895 kB)\n",
            "\u001b[K     |████████████████████████████████| 895 kB 71.5 MB/s \n",
            "\u001b[?25hCollecting pyyaml>=5.1\n",
            "  Downloading PyYAML-5.4.1-cp37-cp37m-manylinux1_x86_64.whl (636 kB)\n",
            "\u001b[K     |████████████████████████████████| 636 kB 33.0 MB/s \n",
            "\u001b[?25hRequirement already satisfied: importlib-metadata in /usr/local/lib/python3.7/dist-packages (from transformers) (4.8.1)\n",
            "Requirement already satisfied: typing-extensions in /usr/local/lib/python3.7/dist-packages (from huggingface-hub>=0.0.17->transformers) (3.7.4.3)\n",
            "Requirement already satisfied: pyparsing>=2.0.2 in /usr/local/lib/python3.7/dist-packages (from packaging>=20.0->transformers) (2.4.7)\n",
            "Requirement already satisfied: zipp>=0.5 in /usr/local/lib/python3.7/dist-packages (from importlib-metadata->transformers) (3.6.0)\n",
            "Requirement already satisfied: urllib3!=1.25.0,!=1.25.1,<1.26,>=1.21.1 in /usr/local/lib/python3.7/dist-packages (from requests->transformers) (1.24.3)\n",
            "Requirement already satisfied: chardet<4,>=3.0.2 in /usr/local/lib/python3.7/dist-packages (from requests->transformers) (3.0.4)\n",
            "Requirement already satisfied: idna<3,>=2.5 in /usr/local/lib/python3.7/dist-packages (from requests->transformers) (2.10)\n",
            "Requirement already satisfied: certifi>=2017.4.17 in /usr/local/lib/python3.7/dist-packages (from requests->transformers) (2021.5.30)\n",
            "Requirement already satisfied: click in /usr/local/lib/python3.7/dist-packages (from sacremoses->transformers) (7.1.2)\n",
            "Requirement already satisfied: six in /usr/local/lib/python3.7/dist-packages (from sacremoses->transformers) (1.15.0)\n",
            "Requirement already satisfied: joblib in /usr/local/lib/python3.7/dist-packages (from sacremoses->transformers) (1.0.1)\n",
            "Installing collected packages: pyyaml, tokenizers, sacremoses, huggingface-hub, transformers\n",
            "  Attempting uninstall: pyyaml\n",
            "    Found existing installation: PyYAML 3.13\n",
            "    Uninstalling PyYAML-3.13:\n",
            "      Successfully uninstalled PyYAML-3.13\n",
            "Successfully installed huggingface-hub-0.0.19 pyyaml-5.4.1 sacremoses-0.0.46 tokenizers-0.10.3 transformers-4.11.3\n"
          ]
        }
      ]
    },
    {
      "cell_type": "code",
      "metadata": {
        "colab": {
          "base_uri": "https://localhost:8080/",
          "height": 252,
          "referenced_widgets": [
            "a00bbec7ab9543b6a5e1ebe80ba8cc6d",
            "f673c72837c5441e86a3b33d59f379f2",
            "9e05b9f6697841198a545452a344e015",
            "3746fe89f2f7448bb482f143c31fbb05",
            "d4e6e45d17824440a242bf44922d7896",
            "a9b13b3c8f0d438c881a99718ecb532e",
            "680b9e9f5e024f959559cc9895f83347",
            "edaaf6c2be82451691f1bdfe159e43a5",
            "23a808acecec4638a8bc1484a3343fed",
            "94670bd588ba4a2b93ea6f186d2ab6d4",
            "c04a918a8bd9498bbfb63c98fe70cf11",
            "9c8452b2fe184fbd87e6ed0d0965a6ac",
            "ed8edd08b4e64330a69486cfae09dd5b",
            "7160f39fcada496e8abe4d9328beb67f",
            "4de97b99a06346539ed1ffa0ed9c0eb3"
          ]
        },
        "id": "LD8bmsc-ukYf",
        "outputId": "82ab96d7-4362-4f55-95b7-1e8f8aeef6dc"
      },
      "source": [
        "import transformers as ppb\n",
        "\n",
        "# For DistilBERT:\n",
        "#model_class, tokenizer_class, pretrained_weights = (ppb.DistilBertModel, ppb.DistilBertTokenizer, 'distilbert-base-uncased')\n",
        "\n",
        "## Want BERT instead of distilBERT? Uncomment the following line:\n",
        "model_class, tokenizer_class, pretrained_weights = (ppb.BertModel, ppb.BertTokenizer, 'bert-base-uncased')\n",
        "\n",
        "# Load pretrained model/tokenizer\n",
        "tokenizer = tokenizer_class.from_pretrained(pretrained_weights)\n",
        "model = model_class.from_pretrained(pretrained_weights)"
      ],
      "execution_count": null,
      "outputs": [
        {
          "output_type": "display_data",
          "data": {
            "application/vnd.jupyter.widget-view+json": {
              "model_id": "a00bbec7ab9543b6a5e1ebe80ba8cc6d",
              "version_minor": 0,
              "version_major": 2
            },
            "text/plain": [
              "Downloading:   0%|          | 0.00/226k [00:00<?, ?B/s]"
            ]
          },
          "metadata": {}
        },
        {
          "output_type": "display_data",
          "data": {
            "application/vnd.jupyter.widget-view+json": {
              "model_id": "9c8452b2fe184fbd87e6ed0d0965a6ac",
              "version_minor": 0,
              "version_major": 2
            },
            "text/plain": [
              "Downloading:   0%|          | 0.00/28.0 [00:00<?, ?B/s]"
            ]
          },
          "metadata": {}
        },
        {
          "output_type": "display_data",
          "data": {
            "application/vnd.jupyter.widget-view+json": {
              "model_id": "ed8edd08b4e64330a69486cfae09dd5b",
              "version_minor": 0,
              "version_major": 2
            },
            "text/plain": [
              "Downloading:   0%|          | 0.00/455k [00:00<?, ?B/s]"
            ]
          },
          "metadata": {}
        },
        {
          "output_type": "display_data",
          "data": {
            "application/vnd.jupyter.widget-view+json": {
              "model_id": "7160f39fcada496e8abe4d9328beb67f",
              "version_minor": 0,
              "version_major": 2
            },
            "text/plain": [
              "Downloading:   0%|          | 0.00/570 [00:00<?, ?B/s]"
            ]
          },
          "metadata": {}
        },
        {
          "output_type": "display_data",
          "data": {
            "application/vnd.jupyter.widget-view+json": {
              "model_id": "4de97b99a06346539ed1ffa0ed9c0eb3",
              "version_minor": 0,
              "version_major": 2
            },
            "text/plain": [
              "Downloading:   0%|          | 0.00/420M [00:00<?, ?B/s]"
            ]
          },
          "metadata": {}
        },
        {
          "output_type": "stream",
          "name": "stderr",
          "text": [
            "Some weights of the model checkpoint at bert-base-uncased were not used when initializing BertModel: ['cls.seq_relationship.bias', 'cls.predictions.transform.dense.weight', 'cls.predictions.bias', 'cls.predictions.transform.LayerNorm.weight', 'cls.predictions.transform.dense.bias', 'cls.seq_relationship.weight', 'cls.predictions.transform.LayerNorm.bias', 'cls.predictions.decoder.weight']\n",
            "- This IS expected if you are initializing BertModel from the checkpoint of a model trained on another task or with another architecture (e.g. initializing a BertForSequenceClassification model from a BertForPreTraining model).\n",
            "- This IS NOT expected if you are initializing BertModel from the checkpoint of a model that you expect to be exactly identical (initializing a BertForSequenceClassification model from a BertForSequenceClassification model).\n"
          ]
        }
      ]
    },
    {
      "cell_type": "markdown",
      "metadata": {
        "id": "gAs8TCR0wdiM"
      },
      "source": [
        "# preparing the data "
      ]
    },
    {
      "cell_type": "code",
      "metadata": {
        "id": "9GGHUO-9hFWi"
      },
      "source": [
        "# extra shuffle \n",
        "\n",
        "filtered_df = filtered_df.sample(frac = 1)"
      ],
      "execution_count": null,
      "outputs": []
    },
    {
      "cell_type": "code",
      "metadata": {
        "colab": {
          "base_uri": "https://localhost:8080/"
        },
        "id": "qk9iElqM0dx_",
        "outputId": "b429e273-9537-4a2c-8a1e-27e64405a65a"
      },
      "source": [
        "# remove duplicates \n",
        "filtered_df2 = filtered_df.drop_duplicates(['questionLink'], keep='last')\n",
        "len(filtered_df2)"
      ],
      "execution_count": null,
      "outputs": [
        {
          "output_type": "execute_result",
          "data": {
            "text/plain": [
              "575"
            ]
          },
          "metadata": {},
          "execution_count": 15
        }
      ]
    },
    {
      "cell_type": "code",
      "metadata": {
        "id": "E3liDRnV_MZY"
      },
      "source": [
        "# encoding target label \n",
        "#filtered_df2['topic'] = filtered_df2['topic'].astype('category')\n",
        "#filtered_df2['topic_encoded'] = filtered_df2['topic'].cat.codes\n",
        "#filtered_df2\n",
        "replace_map = {'topic': {'depression': 1, 'relationships':2, 'intimacy': 3, 'anxiety': 4, 'family-conflict': 5,\n",
        "                                  'parenting': 6, 'self-esteem':7}}\n",
        "filtered_df2.replace(replace_map, inplace=True)"
      ],
      "execution_count": null,
      "outputs": []
    },
    {
      "cell_type": "code",
      "metadata": {
        "colab": {
          "base_uri": "https://localhost:8080/",
          "height": 1000
        },
        "id": "Q9PBfbkeAiJL",
        "outputId": "3b30a100-dac3-434c-b19d-1494a6609c10"
      },
      "source": [
        "filtered_df2"
      ],
      "execution_count": null,
      "outputs": [
        {
          "output_type": "execute_result",
          "data": {
            "text/html": [
              "<div>\n",
              "<style scoped>\n",
              "    .dataframe tbody tr th:only-of-type {\n",
              "        vertical-align: middle;\n",
              "    }\n",
              "\n",
              "    .dataframe tbody tr th {\n",
              "        vertical-align: top;\n",
              "    }\n",
              "\n",
              "    .dataframe thead th {\n",
              "        text-align: right;\n",
              "    }\n",
              "</style>\n",
              "<table border=\"1\" class=\"dataframe\">\n",
              "  <thead>\n",
              "    <tr style=\"text-align: right;\">\n",
              "      <th></th>\n",
              "      <th>Unnamed: 0</th>\n",
              "      <th>questionID</th>\n",
              "      <th>questionTitle</th>\n",
              "      <th>questionText</th>\n",
              "      <th>questionLink</th>\n",
              "      <th>topic</th>\n",
              "      <th>therapistInfo</th>\n",
              "      <th>therapistURL</th>\n",
              "      <th>answerText</th>\n",
              "      <th>upvotes</th>\n",
              "      <th>views</th>\n",
              "      <th>split</th>\n",
              "    </tr>\n",
              "  </thead>\n",
              "  <tbody>\n",
              "    <tr>\n",
              "      <th>1619</th>\n",
              "      <td>1619</td>\n",
              "      <td>727</td>\n",
              "      <td>My boyfriend says he needs time to think about us</td>\n",
              "      <td>I found out my boyfriend takes anti-depression...</td>\n",
              "      <td>https://counselchat.com/questions/my-boyfriend...</td>\n",
              "      <td>2</td>\n",
              "      <td>Mark Morris, LCSWTherapist and Author of Livin...</td>\n",
              "      <td>https://counselchat.com/therapists/mark-morris...</td>\n",
              "      <td>This seems like two questions.  The first is w...</td>\n",
              "      <td>0</td>\n",
              "      <td>268</td>\n",
              "      <td>train</td>\n",
              "    </tr>\n",
              "    <tr>\n",
              "      <th>251</th>\n",
              "      <td>251</td>\n",
              "      <td>70</td>\n",
              "      <td>How do I balance school and life?</td>\n",
              "      <td>I don't have time to live or take care of myse...</td>\n",
              "      <td>https://counselchat.com/questions/how-do-i-bal...</td>\n",
              "      <td>1</td>\n",
              "      <td>Lauren Ostrowski, MA, LPC, NCC, DCC, CCTPI tai...</td>\n",
              "      <td>https://counselchat.com/therapists/lauren-ostr...</td>\n",
              "      <td>I'm not sure whether you are referring to havi...</td>\n",
              "      <td>0</td>\n",
              "      <td>29</td>\n",
              "      <td>train</td>\n",
              "    </tr>\n",
              "    <tr>\n",
              "      <th>537</th>\n",
              "      <td>537</td>\n",
              "      <td>205</td>\n",
              "      <td>Why am I all of a sudden having issues communi...</td>\n",
              "      <td>I started seeing this guy that I met at a mutu...</td>\n",
              "      <td>https://counselchat.com/questions/why-am-i-all...</td>\n",
              "      <td>4</td>\n",
              "      <td>Sonya WilsonLicensed Professional Counselor</td>\n",
              "      <td>https://counselchat.com/therapists/sonya-wilson</td>\n",
              "      <td>Sounds like you are struggling with your own n...</td>\n",
              "      <td>0</td>\n",
              "      <td>58</td>\n",
              "      <td>val</td>\n",
              "    </tr>\n",
              "    <tr>\n",
              "      <th>682</th>\n",
              "      <td>682</td>\n",
              "      <td>255</td>\n",
              "      <td>What can I do about my dad?</td>\n",
              "      <td>My dad makes me feel like shit and like I'm wo...</td>\n",
              "      <td>https://counselchat.com/questions/what-can-i-d...</td>\n",
              "      <td>6</td>\n",
              "      <td>Kristi King-Morgan, LMSWSocial Worker, Psychot...</td>\n",
              "      <td>https://counselchat.com/therapists/kristi-king...</td>\n",
              "      <td>Are you old enough to move out? Then by all me...</td>\n",
              "      <td>0</td>\n",
              "      <td>63</td>\n",
              "      <td>train</td>\n",
              "    </tr>\n",
              "    <tr>\n",
              "      <th>1374</th>\n",
              "      <td>1374</td>\n",
              "      <td>598</td>\n",
              "      <td>How should I deal with my mom's controlling be...</td>\n",
              "      <td>I'm an adult, facing problems with my mom. She...</td>\n",
              "      <td>https://counselchat.com/questions/how-should-i...</td>\n",
              "      <td>5</td>\n",
              "      <td>Sherry Katz, LCSWCouples and Family Therapist,...</td>\n",
              "      <td>https://counselchat.com/therapists/sherry-katz...</td>\n",
              "      <td>The part of your life which is in your control...</td>\n",
              "      <td>0</td>\n",
              "      <td>16</td>\n",
              "      <td>train</td>\n",
              "    </tr>\n",
              "    <tr>\n",
              "      <th>...</th>\n",
              "      <td>...</td>\n",
              "      <td>...</td>\n",
              "      <td>...</td>\n",
              "      <td>...</td>\n",
              "      <td>...</td>\n",
              "      <td>...</td>\n",
              "      <td>...</td>\n",
              "      <td>...</td>\n",
              "      <td>...</td>\n",
              "      <td>...</td>\n",
              "      <td>...</td>\n",
              "      <td>...</td>\n",
              "    </tr>\n",
              "    <tr>\n",
              "      <th>1572</th>\n",
              "      <td>1572</td>\n",
              "      <td>702</td>\n",
              "      <td>I just feel so alone</td>\n",
              "      <td>I feel so alone. I have so many people around ...</td>\n",
              "      <td>https://counselchat.com/questions/i-just-feel-...</td>\n",
              "      <td>2</td>\n",
              "      <td>Sherry Katz, LCSWCouples and Family Therapist,...</td>\n",
              "      <td>https://counselchat.com/therapists/sherry-katz...</td>\n",
              "      <td>You ask a very deep and sensitive question whi...</td>\n",
              "      <td>0</td>\n",
              "      <td>44</td>\n",
              "      <td>train</td>\n",
              "    </tr>\n",
              "    <tr>\n",
              "      <th>262</th>\n",
              "      <td>262</td>\n",
              "      <td>81</td>\n",
              "      <td>Is my depression sabotaging my job search?</td>\n",
              "      <td>I keep feeling paralyzed and unsure during int...</td>\n",
              "      <td>https://counselchat.com/questions/is-my-depres...</td>\n",
              "      <td>1</td>\n",
              "      <td>Ben BraaksmaMental Health Counselor</td>\n",
              "      <td>https://counselchat.com/therapists/ben-braaksma</td>\n",
              "      <td>It sounds like you are feeling pretty overwhel...</td>\n",
              "      <td>0</td>\n",
              "      <td>136</td>\n",
              "      <td>train</td>\n",
              "    </tr>\n",
              "    <tr>\n",
              "      <th>1158</th>\n",
              "      <td>1158</td>\n",
              "      <td>491</td>\n",
              "      <td>What can I do about my fiancé putting his fami...</td>\n",
              "      <td>My fiancé of 15 years is always helping out hi...</td>\n",
              "      <td>https://counselchat.com/questions/what-can-i-d...</td>\n",
              "      <td>3</td>\n",
              "      <td>Sherry Katz, LCSWCouples and Family Therapist,...</td>\n",
              "      <td>https://counselchat.com/therapists/sherry-katz...</td>\n",
              "      <td>Congrats on your upcoming wedding!Have you tol...</td>\n",
              "      <td>0</td>\n",
              "      <td>140</td>\n",
              "      <td>train</td>\n",
              "    </tr>\n",
              "    <tr>\n",
              "      <th>281</th>\n",
              "      <td>281</td>\n",
              "      <td>92</td>\n",
              "      <td>How can I deal with my posttraumatic stress di...</td>\n",
              "      <td>I feel angry, anxious, and depressed. The PTSD...</td>\n",
              "      <td>https://counselchat.com/questions/how-can-i-de...</td>\n",
              "      <td>1</td>\n",
              "      <td>Candice Conroy, MAFind relief from anxiety, de...</td>\n",
              "      <td>https://counselchat.com/therapists/candice-con...</td>\n",
              "      <td>If the symptoms are to the extent that they ar...</td>\n",
              "      <td>0</td>\n",
              "      <td>47</td>\n",
              "      <td>train</td>\n",
              "    </tr>\n",
              "    <tr>\n",
              "      <th>471</th>\n",
              "      <td>471</td>\n",
              "      <td>170</td>\n",
              "      <td>How is it that I fear going to sleep?</td>\n",
              "      <td>I just about fall asleep then I can't help but...</td>\n",
              "      <td>https://counselchat.com/questions/how-is-it-th...</td>\n",
              "      <td>4</td>\n",
              "      <td>Sherry Katz, LCSWCouples and Family Therapist,...</td>\n",
              "      <td>https://counselchat.com/therapists/sherry-katz...</td>\n",
              "      <td>Maybe you are afraid to let go of your problem...</td>\n",
              "      <td>0</td>\n",
              "      <td>712</td>\n",
              "      <td>train</td>\n",
              "    </tr>\n",
              "  </tbody>\n",
              "</table>\n",
              "<p>575 rows × 12 columns</p>\n",
              "</div>"
            ],
            "text/plain": [
              "      Unnamed: 0  questionID  ... views  split\n",
              "1619        1619         727  ...   268  train\n",
              "251          251          70  ...    29  train\n",
              "537          537         205  ...    58    val\n",
              "682          682         255  ...    63  train\n",
              "1374        1374         598  ...    16  train\n",
              "...          ...         ...  ...   ...    ...\n",
              "1572        1572         702  ...    44  train\n",
              "262          262          81  ...   136  train\n",
              "1158        1158         491  ...   140  train\n",
              "281          281          92  ...    47  train\n",
              "471          471         170  ...   712  train\n",
              "\n",
              "[575 rows x 12 columns]"
            ]
          },
          "metadata": {},
          "execution_count": 17
        }
      ]
    },
    {
      "cell_type": "code",
      "metadata": {
        "id": "TrE_9dSEx4wJ"
      },
      "source": [
        "batch_1 = filtered_df2"
      ],
      "execution_count": null,
      "outputs": []
    },
    {
      "cell_type": "code",
      "metadata": {
        "id": "jdN4foXBwiqX"
      },
      "source": [
        "#Our first step is to tokenize the sentences -- break them up into word and subwords in the format BERT is comfortable with\n",
        "tokenized = batch_1['questionTitle'].apply((lambda x: tokenizer.encode(x,max_length=512, add_special_tokens=True,truncation=True)))"
      ],
      "execution_count": null,
      "outputs": []
    },
    {
      "cell_type": "code",
      "metadata": {
        "id": "MBZV40QK2chT"
      },
      "source": [
        "# Padding\n",
        "import numpy as np \n",
        "\n",
        "#After tokenization, tokenized is a list of sentences -- each sentences is represented as a list of tokens. \n",
        "#We want BERT to process our examples all at once (as one batch). It's just faster that way. For that reason, \n",
        "#we need to pad all lists to the same size, so we can represent the input as one 2-d array,\n",
        "#rather than a list of lists (of different lengths).\n",
        "max_len = 0\n",
        "for i in tokenized.values:\n",
        "    if len(i) > max_len:\n",
        "        max_len = len(i)\n",
        "\n",
        "padded = np.array([i + [0]*(max_len-len(i)) for i in tokenized.values])"
      ],
      "execution_count": null,
      "outputs": []
    },
    {
      "cell_type": "code",
      "metadata": {
        "colab": {
          "base_uri": "https://localhost:8080/"
        },
        "id": "E8nQErUK3A0g",
        "outputId": "c0d163f5-60a6-4cbd-ca7a-5277f4e34fc2"
      },
      "source": [
        "np.array(padded).shape"
      ],
      "execution_count": null,
      "outputs": [
        {
          "output_type": "execute_result",
          "data": {
            "text/plain": [
              "(575, 33)"
            ]
          },
          "metadata": {},
          "execution_count": 21
        }
      ]
    },
    {
      "cell_type": "code",
      "metadata": {
        "colab": {
          "base_uri": "https://localhost:8080/",
          "height": 287
        },
        "id": "e7152n1-3I50",
        "outputId": "f6b2b45e-1073-4f3c-9e0e-8b4b832f83ca"
      },
      "source": [
        "#Our dataset is now in the padded variable, we can view its dimensions below:\n",
        "import matplotlib.pyplot as plt\n",
        "plt.pcolormesh(padded>0)\n",
        "plt.colorbar()"
      ],
      "execution_count": null,
      "outputs": [
        {
          "output_type": "execute_result",
          "data": {
            "text/plain": [
              "<matplotlib.colorbar.Colorbar at 0x7f827d51e590>"
            ]
          },
          "metadata": {},
          "execution_count": 22
        },
        {
          "output_type": "display_data",
          "data": {
            "image/png": "[encoded data removed]",
            "text/plain": [
              "<Figure size 432x288 with 2 Axes>"
            ]
          },
          "metadata": {
            "needs_background": "light"
          }
        }
      ]
    },
    {
      "cell_type": "code",
      "metadata": {
        "colab": {
          "base_uri": "https://localhost:8080/"
        },
        "id": "HoDuPguL3flS",
        "outputId": "75bcd49e-3f44-4721-da22-b4cce5887730"
      },
      "source": [
        "# masking\n",
        "\n",
        "#If we directly send padded to BERT, that would slightly confuse it.\n",
        "#We need to create another variable to tell it to ignore (mask) the padding we've added when it's processing its input. \n",
        "#That's what attention_mask is:\n",
        "attention_mask = np.where(padded != 0, 1, 0)\n",
        "attention_mask.shape"
      ],
      "execution_count": null,
      "outputs": [
        {
          "output_type": "execute_result",
          "data": {
            "text/plain": [
              "(575, 33)"
            ]
          },
          "metadata": {},
          "execution_count": 23
        }
      ]
    },
    {
      "cell_type": "markdown",
      "metadata": {
        "id": "XmZfkn604Xwf"
      },
      "source": [
        "# training BERT"
      ]
    },
    {
      "cell_type": "code",
      "metadata": {
        "colab": {
          "base_uri": "https://localhost:8080/"
        },
        "id": "cvoBmgxa4cqY",
        "outputId": "5f281090-ef37-401d-cd2f-1dbd930dba0e"
      },
      "source": [
        "%%time\n",
        "import torch \n",
        "input_ids = torch.tensor(padded)  \n",
        "attention_mask = torch.tensor(attention_mask)\n",
        "\n",
        "with torch.no_grad():\n",
        "    last_hidden_states = model(input_ids, attention_mask=attention_mask)"
      ],
      "execution_count": null,
      "outputs": [
        {
          "output_type": "stream",
          "name": "stdout",
          "text": [
            "CPU times: user 59 s, sys: 747 ms, total: 59.7 s\n",
            "Wall time: 29.8 s\n"
          ]
        }
      ]
    },
    {
      "cell_type": "code",
      "metadata": {
        "colab": {
          "base_uri": "https://localhost:8080/"
        },
        "id": "msfLWoBuEBpF",
        "outputId": "4b0fe63e-ff0b-4ae3-b22a-7b14889680f9"
      },
      "source": [
        "features = last_hidden_states[0][:,0,:].numpy()\n",
        "labels = batch_1['topic']\n",
        "last_hidden_states[0][:, 0, :].shape"
      ],
      "execution_count": null,
      "outputs": [
        {
          "output_type": "execute_result",
          "data": {
            "text/plain": [
              "torch.Size([575, 768])"
            ]
          },
          "metadata": {},
          "execution_count": 26
        }
      ]
    },
    {
      "cell_type": "code",
      "metadata": {
        "id": "blPzJyvhEO7u"
      },
      "source": [
        "# train /test \n",
        "from sklearn.model_selection import train_test_split\n",
        "from sklearn.linear_model import LogisticRegression\n",
        "from sklearn.model_selection import GridSearchCV\n",
        "from sklearn.model_selection import cross_val_score\n",
        "train_features, test_features, train_labels, test_labels = train_test_split(features, labels)"
      ],
      "execution_count": null,
      "outputs": []
    },
    {
      "cell_type": "code",
      "metadata": {
        "colab": {
          "base_uri": "https://localhost:8080/"
        },
        "id": "GA60Wpfyh986",
        "outputId": "25b64869-819f-4b5c-9d52-d8d05f85b428"
      },
      "source": [
        "# check the balance\n",
        "#train\n",
        "print (train_labels.value_counts())"
      ],
      "execution_count": null,
      "outputs": [
        {
          "output_type": "stream",
          "name": "stdout",
          "text": [
            "1    97\n",
            "2    76\n",
            "3    75\n",
            "4    71\n",
            "5    43\n",
            "6    39\n",
            "7    30\n",
            "Name: topic, dtype: int64\n"
          ]
        }
      ]
    },
    {
      "cell_type": "code",
      "metadata": {
        "colab": {
          "base_uri": "https://localhost:8080/"
        },
        "id": "5htELghciI3P",
        "outputId": "60f70aa9-4a32-4f6d-d94b-23115dec308a"
      },
      "source": [
        "# check the balance tes \n",
        "# check the balance\n",
        "print (test_labels.value_counts())"
      ],
      "execution_count": null,
      "outputs": [
        {
          "output_type": "stream",
          "name": "stdout",
          "text": [
            "1    35\n",
            "3    25\n",
            "2    25\n",
            "4    17\n",
            "6    15\n",
            "5    15\n",
            "7    12\n",
            "Name: topic, dtype: int64\n"
          ]
        }
      ]
    },
    {
      "cell_type": "markdown",
      "metadata": {
        "id": "5tomlnyBizA3"
      },
      "source": [
        "#Random Forest Classifier"
      ]
    },
    {
      "cell_type": "code",
      "metadata": {
        "id": "i-wt3I8OipLe"
      },
      "source": [
        "from sklearn import feature_extraction, model_selection, naive_bayes, pipeline, manifold, preprocessing\n",
        "from sklearn.ensemble import RandomForestClassifier\n",
        "classifier = RandomForestClassifier()\n",
        "\n",
        "## pipeline\n",
        "model = pipeline.Pipeline([  \n",
        "                           (\"classifier\", classifier)])\n",
        "## train classifier\n",
        "model[\"classifier\"].fit(train_features,train_labels)\n",
        "## test\n",
        "\n",
        "predicted = model.predict(test_features)\n",
        "predicted_prob = model.predict_proba(test_features)"
      ],
      "execution_count": null,
      "outputs": []
    },
    {
      "cell_type": "code",
      "metadata": {
        "colab": {
          "base_uri": "https://localhost:8080/"
        },
        "id": "k4blqsYxlNit",
        "outputId": "bedb15d3-9c0c-4d06-d450-e988774aca1d"
      },
      "source": [
        "# evaluating random forest\n",
        "import sklearn.metrics as metrics\n",
        "\n",
        "classes = np.unique(test_labels)\n",
        "y_test_array = pd.get_dummies(test_labels, drop_first=False).values\n",
        "    \n",
        "## Accuracy, Precision, Recall\n",
        "accuracy = metrics.accuracy_score(test_labels, predicted)\n",
        "auc = metrics.roc_auc_score(test_labels, predicted_prob, \n",
        "                            multi_class=\"ovr\")\n",
        "print(\"Accuracy:\",  round(accuracy,2))\n",
        "print(\"Auc:\", round(auc,2))\n",
        "print(\"Detail:\")\n",
        "print(metrics.classification_report(test_labels, predicted))    "
      ],
      "execution_count": null,
      "outputs": [
        {
          "output_type": "stream",
          "name": "stdout",
          "text": [
            "Accuracy: 0.35\n",
            "Auc: 0.74\n",
            "Detail:\n",
            "              precision    recall  f1-score   support\n",
            "\n",
            "           1       0.38      0.66      0.48        35\n",
            "           2       0.34      0.48      0.40        25\n",
            "           3       0.31      0.32      0.31        25\n",
            "           4       0.27      0.24      0.25        17\n",
            "           5       0.67      0.13      0.22        15\n",
            "           6       0.50      0.13      0.21        15\n",
            "           7       0.00      0.00      0.00        12\n",
            "\n",
            "    accuracy                           0.35       144\n",
            "   macro avg       0.35      0.28      0.27       144\n",
            "weighted avg       0.36      0.35      0.31       144\n",
            "\n"
          ]
        },
        {
          "output_type": "stream",
          "name": "stderr",
          "text": [
            "/usr/local/lib/python3.7/dist-packages/sklearn/metrics/_classification.py:1272: UndefinedMetricWarning: Precision and F-score are ill-defined and being set to 0.0 in labels with no predicted samples. Use `zero_division` parameter to control this behavior.\n",
            "  _warn_prf(average, modifier, msg_start, len(result))\n"
          ]
        }
      ]
    },
    {
      "cell_type": "code",
      "metadata": {
        "colab": {
          "base_uri": "https://localhost:8080/"
        },
        "id": "R21vranvoY_I",
        "outputId": "542238c0-5f9d-4523-e28d-7e5f6102dc54"
      },
      "source": [
        "# cross vlidation evaluating random forest\n",
        "from numpy import mean , std\n",
        "from sklearn.model_selection import cross_val_score\n",
        "from sklearn.model_selection import KFold\n",
        "# prepare the cross-validation procedure\n",
        "cv = KFold(n_splits=10, random_state=1, shuffle=True)\n",
        "# create model\n",
        "model = LogisticRegression()\n",
        "# evaluate model\n",
        "scores = cross_val_score(model, train_features, train_labels, scoring='accuracy', cv=cv, n_jobs=-1)\n",
        "# report performance\n",
        "print('Accuracy: %.3f (%.3f)' % (mean(scores), std(scores)))\n"
      ],
      "execution_count": null,
      "outputs": [
        {
          "output_type": "stream",
          "name": "stdout",
          "text": [
            "Accuracy: 0.513 (0.065)\n"
          ]
        }
      ]
    },
    {
      "cell_type": "code",
      "metadata": {
        "colab": {
          "base_uri": "https://localhost:8080/"
        },
        "id": "Z2OQQCP8qI3g",
        "outputId": "fe8f2084-061a-4c25-cff0-54b3610e3667"
      },
      "source": [
        "model.fit(train_features, train_labels)\n",
        "model.score(test_features, test_labels)"
      ],
      "execution_count": null,
      "outputs": [
        {
          "output_type": "stream",
          "name": "stderr",
          "text": [
            "/usr/local/lib/python3.7/dist-packages/sklearn/linear_model/_logistic.py:940: ConvergenceWarning: lbfgs failed to converge (status=1):\n",
            "STOP: TOTAL NO. of ITERATIONS REACHED LIMIT.\n",
            "\n",
            "Increase the number of iterations (max_iter) or scale the data as shown in:\n",
            "    https://scikit-learn.org/stable/modules/preprocessing.html\n",
            "Please also refer to the documentation for alternative solver options:\n",
            "    https://scikit-learn.org/stable/modules/linear_model.html#logistic-regression\n",
            "  extra_warning_msg=_LOGISTIC_SOLVER_CONVERGENCE_MSG)\n"
          ]
        },
        {
          "output_type": "execute_result",
          "data": {
            "text/plain": [
              "0.4791666666666667"
            ]
          },
          "metadata": {},
          "execution_count": 84
        }
      ]
    },
    {
      "cell_type": "markdown",
      "metadata": {
        "id": "DbNyTsY2iuI4"
      },
      "source": [
        "#logistic regression"
      ]
    },
    {
      "cell_type": "code",
      "metadata": {
        "colab": {
          "base_uri": "https://localhost:8080/"
        },
        "id": "XEjrKKcHE45N",
        "outputId": "c1a4de24-9469-481a-8324-e9126a1d1fa4"
      },
      "source": [
        "lr_clf = LogisticRegression()\n",
        "lr_clf.fit(train_features, train_labels)"
      ],
      "execution_count": null,
      "outputs": [
        {
          "name": "stderr",
          "output_type": "stream",
          "text": [
            "/usr/local/lib/python3.7/dist-packages/sklearn/linear_model/_logistic.py:940: ConvergenceWarning: lbfgs failed to converge (status=1):\n",
            "STOP: TOTAL NO. of ITERATIONS REACHED LIMIT.\n",
            "\n",
            "Increase the number of iterations (max_iter) or scale the data as shown in:\n",
            "    https://scikit-learn.org/stable/modules/preprocessing.html\n",
            "Please also refer to the documentation for alternative solver options:\n",
            "    https://scikit-learn.org/stable/modules/linear_model.html#logistic-regression\n",
            "  extra_warning_msg=_LOGISTIC_SOLVER_CONVERGENCE_MSG)\n"
          ]
        },
        {
          "data": {
            "text/plain": [
              "LogisticRegression(C=1.0, class_weight=None, dual=False, fit_intercept=True,\n",
              "                   intercept_scaling=1, l1_ratio=None, max_iter=100,\n",
              "                   multi_class='auto', n_jobs=None, penalty='l2',\n",
              "                   random_state=None, solver='lbfgs', tol=0.0001, verbose=0,\n",
              "                   warm_start=False)"
            ]
          },
          "execution_count": 24,
          "metadata": {},
          "output_type": "execute_result"
        }
      ]
    },
    {
      "cell_type": "code",
      "metadata": {
        "colab": {
          "base_uri": "https://localhost:8080/"
        },
        "id": "7h1CdyBnFAJX",
        "outputId": "961ada3c-9fde-4a89-c334-d99e25889fa2"
      },
      "source": [
        "lr_clf.score(test_features, test_labels)"
      ],
      "execution_count": null,
      "outputs": [
        {
          "data": {
            "text/plain": [
              "0.5555555555555556"
            ]
          },
          "execution_count": 25,
          "metadata": {},
          "output_type": "execute_result"
        }
      ]
    },
    {
      "cell_type": "code",
      "metadata": {
        "colab": {
          "base_uri": "https://localhost:8080/"
        },
        "id": "sGHM9PCqLMRG",
        "outputId": "51610158-22bd-4eb8-8349-c1b938225937"
      },
      "source": [
        "from sklearn.metrics import confusion_matrix \n",
        "y_pred=lr_clf.predict(test_features)\n",
        "cmat = confusion_matrix(test_labels, y_pred) \n",
        "cmat "
      ],
      "execution_count": null,
      "outputs": [
        {
          "data": {
            "text/plain": [
              "array([[23,  0,  0,  4,  2,  1,  1],\n",
              "       [ 3, 19, 10,  1,  0,  0,  0],\n",
              "       [ 2,  9,  8,  1,  1,  2,  1],\n",
              "       [ 3,  1,  4, 11,  0,  0,  1],\n",
              "       [ 2,  2,  2,  2,  6,  1,  0],\n",
              "       [ 1,  0,  0,  0,  1,  9,  0],\n",
              "       [ 3,  0,  0,  2,  1,  0,  4]])"
            ]
          },
          "execution_count": 26,
          "metadata": {},
          "output_type": "execute_result"
        }
      ]
    },
    {
      "cell_type": "code",
      "metadata": {
        "colab": {
          "base_uri": "https://localhost:8080/"
        },
        "id": "yV3WA1W_LpZj",
        "outputId": "dd4f229f-904b-4747-e2c6-a82fe7b5ff72"
      },
      "source": [
        "cmat.diagonal()/cmat.sum(axis=1) "
      ],
      "execution_count": null,
      "outputs": [
        {
          "data": {
            "text/plain": [
              "array([0.74193548, 0.57575758, 0.33333333, 0.55      , 0.4       ,\n",
              "       0.81818182, 0.4       ])"
            ]
          },
          "execution_count": 27,
          "metadata": {},
          "output_type": "execute_result"
        }
      ]
    },
    {
      "cell_type": "markdown",
      "metadata": {
        "id": "9Qaf1Ih4WcwF"
      },
      "source": [
        "#Tune logistic regression \n"
      ]
    },
    {
      "cell_type": "code",
      "metadata": {
        "colab": {
          "base_uri": "https://localhost:8080/"
        },
        "id": "GplMXozRXIyg",
        "outputId": "29ee49d2-f273-4627-a9a5-8dca9a215d89"
      },
      "source": [
        "# Create first pipeline for base without reducing features.\n",
        "from sklearn.pipeline import Pipeline\n",
        "from sklearn.linear_model import LogisticRegression\n",
        "from sklearn.ensemble import RandomForestClassifier\n",
        "\n",
        "pipe = Pipeline([('classifier' , RandomForestClassifier())])\n",
        "# pipe = Pipeline([('classifier', RandomForestClassifier())])\n",
        "\n",
        "# Create param grid.\n",
        "\n",
        "param_grid = [\n",
        "    {'classifier' : [LogisticRegression()],\n",
        "     'classifier__penalty' : ['l1', 'l2'],\n",
        "    'classifier__C' : np.logspace(-4, 4, 20),\n",
        "    'classifier__solver' : ['liblinear']},\n",
        "    {'classifier' : [RandomForestClassifier()],\n",
        "    'classifier__n_estimators' : list(range(10,101,10)),\n",
        "    'classifier__max_features' : list(range(6,32,5))}\n",
        "]\n",
        "\n",
        "# Create grid search object\n",
        "\n",
        "clf = GridSearchCV(pipe, param_grid = param_grid, cv = 5, verbose=True, n_jobs=-1)\n",
        "\n",
        "# Fit on data\n",
        "\n",
        "best_clf = clf.fit(train_features,train_labels)"
      ],
      "execution_count": null,
      "outputs": [
        {
          "output_type": "stream",
          "name": "stdout",
          "text": [
            "Fitting 5 folds for each of 100 candidates, totalling 500 fits\n"
          ]
        },
        {
          "output_type": "stream",
          "name": "stderr",
          "text": [
            "[Parallel(n_jobs=-1)]: Using backend LokyBackend with 4 concurrent workers.\n",
            "[Parallel(n_jobs=-1)]: Done  76 tasks      | elapsed:    2.5s\n",
            "[Parallel(n_jobs=-1)]: Done 252 tasks      | elapsed:   24.9s\n",
            "[Parallel(n_jobs=-1)]: Done 500 out of 500 | elapsed:   52.0s finished\n"
          ]
        }
      ]
    },
    {
      "cell_type": "code",
      "metadata": {
        "colab": {
          "base_uri": "https://localhost:8080/"
        },
        "id": "5qslAQSScmQ_",
        "outputId": "daf0bcc9-b418-4a5c-e82e-b592a82f1bb2"
      },
      "source": [
        "best_clf.best_estimator_.get_params()['classifier']"
      ],
      "execution_count": null,
      "outputs": [
        {
          "output_type": "execute_result",
          "data": {
            "text/plain": [
              "LogisticRegression(C=1.623776739188721, class_weight=None, dual=False,\n",
              "                   fit_intercept=True, intercept_scaling=1, l1_ratio=None,\n",
              "                   max_iter=100, multi_class='auto', n_jobs=None, penalty='l1',\n",
              "                   random_state=None, solver='liblinear', tol=0.0001, verbose=0,\n",
              "                   warm_start=False)"
            ]
          },
          "metadata": {},
          "execution_count": 86
        }
      ]
    },
    {
      "cell_type": "code",
      "metadata": {
        "colab": {
          "base_uri": "https://localhost:8080/"
        },
        "id": "k2j-bRa3X58Y",
        "outputId": "0128624e-6564-42cc-f50f-2af1bbcc81cd"
      },
      "source": [
        "from sklearn import metrics\n",
        "classes = best_clf.predict(test_features)\n",
        "accuracy = metrics.accuracy_score(classes, test_labels)\n",
        "    \n",
        "#balanced_accuracy = metrics.balanced_accuracy_score(classes, test_labels)\n",
        "\n",
        "\n",
        "print(metrics.classification_report(classes,test_labels))"
      ],
      "execution_count": null,
      "outputs": [
        {
          "output_type": "stream",
          "name": "stdout",
          "text": [
            "              precision    recall  f1-score   support\n",
            "\n",
            "           1       0.69      0.57      0.62        42\n",
            "           2       0.36      0.45      0.40        20\n",
            "           3       0.36      0.31      0.33        29\n",
            "           4       0.47      0.40      0.43        20\n",
            "           5       0.47      0.44      0.45        16\n",
            "           6       0.47      0.64      0.54        11\n",
            "           7       0.00      0.00      0.00         6\n",
            "\n",
            "    accuracy                           0.44       144\n",
            "   macro avg       0.40      0.40      0.40       144\n",
            "weighted avg       0.48      0.44      0.46       144\n",
            "\n"
          ]
        }
      ]
    },
    {
      "cell_type": "code",
      "metadata": {
        "colab": {
          "base_uri": "https://localhost:8080/"
        },
        "id": "OKsETHrBY0q_",
        "outputId": "0e7b583e-981d-460e-a4a5-805a95f5f8b7"
      },
      "source": [
        "accuracy"
      ],
      "execution_count": null,
      "outputs": [
        {
          "output_type": "execute_result",
          "data": {
            "text/plain": [
              "0.4444444444444444"
            ]
          },
          "metadata": {},
          "execution_count": 92
        }
      ]
    },
    {
      "cell_type": "markdown",
      "metadata": {
        "id": "x8BQjOcJZEVu"
      },
      "source": [
        "# try scaling"
      ]
    },
    {
      "cell_type": "code",
      "metadata": {
        "colab": {
          "base_uri": "https://localhost:8080/"
        },
        "id": "efaujnJUZIzE",
        "outputId": "d64a7092-526e-4332-ac7f-d47be87b7987"
      },
      "source": [
        "# Normalize using MinMaxScaler to constrain values to between 0 and 1.\n",
        "from sklearn.preprocessing import MinMaxScaler, StandardScaler, LabelEncoder\n",
        "scaler = StandardScaler(feature_range = (0,1))\n",
        "\n",
        "scaler.fit(train_features)\n",
        "X_train = scaler.transform(train_features)\n",
        "X_test = scaler.transform(test_features)\n",
        "\n",
        "lr_clf = LogisticRegression()\n",
        "lr_clf.fit(X_train, train_labels)\n",
        "\n",
        "lr_clf.score(X_test, test_labels)"
      ],
      "execution_count": null,
      "outputs": [
        {
          "name": "stderr",
          "output_type": "stream",
          "text": [
            "/usr/local/lib/python3.7/dist-packages/sklearn/linear_model/_logistic.py:940: ConvergenceWarning: lbfgs failed to converge (status=1):\n",
            "STOP: TOTAL NO. of ITERATIONS REACHED LIMIT.\n",
            "\n",
            "Increase the number of iterations (max_iter) or scale the data as shown in:\n",
            "    https://scikit-learn.org/stable/modules/preprocessing.html\n",
            "Please also refer to the documentation for alternative solver options:\n",
            "    https://scikit-learn.org/stable/modules/linear_model.html#logistic-regression\n",
            "  extra_warning_msg=_LOGISTIC_SOLVER_CONVERGENCE_MSG)\n"
          ]
        },
        {
          "data": {
            "text/plain": [
              "0.4861111111111111"
            ]
          },
          "execution_count": 45,
          "metadata": {},
          "output_type": "execute_result"
        }
      ]
    },
    {
      "cell_type": "markdown",
      "metadata": {
        "id": "dizlSCeCdR93"
      },
      "source": [
        "# scaling is bad here "
      ]
    },
    {
      "cell_type": "markdown",
      "metadata": {
        "id": "PpvxvXe5bCcf"
      },
      "source": [
        "# Retry with logistic regression from scratch"
      ]
    },
    {
      "cell_type": "code",
      "metadata": {
        "colab": {
          "base_uri": "https://localhost:8080/"
        },
        "id": "koc8XYIAak6B",
        "outputId": "ec472cb5-0911-4ed4-f193-cc9940265f6d"
      },
      "source": [
        "# Initial logistic regression\n",
        "\n",
        "from sklearn.linear_model import LogisticRegression\n",
        "\n",
        "clf = LogisticRegression(C=0.61)\n",
        "model_base = clf.fit(train_features, train_labels)\n",
        "\n",
        "y_pred = model_base.predict(test_features)\n",
        "model_base.score(test_features, test_labels)\n",
        "\n",
        "print(\"Model accuracy is\", model_base.score(test_features, test_labels))"
      ],
      "execution_count": null,
      "outputs": [
        {
          "name": "stdout",
          "output_type": "stream",
          "text": [
            "Model accuracy is 0.5555555555555556\n"
          ]
        },
        {
          "name": "stderr",
          "output_type": "stream",
          "text": [
            "/usr/local/lib/python3.7/dist-packages/sklearn/linear_model/_logistic.py:940: ConvergenceWarning: lbfgs failed to converge (status=1):\n",
            "STOP: TOTAL NO. of ITERATIONS REACHED LIMIT.\n",
            "\n",
            "Increase the number of iterations (max_iter) or scale the data as shown in:\n",
            "    https://scikit-learn.org/stable/modules/preprocessing.html\n",
            "Please also refer to the documentation for alternative solver options:\n",
            "    https://scikit-learn.org/stable/modules/linear_model.html#logistic-regression\n",
            "  extra_warning_msg=_LOGISTIC_SOLVER_CONVERGENCE_MSG)\n"
          ]
        }
      ]
    }
  ]
}